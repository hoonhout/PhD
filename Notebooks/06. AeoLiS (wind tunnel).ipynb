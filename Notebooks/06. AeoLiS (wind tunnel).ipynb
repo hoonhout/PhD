{
 "metadata": {
  "name": "",
  "signature": "sha256:d5d387c6776a82d81f26cf064fbafa6cee7cdaca2a83f50b8f87b36a3481f9c1"
 },
 "nbformat": 3,
 "nbformat_minor": 0,
 "worksheets": [
  {
   "cells": [
    {
     "cell_type": "code",
     "collapsed": false,
     "input": [
      "import os\n",
      "import glob\n",
      "import xray\n",
      "import aeolis\n",
      "import netCDF4\n",
      "import numpy as np\n",
      "import pandas as pd\n",
      "import matplotlib.pyplot as plt\n",
      "import matplotlib.cm"
     ],
     "language": "python",
     "metadata": {},
     "outputs": [],
     "prompt_number": 1
    },
    {
     "cell_type": "heading",
     "level": 1,
     "metadata": {},
     "source": [
      "Nickling 1995"
     ]
    },
    {
     "cell_type": "code",
     "collapsed": false,
     "input": [
      "s = [.018, .03, .06]\n",
      "o = [12.5, 15, 15]\n",
      "sigma = [3.4, 3.3, 2.4]\n",
      "beta = [36., 46., 53.]\n",
      "k = [0.00040256, 0.00087484, 0.00064264]\n",
      "\n",
      "root = '../Models/nickling1995/'\n",
      "\n",
      "if not os.path.exists(root):\n",
      "    os.mkdir(root)"
     ],
     "language": "python",
     "metadata": {},
     "outputs": [],
     "prompt_number": 28
    },
    {
     "cell_type": "heading",
     "level": 2,
     "metadata": {},
     "source": [
      "Bathy"
     ]
    },
    {
     "cell_type": "code",
     "collapsed": false,
     "input": [
      "x = np.arange(0., 4.5, .1)\n",
      "z = np.ones(x.shape)\n",
      "y = np.zeros(x.shape)\n",
      "\n",
      "print x.shape\n",
      "\n",
      "np.savetxt(os.path.join(root, 'x.txt'), np.matrix(x))\n",
      "np.savetxt(os.path.join(root, 'y.txt'), np.matrix(y))\n",
      "np.savetxt(os.path.join(root, 'z.txt'), np.matrix(z))"
     ],
     "language": "python",
     "metadata": {},
     "outputs": [
      {
       "output_type": "stream",
       "stream": "stdout",
       "text": [
        "(45,)\n"
       ]
      }
     ],
     "prompt_number": 29
    },
    {
     "cell_type": "heading",
     "level": 2,
     "metadata": {},
     "source": [
      "Grainsize distribution"
     ]
    },
    {
     "cell_type": "code",
     "collapsed": false,
     "input": [
      "tophi = lambda x: -np.log2(x/.001)\n",
      "fromphi = lambda x: .001 * 2**-x\n",
      "\n",
      "pdf = lambda x, mu, sigma: exp(-((x-mu)/sigma)**2)\n",
      "grain_size = np.arange(150, 1001., 50) * 1e-6\n",
      "grain_dist = pdf(tophi(grain_size), tophi(270e-6), .5)\n",
      "\n",
      "grain_size = np.append(grain_size, .018)\n",
      "grain_dist = np.append(grain_dist, 0.)\n",
      "\n",
      "plot(grain_size[:-1] * 1e6, grain_dist[:-1], '-ok')\n",
      "\n",
      "print ' '.join(['%0.6f' % gs for gs in grain_size])\n",
      "print ' '.join(['%0.6f' % gs for gs in grain_dist])\n",
      "print len(grain_size)"
     ],
     "language": "python",
     "metadata": {},
     "outputs": [
      {
       "output_type": "stream",
       "stream": "stdout",
       "text": [
        "0.000150 0.000200 0.000250 0.000300 0.000350 0.000400 0.000450 0.000500 0.000550 0.000600 0.000650 0.000700 0.000750 0.000800 0.000850 0.000900 0.000950 0.001000 0.018000\n",
        "0.056337 0.472454 0.951884 0.911722 0.570816 0.276335 0.113896 0.042381 0.014779 0.004950 0.001619 0.000523 0.000168 0.000054 0.000018 0.000006 0.000002 0.000001 0.000000\n",
        "19\n"
       ]
      },
      {
       "metadata": {},
       "output_type": "display_data",
       "png": "[encoded data removed]",
       "text": [
        "<matplotlib.figure.Figure at 0x116af39d0>"
       ]
      }
     ],
     "prompt_number": 30
    },
    {
     "cell_type": "heading",
     "level": 2,
     "metadata": {},
     "source": [
      "Boundary conditions"
     ]
    },
    {
     "cell_type": "code",
     "collapsed": false,
     "input": [
      "duration = 6600.\n",
      "\n",
      "np.savetxt(os.path.join(root, 'wind_constant.txt'), np.asarray([[0., 8., 0.],\n",
      "                                                                [duration, 8., 0.]]))\n",
      "\n",
      "np.savetxt(os.path.join(root, 'tide_constant.txt'), np.asarray([[0., 0.],\n",
      "                                                                [duration, 0.]]))"
     ],
     "language": "python",
     "metadata": {},
     "outputs": [],
     "prompt_number": 31
    },
    {
     "cell_type": "heading",
     "level": 2,
     "metadata": {},
     "source": [
      "Model setup"
     ]
    },
    {
     "cell_type": "code",
     "collapsed": false,
     "input": [
      "import aeolis\n",
      "\n",
      "p = dict(bed_file = 'z.txt',\n",
      "         bedupdate = False,\n",
      "         bi = 1.,\n",
      "         dt = 60.,\n",
      "         grain_size = grain_size,\n",
      "         grain_dist = grain_dist,\n",
      "         nfractions = len(grain_size),\n",
      "         nlayers = 20,\n",
      "         nx = 44,\n",
      "         ny = 0,\n",
      "         output_types = ['avg', 'var'],\n",
      "         output_times = 60.,\n",
      "         output_vars = ['Ct', 'Cu', 'pickup', 'mass', 'tau', 'uth'],\n",
      "         scheme = 'euler_backward',\n",
      "         tide_file = 'tide_constant.txt',\n",
      "         tstop = duration,\n",
      "         wind_file = 'wind_constant.txt',\n",
      "         xgrid_file = 'x.txt',\n",
      "         ygrid_file = 'y.txt',\n",
      "         th_roughness = True,\n",
      "         layer_thickness = .0002,\n",
      "         T = .1,\n",
      "         m = 1.,\n",
      "         z = .25)"
     ],
     "language": "python",
     "metadata": {},
     "outputs": [],
     "prompt_number": 35
    },
    {
     "cell_type": "code",
     "collapsed": false,
     "input": [
      "for i in range(3):\n",
      "    p.update({'sigma':sigma[i],\n",
      "              'beta':beta[i],\n",
      "              'k':k[i]})\n",
      "    configfile = os.path.join(root, 'nickling1995_s%0.4f.txt' % s[i])\n",
      "    aeolis.inout.write_configfile(configfile, p=p)"
     ],
     "language": "python",
     "metadata": {},
     "outputs": [],
     "prompt_number": 36
    },
    {
     "cell_type": "heading",
     "level": 2,
     "metadata": {},
     "source": [
      "Callback"
     ]
    },
    {
     "cell_type": "code",
     "collapsed": false,
     "input": [
      "def add_marbles(model, s):\n",
      "    t = model.get_current_time()\n",
      "    \n",
      "    if t == 0:\n",
      "        R = .009\n",
      "        mass = model.get_var('mass')\n",
      "        n = mass.shape[2]\n",
      "        for i in range(1, n):\n",
      "            z = i * .0002\n",
      "            Ri = R * np.sin(np.arccos(np.maximum(-1.,(R-z)/R)))\n",
      "            p = np.pi * Ri**2 / s**2\n",
      "            if p > 1e-10:\n",
      "                mass[:,:,i, -1] = mass[:,:,i,:].sum(axis=2) * p\n",
      "                mass[:,:,i,:-1] = mass[:,:,i,:-1] * (1 - p)\n",
      "            \n",
      "        model.set_var('mass', mass)"
     ],
     "language": "python",
     "metadata": {},
     "outputs": [],
     "prompt_number": 37
    },
    {
     "cell_type": "heading",
     "level": 2,
     "metadata": {},
     "source": [
      "Run models"
     ]
    },
    {
     "cell_type": "code",
     "collapsed": false,
     "input": [
      "cwd = os.getcwd()\n",
      "for i in range(3):\n",
      "    model = aeolis.model.AeoLiSRunner(os.path.join(root, 'nickling1995_s%0.4f.txt' % s[i]))\n",
      "    model.run(callback=lambda model: add_marbles(model, s[i]))\n",
      "    os.chdir(cwd)"
     ],
     "language": "python",
     "metadata": {},
     "outputs": [
      {
       "output_type": "stream",
       "stream": "stdout",
       "text": [
        "**********************************************************\n",
        "                                                          \n",
        "         d8888                   888      d8b  .d8888b.   \n",
        "        d88888                   888      Y8P d88P  Y88b  \n",
        "       d88P888                   888          Y88b.       \n",
        "      d88P 888  .d88b.   .d88b.  888      888  \"Y888b.    \n",
        "     d88P  888 d8P  Y8b d88\"\"88b 888      888     \"Y88b.  \n",
        "    d88P   888 88888888 888  888 888      888       \"888  \n",
        "   d8888888888 Y8b.     Y88..88P 888      888 Y88b  d88P  \n",
        "  d88P     888  \"Y8888   \"Y88P\"  88888888 888  \"Y8888P\"   \n",
        "                                                          \n",
        "**********************************************************\n",
        "PARAMETER SETTINGS                                        \n",
        "**********************************************************\n",
        "                  A = 0.085000\n",
        "                CFL = 1.00\n",
        "                 Cb = 1.50\n",
        "                  T = 0.100000\n",
        "               Tdry = 5400.00\n",
        "              Tsalt = 2592000.00\n",
        "             accfac = 1.00\n",
        "           bed_file = z.txt\n",
        "       bedcomp_file = <novalue>\n",
        "          bedupdate = F\n",
        "               beta = 36.00\n",
        "                 bi = 1.00\n",
        "   boundary_lateral = circular\n",
        "  boundary_offshore = noflux\n",
        "   boundary_onshore = gradient\n",
        "           callback = <novalue>\n",
        "              cpair = 0.001004\n",
        "              csalt = 0.035000\n",
        "                 dt = 60.00\n",
        "                eps = 0.001000\n",
        "        evaporation = T\n",
        "             facDOD = 0.100000\n",
        "                  g = 9.81\n",
        "              gamma = 0.500000\n",
        "         grain_dist = 0.016483\n",
        "                      0.138228\n",
        "                      0.278496\n",
        "                      0.266746\n",
        "                      0.167006\n",
        "                      0.080848\n",
        "                      0.033323\n",
        "                      0.012400\n",
        "                      0.004324\n",
        "                      0.001448\n",
        "                      0.000474\n",
        "                      0.000153\n",
        "                      0.000049\n",
        "                      0.000016\n",
        "                      0.000005\n",
        "                      0.000002\n",
        "                      0.000001\n",
        "                      0.000000\n",
        "                      0.000000\n",
        "         grain_size = 0.000150\n",
        "                      0.000200\n",
        "                      0.000250\n",
        "                      0.000300\n",
        "                      0.000350\n",
        "                      0.000400\n",
        "                      0.000450\n",
        "                      0.000500\n",
        "                      0.000550\n",
        "                      0.000600\n",
        "                      0.000650\n",
        "                      0.000700\n",
        "                      0.000750\n",
        "                      0.000800\n",
        "                      0.000850\n",
        "                      0.000900\n",
        "                      0.000950\n",
        "                      0.001000\n",
        "                      0.018000\n",
        "                  h = 0.250000\n",
        "                  k = 0.000403\n",
        "    layer_thickness = 0.000200\n",
        "                  m = 1.00\n",
        "          mask_file = <novalue>\n",
        "          max_error = 0.000001\n",
        "           max_iter = 1000\n",
        "         meteo_file = <novalue>\n",
        "       method_moist = belly_johnson\n",
        "   method_transport = bagnold\n",
        "        mixtoplayer = T\n",
        "         nfractions = 19\n",
        "            nlayers = 20\n",
        "                 nx = 44\n",
        "                 ny = 0\n",
        "        output_file = /Users/hoonhout/GitHub/PhD/Data/aeolis/nickling1995/nickling1995_s0.0180.nc\n",
        "       output_times = 60.00\n",
        "       output_types = avg\n",
        "                      var\n",
        "        output_vars = Ct\n",
        "                      Cu\n",
        "                      pickup\n",
        "                      mass\n",
        "                      tau\n",
        "                      uth\n",
        "           porosity = 0.400000\n",
        "            restart = <novalue>\n",
        "               rhoa = 1.25\n",
        "               rhop = 2650.00\n",
        "               rhow = 1025.00\n",
        "              runup = F\n",
        "             scheme = euler_backward\n",
        "              sigma = 3.40\n",
        "        th_bedslope = F\n",
        "       th_grainsize = T\n",
        "        th_humidity = F\n",
        "        th_moisture = T\n",
        "       th_roughness = T\n",
        "            th_salt = F\n",
        "     threshold_file = <novalue>\n",
        "          tide_file = tide_constant.txt\n",
        "             tstart = 0.000000\n",
        "              tstop = 6600.00\n",
        "          wave_file = <novalue>\n",
        "          wind_file = wind_constant.txt\n",
        "         xgrid_file = x.txt\n",
        "                 xi = 0.300000\n",
        "         ygrid_file = y.txt\n",
        "                  z = 0.250000\n",
        "**********************************************************\n",
        "\n",
        "000.9%   0:00:00 / 0:00:18 / 0:00:18"
       ]
      },
      {
       "output_type": "stream",
       "stream": "stdout",
       "text": [
        "\n",
        "010.0%   0:00:01 / 0:00:15 / 0:00:13"
       ]
      },
      {
       "output_type": "stream",
       "stream": "stdout",
       "text": [
        "\n",
        "020.0%   0:00:03 / 0:00:16 / 0:00:13"
       ]
      },
      {
       "output_type": "stream",
       "stream": "stdout",
       "text": [
        "\n",
        "030.9%   0:00:06 / 0:00:18 / 0:00:12"
       ]
      },
      {
       "output_type": "stream",
       "stream": "stdout",
       "text": [
        "\n",
        "040.0%   0:00:07 / 0:00:18 / 0:00:11"
       ]
      },
      {
       "output_type": "stream",
       "stream": "stdout",
       "text": [
        "\n",
        "050.9%   0:00:10 / 0:00:19 / 0:00:09"
       ]
      },
      {
       "output_type": "stream",
       "stream": "stdout",
       "text": [
        "\n",
        "060.9%   0:00:12 / 0:00:19 / 0:00:07"
       ]
      },
      {
       "output_type": "stream",
       "stream": "stdout",
       "text": [
        "\n",
        "070.9%   0:00:14 / 0:00:19 / 0:00:06"
       ]
      },
      {
       "output_type": "stream",
       "stream": "stdout",
       "text": [
        "\n",
        "080.0%   0:00:15 / 0:00:19 / 0:00:04"
       ]
      },
      {
       "output_type": "stream",
       "stream": "stdout",
       "text": [
        "\n",
        "090.9%   0:00:17 / 0:00:19 / 0:00:02"
       ]
      },
      {
       "output_type": "stream",
       "stream": "stdout",
       "text": [
        "\n",
        "100.9%   0:00:19 / 0:00:19 / 0:00:00"
       ]
      },
      {
       "output_type": "stream",
       "stream": "stdout",
       "text": [
        "\n",
        "\n",
        "**********************************************************\n",
        "# time steps         : 777\n",
        "# matrix solves      : 25879\n",
        "# supply lim         : 0\n",
        "avg. solves per step : 33.31\n",
        "avg. time step       : 8.49\n",
        "**********************************************************\n",
        "\n",
        "**********************************************************\n",
        "                                                          \n",
        "         d8888                   888      d8b  .d8888b.   \n",
        "        d88888                   888      Y8P d88P  Y88b  \n",
        "       d88P888                   888          Y88b.       \n",
        "      d88P 888  .d88b.   .d88b.  888      888  \"Y888b.    \n",
        "     d88P  888 d8P  Y8b d88\"\"88b 888      888     \"Y88b.  \n",
        "    d88P   888 88888888 888  888 888      888       \"888  \n",
        "   d8888888888 Y8b.     Y88..88P 888      888 Y88b  d88P  \n",
        "  d88P     888  \"Y8888   \"Y88P\"  88888888 888  \"Y8888P\"   \n",
        "                                                          \n",
        "**********************************************************\n",
        "PARAMETER SETTINGS                                        \n",
        "**********************************************************\n",
        "                  A = 0.085000\n",
        "                CFL = 1.00\n",
        "                 Cb = 1.50\n",
        "                  T = 0.100000\n",
        "               Tdry = 5400.00\n",
        "              Tsalt = 2592000.00\n",
        "             accfac = 1.00\n",
        "           bed_file = z.txt\n",
        "       bedcomp_file = <novalue>\n",
        "          bedupdate = F\n",
        "               beta = 46.00\n",
        "                 bi = 1.00\n",
        "   boundary_lateral = circular\n",
        "  boundary_offshore = noflux\n",
        "   boundary_onshore = gradient\n",
        "           callback = <novalue>\n",
        "              cpair = 0.001004\n",
        "              csalt = 0.035000\n",
        "                 dt = 60.00\n",
        "                eps = 0.001000\n",
        "        evaporation = T\n",
        "             facDOD = 0.100000\n",
        "                  g = 9.81\n",
        "              gamma = 0.500000\n",
        "         grain_dist = 0.016483\n",
        "                      0.138228\n",
        "                      0.278496\n",
        "                      0.266746\n",
        "                      0.167006\n",
        "                      0.080848\n",
        "                      0.033323\n",
        "                      0.012400\n",
        "                      0.004324\n",
        "                      0.001448\n",
        "                      0.000474\n",
        "                      0.000153\n",
        "                      0.000049\n",
        "                      0.000016\n",
        "                      0.000005\n",
        "                      0.000002\n",
        "                      0.000001\n",
        "                      0.000000\n",
        "                      0.000000\n",
        "         grain_size = 0.000150\n",
        "                      0.000200\n",
        "                      0.000250\n",
        "                      0.000300\n",
        "                      0.000350\n",
        "                      0.000400\n",
        "                      0.000450\n",
        "                      0.000500\n",
        "                      0.000550\n",
        "                      0.000600\n",
        "                      0.000650\n",
        "                      0.000700\n",
        "                      0.000750\n",
        "                      0.000800\n",
        "                      0.000850\n",
        "                      0.000900\n",
        "                      0.000950\n",
        "                      0.001000\n",
        "                      0.018000\n",
        "                  h = 0.250000\n",
        "                  k = 0.000875\n",
        "    layer_thickness = 0.000200\n",
        "                  m = 1.00\n",
        "          mask_file = <novalue>\n",
        "          max_error = 0.000001\n",
        "           max_iter = 1000\n",
        "         meteo_file = <novalue>\n",
        "       method_moist = belly_johnson\n",
        "   method_transport = bagnold\n",
        "        mixtoplayer = T\n",
        "         nfractions = 19\n",
        "            nlayers = 20\n",
        "                 nx = 44\n",
        "                 ny = 0\n",
        "        output_file = /Users/hoonhout/GitHub/PhD/Data/aeolis/nickling1995/nickling1995_s0.0300.nc\n",
        "       output_times = 60.00\n",
        "       output_types = avg\n",
        "                      var\n",
        "        output_vars = Ct\n",
        "                      Cu\n",
        "                      pickup\n",
        "                      mass\n",
        "                      tau\n",
        "                      uth\n",
        "           porosity = 0.400000\n",
        "            restart = <novalue>\n",
        "               rhoa = 1.25\n",
        "               rhop = 2650.00\n",
        "               rhow = 1025.00\n",
        "              runup = F\n",
        "             scheme = euler_backward\n",
        "              sigma = 3.30\n",
        "        th_bedslope = F\n",
        "       th_grainsize = T\n",
        "        th_humidity = F\n",
        "        th_moisture = T\n",
        "       th_roughness = T\n",
        "            th_salt = F\n",
        "     threshold_file = <novalue>\n",
        "          tide_file = tide_constant.txt\n",
        "             tstart = 0.000000\n",
        "              tstop = 6600.00\n",
        "          wave_file = <novalue>\n",
        "          wind_file = wind_constant.txt\n",
        "         xgrid_file = x.txt\n",
        "                 xi = 0.300000\n",
        "         ygrid_file = y.txt\n",
        "                  z = 0.250000\n",
        "**********************************************************\n",
        "\n",
        "000.9%   0:00:00 / 0:00:51 / 0:00:50"
       ]
      },
      {
       "output_type": "stream",
       "stream": "stdout",
       "text": [
        "\n",
        "010.0%   0:00:02 / 0:00:22 / 0:00:20"
       ]
      },
      {
       "output_type": "stream",
       "stream": "stdout",
       "text": [
        "\n",
        "020.0%   0:00:04 / 0:00:18 / 0:00:14"
       ]
      },
      {
       "output_type": "stream",
       "stream": "stdout",
       "text": [
        "\n",
        "030.9%   0:00:05 / 0:00:16 / 0:00:11"
       ]
      },
      {
       "output_type": "stream",
       "stream": "stdout",
       "text": [
        "\n",
        "040.0%   0:00:06 / 0:00:15 / 0:00:09"
       ]
      },
      {
       "output_type": "stream",
       "stream": "stdout",
       "text": [
        "\n",
        "050.9%   0:00:08 / 0:00:15 / 0:00:07"
       ]
      },
      {
       "output_type": "stream",
       "stream": "stdout",
       "text": [
        "\n",
        "060.9%   0:00:09 / 0:00:15 / 0:00:06"
       ]
      },
      {
       "output_type": "stream",
       "stream": "stdout",
       "text": [
        "\n",
        "070.9%   0:00:10 / 0:00:14 / 0:00:04"
       ]
      },
      {
       "output_type": "stream",
       "stream": "stdout",
       "text": [
        "\n",
        "080.0%   0:00:12 / 0:00:15 / 0:00:03"
       ]
      },
      {
       "output_type": "stream",
       "stream": "stdout",
       "text": [
        "\n",
        "090.9%   0:00:13 / 0:00:15 / 0:00:01"
       ]
      },
      {
       "output_type": "stream",
       "stream": "stdout",
       "text": [
        "\n",
        "100.9%   0:00:15 / 0:00:15 / 0:00:00"
       ]
      },
      {
       "output_type": "stream",
       "stream": "stdout",
       "text": [
        "\n",
        "\n",
        "**********************************************************\n",
        "# time steps         : 888\n",
        "# matrix solves      : 30488\n",
        "# supply lim         : 0\n",
        "avg. solves per step : 34.33\n",
        "avg. time step       : 7.43\n",
        "**********************************************************\n",
        "\n",
        "**********************************************************\n",
        "                                                          \n",
        "         d8888                   888      d8b  .d8888b.   \n",
        "        d88888                   888      Y8P d88P  Y88b  \n",
        "       d88P888                   888          Y88b.       \n",
        "      d88P 888  .d88b.   .d88b.  888      888  \"Y888b.    \n",
        "     d88P  888 d8P  Y8b d88\"\"88b 888      888     \"Y88b.  \n",
        "    d88P   888 88888888 888  888 888      888       \"888  \n",
        "   d8888888888 Y8b.     Y88..88P 888      888 Y88b  d88P  \n",
        "  d88P     888  \"Y8888   \"Y88P\"  88888888 888  \"Y8888P\"   \n",
        "                                                          \n",
        "**********************************************************\n",
        "PARAMETER SETTINGS                                        \n",
        "**********************************************************\n",
        "                  A = 0.085000\n",
        "                CFL = 1.00\n",
        "                 Cb = 1.50\n",
        "                  T = 0.100000\n",
        "               Tdry = 5400.00\n",
        "              Tsalt = 2592000.00\n",
        "             accfac = 1.00\n",
        "           bed_file = z.txt\n",
        "       bedcomp_file = <novalue>\n",
        "          bedupdate = F\n",
        "               beta = 53.00\n",
        "                 bi = 1.00\n",
        "   boundary_lateral = circular\n",
        "  boundary_offshore = noflux\n",
        "   boundary_onshore = gradient\n",
        "           callback = <novalue>\n",
        "              cpair = 0.001004\n",
        "              csalt = 0.035000\n",
        "                 dt = 60.00\n",
        "                eps = 0.001000\n",
        "        evaporation = T\n",
        "             facDOD = 0.100000\n",
        "                  g = 9.81\n",
        "              gamma = 0.500000\n",
        "         grain_dist = 0.016483\n",
        "                      0.138228\n",
        "                      0.278496\n",
        "                      0.266746\n",
        "                      0.167006\n",
        "                      0.080848\n",
        "                      0.033323\n",
        "                      0.012400\n",
        "                      0.004324\n",
        "                      0.001448\n",
        "                      0.000474\n",
        "                      0.000153\n",
        "                      0.000049\n",
        "                      0.000016\n",
        "                      0.000005\n",
        "                      0.000002\n",
        "                      0.000001\n",
        "                      0.000000\n",
        "                      0.000000\n",
        "         grain_size = 0.000150\n",
        "                      0.000200\n",
        "                      0.000250\n",
        "                      0.000300\n",
        "                      0.000350\n",
        "                      0.000400\n",
        "                      0.000450\n",
        "                      0.000500\n",
        "                      0.000550\n",
        "                      0.000600\n",
        "                      0.000650\n",
        "                      0.000700\n",
        "                      0.000750\n",
        "                      0.000800\n",
        "                      0.000850\n",
        "                      0.000900\n",
        "                      0.000950\n",
        "                      0.001000\n",
        "                      0.018000\n",
        "                  h = 0.250000\n",
        "                  k = 0.000643\n",
        "    layer_thickness = 0.000200\n",
        "                  m = 1.00\n",
        "          mask_file = <novalue>\n",
        "          max_error = 0.000001\n",
        "           max_iter = 1000\n",
        "         meteo_file = <novalue>\n",
        "       method_moist = belly_johnson\n",
        "   method_transport = bagnold\n",
        "        mixtoplayer = T\n",
        "         nfractions = 19\n",
        "            nlayers = 20\n",
        "                 nx = 44\n",
        "                 ny = 0\n",
        "        output_file = /Users/hoonhout/GitHub/PhD/Data/aeolis/nickling1995/nickling1995_s0.0600.nc\n",
        "       output_times = 60.00\n",
        "       output_types = avg\n",
        "                      var\n",
        "        output_vars = Ct\n",
        "                      Cu\n",
        "                      pickup\n",
        "                      mass\n",
        "                      tau\n",
        "                      uth\n",
        "           porosity = 0.400000\n",
        "            restart = <novalue>\n",
        "               rhoa = 1.25\n",
        "               rhop = 2650.00\n",
        "               rhow = 1025.00\n",
        "              runup = F\n",
        "             scheme = euler_backward\n",
        "              sigma = 2.40\n",
        "        th_bedslope = F\n",
        "       th_grainsize = T\n",
        "        th_humidity = F\n",
        "        th_moisture = T\n",
        "       th_roughness = T\n",
        "            th_salt = F\n",
        "     threshold_file = <novalue>\n",
        "          tide_file = tide_constant.txt\n",
        "             tstart = 0.000000\n",
        "              tstop = 6600.00\n",
        "          wave_file = <novalue>\n",
        "          wind_file = wind_constant.txt\n",
        "         xgrid_file = x.txt\n",
        "                 xi = 0.300000\n",
        "         ygrid_file = y.txt\n",
        "                  z = 0.250000\n",
        "**********************************************************\n",
        "\n",
        "000.9%   0:00:00 / 0:00:27 / 0:00:27"
       ]
      },
      {
       "output_type": "stream",
       "stream": "stdout",
       "text": [
        "\n",
        "010.0%   0:00:02 / 0:00:20 / 0:00:18"
       ]
      },
      {
       "output_type": "stream",
       "stream": "stdout",
       "text": [
        "\n",
        "020.0%   0:00:04 / 0:00:20 / 0:00:16"
       ]
      },
      {
       "output_type": "stream",
       "stream": "stdout",
       "text": [
        "\n",
        "030.9%   0:00:06 / 0:00:19 / 0:00:13"
       ]
      },
      {
       "output_type": "stream",
       "stream": "stdout",
       "text": [
        "\n",
        "040.0%   0:00:07 / 0:00:19 / 0:00:11"
       ]
      },
      {
       "output_type": "stream",
       "stream": "stdout",
       "text": [
        "\n",
        "050.9%   0:00:10 / 0:00:19 / 0:00:09"
       ]
      },
      {
       "output_type": "stream",
       "stream": "stdout",
       "text": [
        "\n",
        "060.9%   0:00:12 / 0:00:19 / 0:00:08"
       ]
      },
      {
       "output_type": "stream",
       "stream": "stdout",
       "text": [
        "\n",
        "070.9%   0:00:14 / 0:00:19 / 0:00:06"
       ]
      },
      {
       "output_type": "stream",
       "stream": "stdout",
       "text": [
        "\n",
        "080.0%   0:00:15 / 0:00:19 / 0:00:04"
       ]
      },
      {
       "output_type": "stream",
       "stream": "stdout",
       "text": [
        "\n",
        "090.9%   0:00:17 / 0:00:18 / 0:00:02"
       ]
      },
      {
       "output_type": "stream",
       "stream": "stdout",
       "text": [
        "\n",
        "100.9%   0:00:18 / 0:00:18 / 0:00:00"
       ]
      },
      {
       "output_type": "stream",
       "stream": "stdout",
       "text": [
        "\n",
        "\n",
        "**********************************************************\n",
        "# time steps         : 999\n",
        "# matrix solves      : 33543\n",
        "# supply lim         : 0\n",
        "avg. solves per step : 33.58\n",
        "avg. time step       : 6.61\n",
        "**********************************************************\n",
        "\n"
       ]
      }
     ],
     "prompt_number": 39
    },
    {
     "cell_type": "heading",
     "level": 2,
     "metadata": {},
     "source": [
      "Analysis"
     ]
    },
    {
     "cell_type": "code",
     "collapsed": false,
     "input": [
      "import os\n",
      "import xray\n",
      "\n",
      "imgroot = '../Data/grainsize'\n",
      "\n",
      "fig, axs = plt.subplots(3, 1, figsize=(10,12))\n",
      "\n",
      "for i, ax0 in enumerate(axs):\n",
      "    img = imread(os.path.join(imgroot, 'nickling1995_%dmm.png' % (s[i] * 1000.)))\n",
      "    n = int(img.shape[0]/4.)\n",
      "    ax0.imshow(img[n:,:,:], alpha=.25, rasterized=True)\n",
      "    ax0.set_xticks(())\n",
      "    ax0.set_yticks(())\n",
      "    ax0.set_aspect('auto')\n",
      "\n",
      "    pos = ax0.get_position()\n",
      "    ax1 = fig.add_axes(pos)\n",
      "    ax1.set_axis_bgcolor('none')\n",
      "    ax1.set_ylabel('normalized sediment transport\\nat downwind end of the domain [-]')\n",
      "    if i == 2:\n",
      "        ax1.set_xlabel('time [min]')\n",
      "        \n",
      "    ax2 = ax1.twinx()\n",
      "    ax2.set_ylabel('$\\log{\\lambda}$')\n",
      "\n",
      "    fname = os.path.join(root, 'nickling1995_s%0.4f.nc' % s[i])\n",
      "    print fname\n",
      "    with xray.open_dataset(fname) as ds:\n",
      "        #ds = ds.resample('5min', 'time')\n",
      "        data = ds['Ct.avg'][:,0,-1,:].sum(axis=1)\n",
      "        data /= data.max()\n",
      "        t = ds['time.hour'] * 60. + ds['time.minute']\n",
      "\n",
      "        rd = ds['mass'][:,0,:,0,-1].mean(axis=1)/ds['mass'][:,0,:,0,:].mean(axis=1).sum(axis=1)\n",
      "\n",
      "        p1 = ax1.plot(t, data, '-k', linewidth=3, label='transport rate')\n",
      "        p2 = ax1.plot(t, data, '--k', linewidth=1, label='mass fraction') # for legend only\n",
      "        p3 = ax1.add_artist(Rectangle((0,0), 0, 0, color='k', alpha=.25, label='measurements'))\n",
      "        ax2.plot(t, np.log(rd/sigma[i]), '--k', linewidth=1, label='mass fraction')\n",
      "        \n",
      "    if i == 2:\n",
      "        ax1.legend(p1+p2+[p3], ('transport rate','roughness density','measurements'))\n",
      "    \n",
      "    ax1.set_xticks(np.arange(-o[i],101-o[i],20))    \n",
      "    ax1.set_xticklabels(range(0,101,20))\n",
      "    ax1.set_xlim((-o[i],100-o[i]))\n",
      "    ax1.set_ylim((0,1.5))\n",
      "    ax2.set_ylim((-4,0))\n",
      "\n",
      "    ax1.set_axis_bgcolor('none')\n",
      "    ax2.set_axis_bgcolor('w')\n",
      "    ax2.set_zorder(-10)\n",
      "    ax0.set_zorder(-20)\n",
      "    \n",
      "    ax0.set_title('marble grid spacing d = %d mm' % (s[i] * 1000.))\n",
      "    \n",
      "fig.savefig('../Figures/nickling1995_py.pdf')"
     ],
     "language": "python",
     "metadata": {},
     "outputs": [
      {
       "output_type": "stream",
       "stream": "stdout",
       "text": [
        "../Data/aeolis/nickling1995/nickling1995_s0.0180.nc\n",
        "../Data/aeolis/nickling1995/nickling1995_s0.0300.nc"
       ]
      },
      {
       "output_type": "stream",
       "stream": "stdout",
       "text": [
        "\n",
        "../Data/aeolis/nickling1995/nickling1995_s0.0600.nc"
       ]
      },
      {
       "output_type": "stream",
       "stream": "stdout",
       "text": [
        "\n"
       ]
      },
      {
       "metadata": {},
       "output_type": "display_data",
       "png": "[encoded data removed]",
       "text": [
        "<matplotlib.figure.Figure at 0x1163b2f90>"
       ]
      }
     ],
     "prompt_number": 40
    },
    {
     "cell_type": "heading",
     "level": 1,
     "metadata": {},
     "source": [
      "Dong 2004"
     ]
    },
    {
     "cell_type": "code",
     "collapsed": false,
     "input": [
      "root = '../Models/dong2004/'\n",
      "\n",
      "if not os.path.exists(root):\n",
      "    os.mkdir(root)"
     ],
     "language": "python",
     "metadata": {},
     "outputs": []
    },
    {
     "cell_type": "code",
     "collapsed": false,
     "input": [
      "data = np.loadtxt('../Data/dong2004/measurements.txt')\n",
      "meas = data[1:,1:] / 10. # convert from g/cm/s to kg/m/s\n",
      "meas[meas < 0.] = np.nan\n",
      "\n",
      "fig, axs = plt.subplots(1, 2)\n",
      "axs[0].plot(meas)\n",
      "axs[1].plot(meas.T)"
     ],
     "language": "python",
     "metadata": {},
     "outputs": [
      {
       "metadata": {},
       "output_type": "pyout",
       "prompt_number": 2,
       "text": [
        "[<matplotlib.lines.Line2D at 0x111535ed0>,\n",
        " <matplotlib.lines.Line2D at 0x111566550>,\n",
        " <matplotlib.lines.Line2D at 0x111566790>,\n",
        " <matplotlib.lines.Line2D at 0x111566950>,\n",
        " <matplotlib.lines.Line2D at 0x111566b10>,\n",
        " <matplotlib.lines.Line2D at 0x111566cd0>,\n",
        " <matplotlib.lines.Line2D at 0x111566e90>,\n",
        " <matplotlib.lines.Line2D at 0x1114f7e90>]"
       ]
      },
      {
       "metadata": {},
       "output_type": "display_data",
       "png": "[encoded data removed]",
       "text": [
        "<matplotlib.figure.Figure at 0x10a98f610>"
       ]
      }
     ],
     "prompt_number": 2
    },
    {
     "cell_type": "heading",
     "level": 2,
     "metadata": {},
     "source": [
      "Bathy"
     ]
    },
    {
     "cell_type": "code",
     "collapsed": false,
     "input": [
      "x = np.arange(0., 21., .1)\n",
      "z = np.ones(x.shape)\n",
      "y = np.zeros(x.shape)\n",
      "\n",
      "print len(x)\n",
      "\n",
      "np.savetxt(os.path.join(root, 'x.txt'), np.matrix(x))\n",
      "np.savetxt(os.path.join(root, 'y.txt'), np.matrix(y))\n",
      "np.savetxt(os.path.join(root, 'z.txt'), np.matrix(z))"
     ],
     "language": "python",
     "metadata": {},
     "outputs": [
      {
       "output_type": "stream",
       "stream": "stdout",
       "text": [
        "210\n"
       ]
      }
     ],
     "prompt_number": 3
    },
    {
     "cell_type": "heading",
     "level": 2,
     "metadata": {},
     "source": [
      "Grainsize distribution"
     ]
    },
    {
     "cell_type": "code",
     "collapsed": false,
     "input": [
      "import math\n",
      "\n",
      "aerf = lambda x: np.asarray([math.erf(xi) for xi in x])\n",
      "\n",
      "mu = 2.42\n",
      "sigma = .41\n",
      "alpha = .05\n",
      "\n",
      "delta = alpha / np.sqrt(1 + alpha**2)\n",
      "kurt = 2*(np.pi - 3)*((delta*np.sqrt(2/np.pi))**4)/(1-2*delta**2/np.pi)**2\n",
      "print kurt\n",
      "\n",
      "p = np.linspace(-2.,2.,20)\n",
      "y1 = 1./np.sqrt(2*np.pi) * exp(-p**2/sigma) \n",
      "y2 = .5 * (1 + aerf(alpha*p/np.sqrt(2)))\n",
      "\n",
      "fig, axs = plt.subplots()\n",
      "axs.plot(2**(-(mu+p))*1e3, y1, '-xr')\n",
      "axs.plot(2**(-(mu+p))*1e3, 2*y1*y2, '-xb')\n",
      "\n",
      "grain_size = 2**(-(mu+p)) / 1000.\n",
      "grain_dist = 2*y1*y2\n",
      "\n",
      "grain_size = np.append(grain_size, 25e-3)\n",
      "grain_dist = np.append(grain_dist, 0.)"
     ],
     "language": "python",
     "metadata": {},
     "outputs": [
      {
       "output_type": "stream",
       "stream": "stdout",
       "text": [
        "7.16015243014e-07\n"
       ]
      },
      {
       "metadata": {},
       "output_type": "display_data",
       "png": "[encoded data removed]",
       "text": [
        "<matplotlib.figure.Figure at 0x1116cd890>"
       ]
      }
     ],
     "prompt_number": 4
    },
    {
     "cell_type": "heading",
     "level": 2,
     "metadata": {},
     "source": [
      "Boundary conditions"
     ]
    },
    {
     "cell_type": "code",
     "collapsed": false,
     "input": [
      "u = range(8, 23, 2)\n",
      "for ui in u:\n",
      "    np.savetxt(os.path.join(root, 'wind_%02d.txt' % ui), np.matrix([[0., ui, 0.],\n",
      "                                                                    [3601., ui, 0.]]))"
     ],
     "language": "python",
     "metadata": {},
     "outputs": [],
     "prompt_number": 5
    },
    {
     "cell_type": "heading",
     "level": 2,
     "metadata": {},
     "source": [
      "Model setup"
     ]
    },
    {
     "cell_type": "code",
     "collapsed": false,
     "input": [
      "import aeolis\n",
      "\n",
      "arr_bi = [0., .01, .02, .03, .04, .05, .1, .2, .3, .4, .6]\n",
      "arr_lt = [1.] \n",
      "arr_u = [8, 10, 12, 14, 16, 18, 20, 22]\n",
      "arr_L = [.5, 1, 2, 4, 6, 8, 10, 12]\n",
      "arr_k = [.006] \n",
      "\n",
      "fmt = 'dong2004_u%02d_L%04.1f_bi%0.4f_k%0.4f'"
     ],
     "language": "python",
     "metadata": {},
     "outputs": [],
     "prompt_number": 12
    },
    {
     "cell_type": "code",
     "collapsed": false,
     "input": [
      "for bi in arr_bi:\n",
      "    for k in arr_k:\n",
      "        for u in arr_u:\n",
      "            for L in arr_L:\n",
      "            \n",
      "                if u == 8 and L == 1:\n",
      "                    continue\n",
      "\n",
      "                fname = fmt % (u, L, bi, k)\n",
      "                p = dict(T=0.05,\n",
      "                         bed_file='z.txt',\n",
      "                         bedupdate=False,\n",
      "                         th_roughness=False,\n",
      "                         bi=bi,\n",
      "                         dt=60.,\n",
      "                         z=.6,\n",
      "                         h=.6,\n",
      "                         k=k,\n",
      "                         grain_dist=grain_dist,\n",
      "                         grain_size=grain_size,\n",
      "                         layer_thickness=1.,\n",
      "                         nfractions=len(grain_size),\n",
      "                         nlayers=10,\n",
      "                         nx=len(x)-1,\n",
      "                         ny=0,\n",
      "                         output_types=['avg'],\n",
      "                         output_times=60.,\n",
      "                         output_vars=['Ct', 'Cu', 'pickup', 'mass', 'uth'],\n",
      "                         scheme='euler_backward',\n",
      "                         tstop=360.,\n",
      "                         wind_file='wind_%02d.txt' % u,\n",
      "                         xgrid_file='x.txt',\n",
      "                         ygrid_file='y.txt')\n",
      "                aeolis.inout.write_configfile(os.path.join(root, '%s.txt' % fname), p)"
     ],
     "language": "python",
     "metadata": {},
     "outputs": [],
     "prompt_number": 13
    },
    {
     "cell_type": "heading",
     "level": 2,
     "metadata": {},
     "source": [
      "Callback"
     ]
    },
    {
     "cell_type": "code",
     "collapsed": false,
     "input": [
      "def add_gravel(model, L):\n",
      "    t = model.get_current_time()\n",
      "    \n",
      "    if t == 0:\n",
      "        n = int(10*L)\n",
      "        mass = model.get_var('mass')\n",
      "        mass[:,-n:,:,-1] = mass[:,-n:,:,:].sum(axis=3)\n",
      "        mass[:,-n:,:,:-1] = 0.\n",
      "        \n",
      "        model.set_var('mass', mass)"
     ],
     "language": "python",
     "metadata": {},
     "outputs": [],
     "prompt_number": 14
    },
    {
     "cell_type": "heading",
     "level": 2,
     "metadata": {},
     "source": [
      "Run models"
     ]
    },
    {
     "cell_type": "code",
     "collapsed": false,
     "input": [
      "import re\n",
      "\n",
      "cwd = os.getcwd()\n",
      "for fname in glob.glob(os.path.join(root, 'dong2004_*.txt')):\n",
      "    if os.path.exists(fname.replace('.txt','.nc')):\n",
      "        continue\n",
      "    L = float(re.search('_L([\\d\\.]+)_', fname).groups()[0])\n",
      "    aeolis.model.AeoLiSRunner(fname).run(callback=lambda model: add_gravel(model, L))\n",
      "    os.chdir(cwd)"
     ],
     "language": "python",
     "metadata": {},
     "outputs": [],
     "prompt_number": 15
    },
    {
     "cell_type": "heading",
     "level": 2,
     "metadata": {},
     "source": [
      "Analysis"
     ]
    },
    {
     "cell_type": "code",
     "collapsed": false,
     "input": [
      "import os\n",
      "import xray\n",
      "\n",
      "meas = np.loadtxt(os.path.join(root, 'measurements.txt'))[1:,1:] / 10.\n",
      "SStot = np.nansum((meas - np.nanmean(meas, axis=0))**2, axis=0)\n",
      "\n",
      "r2_ref = -np.inf\n",
      "for bi in arr_bi:\n",
      "    \n",
      "    Ei = np.inf + np.zeros(meas.shape)\n",
      "    Qi = np.inf + np.zeros(meas.shape)\n",
      "    \n",
      "    for i, u in enumerate(arr_u):\n",
      "        for j, L in enumerate(arr_L):\n",
      "                k = .006\n",
      "                fname = os.path.join(root, 'dong2004_u%02d_L%04.1f_bi%0.4f_k%0.4f.nc' % (u, L, bi, k))\n",
      "                if not os.path.exists(fname):\n",
      "                    continue\n",
      "                with xray.open_dataset(fname) as ds:\n",
      "                    q = ds.Ct[-1,0,-1,:].sum(axis=-1) * u\n",
      "                    Ei[j,i] = (q - meas[j,i])**2\n",
      "                    Qi[j,i] = q\n",
      "\n",
      "    Ei[Ei>1e9] = np.nan\n",
      "    Qi[Qi>1e9] = np.nan\n",
      "    \n",
      "    SStot = np.nansum((meas - np.nanmean(meas, axis=0))**2, axis=0)\n",
      "    SSres = np.nansum(Ei, axis=0)\n",
      "    r2 = 1. - SSres/SStot\n",
      "    \n",
      "    if np.nanmean(r2) > r2_ref:\n",
      "        r2_ref = np.nanmean(r2)\n",
      "        E = Ei\n",
      "        Q = Qi\n",
      "        \n",
      "        print bi, np.sqrt(np.nanmean(Ei)), np.nanmean(r2)"
     ],
     "language": "python",
     "metadata": {},
     "outputs": [
      {
       "output_type": "stream",
       "stream": "stdout",
       "text": [
        "0.0 0.159106937272 -11.7887580141\n",
        "0.01"
       ]
      },
      {
       "output_type": "stream",
       "stream": "stdout",
       "text": [
        " 0.13883448033 -8.92342993733\n",
        "0.02"
       ]
      },
      {
       "output_type": "stream",
       "stream": "stdout",
       "text": [
        " 0.120278561345 -6.68416827111\n",
        "0.03"
       ]
      },
      {
       "output_type": "stream",
       "stream": "stdout",
       "text": [
        " 0.103682864187 -4.99772970235\n",
        "0.04"
       ]
      },
      {
       "output_type": "stream",
       "stream": "stdout",
       "text": [
        " 0.0894254149123 -3.79769569704\n",
        "0.05"
       ]
      },
      {
       "output_type": "stream",
       "stream": "stdout",
       "text": [
        " 0.0780475031658 -3.02392620511\n"
       ]
      }
     ],
     "prompt_number": 19
    },
    {
     "cell_type": "code",
     "collapsed": false,
     "input": [
      "fig, axs = plt.subplots(1, 2, figsize=(10,4), gridspec_kw={'width_ratios':[2,1]})\n",
      "\n",
      "rmse = np.sqrt(np.nanmean(E, axis=0))\n",
      "\n",
      "p1 = axs[0].plot(arr_L, meas, '--ok', linewidth=2)[0]\n",
      "p2 = axs[0].plot(arr_L, Q, '-k', linewidth=2)[0]\n",
      "axs[0].set_xlabel('gravel patch length [m]')\n",
      "axs[0].set_ylabel('sediment transport rate\\nat downwind end of domain [kg/m/s]')\n",
      "axs[0].set_ylim((0,1.2))\n",
      "axs[0].set_xlim((0,12))\n",
      "axs[0].set_xticks(arr_L)\n",
      "axs[0].set_xticklabels(arr_L)\n",
      "\n",
      "for i in range(Q.shape[1])[2:]:\n",
      "    axs[0].annotate(' %d m/s' % (arr_u[i]), xy=(12, Q[-1,i]), ha='left', va='center')\n",
      "\n",
      "axs[1].barh(arr_u, np.sqrt(np.nanmean(E[2:,:], axis=0)) / np.nanmean(meas[2:,:], axis=0), color='k', align='center')\n",
      "#axs[1].set_xlim((0,.1))\n",
      "axs[1].set_ylim((7, 23))\n",
      "axs[1].set_yticks(arr_u)\n",
      "axs[1].set_yticklabels(arr_u)\n",
      "axs[1].set_ylabel('wind speed [m/s]')\n",
      "axs[1].set_xlabel('relative RMSE [-]')\n",
      "axs[1].yaxis.set_ticks_position('right')\n",
      "axs[1].yaxis.set_label_position('right')\n",
      "axs[1].grid()\n",
      "\n",
      "axs[0].legend((p1, p2), ('measurements', 'model results'), loc='upper right')\n",
      "\n",
      "fig.savefig('../Figures/dong2004_py.pdf')"
     ],
     "language": "python",
     "metadata": {},
     "outputs": [
      {
       "metadata": {},
       "output_type": "display_data",
       "png": "[encoded data removed]",
       "text": [
        "<matplotlib.figure.Figure at 0x111afdc50>"
       ]
      }
     ],
     "prompt_number": 20
    },
    {
     "cell_type": "code",
     "collapsed": false,
     "input": [],
     "language": "python",
     "metadata": {},
     "outputs": []
    }
   ],
   "metadata": {}
  }
 ]
}