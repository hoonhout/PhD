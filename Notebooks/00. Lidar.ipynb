{
 "metadata": {
  "name": "",
  "signature": "sha256:a07db852ae1158c12c67e97d3e9bd776adbdc22b1561c3adef208b242f8187c2"
 },
 "nbformat": 3,
 "nbformat_minor": 0,
 "worksheets": [
  {
   "cells": [
    {
     "cell_type": "code",
     "collapsed": false,
     "input": [
      "import os\n",
      "import re\n",
      "import gdal\n",
      "import glob\n",
      "import numpy as np\n",
      "import pandas as pd\n",
      "import matplotlib.pyplot as plt\n",
      "import matplotlib.transforms\n",
      "import matplotlib.path\n",
      "from osgeo import ogr\n",
      "import scipy.interpolate\n",
      "import cPickle as pickle\n",
      "from datetime import datetime\n",
      "from scipy.interpolate import interp2d\n",
      "\n",
      "root = '../Data/lidar/'"
     ],
     "language": "python",
     "metadata": {},
     "outputs": [],
     "prompt_number": 1
    },
    {
     "cell_type": "heading",
     "level": 1,
     "metadata": {},
     "source": [
      "GIS functions"
     ]
    },
    {
     "cell_type": "code",
     "collapsed": false,
     "input": [
      "def find_files(root, fnames):\n",
      "    if not type(fnames) is list:\n",
      "        fnames = [fnames]\n",
      "    for fname in fnames:\n",
      "        fpath = os.path.join(root, fname)\n",
      "        for match in glob.glob(fpath):\n",
      "            yield match\n",
      "    for fdir in os.listdir(root):\n",
      "        if fdir.startswith('.'):\n",
      "            continue\n",
      "        fpath = os.path.join(root, fdir)\n",
      "        if os.path.isdir(fpath):\n",
      "            for fpaths in find_files(fpath, fnames):\n",
      "                yield fpaths\n",
      "                \n",
      "\n",
      "def get_flightdate(shpfile='vlieglijnen.shp', clip=(70000, 450000, 75000, 455000),\n",
      "                   formats=['%Y/%m/%d', '%Y-%m-%d', '%d-%m-%Y']):\n",
      "\n",
      "    date = None\n",
      "    bbox = matplotlib.transforms.Bbox([clip[:2],clip[2:]])\n",
      "\n",
      "    o = ogr.Open(shpfile)\n",
      "    l = o.GetLayer()\n",
      "    for i in range(l.GetFeatureCount()):\n",
      "        f = l.GetFeature(i)        \n",
      "        d = f.GetGeometryRef()\n",
      "        v = d.GetPoints()\n",
      "        x, y = zip(*v)\n",
      "\n",
      "        if matplotlib.path.Path(v).intersects_bbox(bbox):\n",
      "            j = f.GetFieldIndex('vliegdatum')\n",
      "            \n",
      "            for fmt in formats:\n",
      "                try:\n",
      "                    t = datetime.strptime(f.GetField(j), fmt)\n",
      "                    break\n",
      "                except:\n",
      "                    pass\n",
      "\n",
      "            if date is not None:\n",
      "                if date != t:\n",
      "                    print 'WARNING: Ambiguous flight date'\n",
      "            date = t\n",
      "    \n",
      "    return date"
     ],
     "language": "python",
     "metadata": {},
     "outputs": [],
     "prompt_number": 2
    },
    {
     "cell_type": "heading",
     "level": 1,
     "metadata": {},
     "source": [
      "Grid"
     ]
    },
    {
     "cell_type": "code",
     "collapsed": false,
     "input": [
      "xx = np.arange(70000, 75000, 10)\n",
      "yy = np.arange(450000, 455000, 10)\n",
      "\n",
      "lidar = {'X':[],\n",
      "         'Y':[],\n",
      "         'Z':{}}\n",
      "\n",
      "lidar['X'], lidar['Y'] = np.meshgrid(xx, yy)"
     ],
     "language": "python",
     "metadata": {},
     "outputs": [],
     "prompt_number": 3
    },
    {
     "cell_type": "heading",
     "level": 1,
     "metadata": {},
     "source": [
      "Read raw data (Sand Motor only)"
     ]
    },
    {
     "cell_type": "code",
     "collapsed": false,
     "input": [
      "for fpath in find_files(root, ['*30dz1.rrd','zm_*.rrd']):\n",
      "    print fpath\n",
      "\n",
      "    meas = os.path.relpath(fpath, root).split(os.path.sep)[0]\n",
      "    for fname in find_files(os.path.join(root, meas), 'vlieglijnen*.shp'):\n",
      "        date = get_flightdate(fname)\n",
      "        break\n",
      "        \n",
      "    key = date.strftime('%Y%m%d')\n",
      "    if lidar['Z'].has_key(key):\n",
      "        continue\n",
      "    \n",
      "    fdir, fname = os.path.split(fpath)\n",
      "    fpath = os.path.join(fdir, os.path.splitext(fname)[0], 'w001001.adf')\n",
      "    \n",
      "    ds = gdal.Open(fpath)\n",
      "    \n",
      "    cols = ds.RasterXSize\n",
      "    rows = ds.RasterYSize\n",
      "    bands = ds.RasterCount\n",
      "\n",
      "    geotransform = ds.GetGeoTransform()\n",
      "\n",
      "    originX = geotransform[0]\n",
      "    originY = geotransform[3]\n",
      "    pixelWidth = geotransform[1]\n",
      "    pixelHeight = geotransform[5]\n",
      "\n",
      "    band = ds.GetRasterBand(1)\n",
      "    data = band.ReadAsArray(0, 0, ds.RasterXSize, ds.RasterYSize).astype(np.float)\n",
      "    \n",
      "    if fname.startswith('30dz1'):\n",
      "        data /= 100.\n",
      "        \n",
      "    x = originX + np.arange(ds.RasterXSize) * pixelWidth\n",
      "    y = originY + np.arange(ds.RasterYSize) * pixelHeight\n",
      "    \n",
      "    o = interp2d(x, y, data)\n",
      "    z = o(xx, yy)\n",
      "    z[z < -100.] = np.nan\n",
      "    \n",
      "    lidar['Z'][key] = z"
     ],
     "language": "python",
     "metadata": {},
     "outputs": [
      {
       "output_type": "stream",
       "stream": "stdout",
       "text": [
        "../Data/lidar/kust2_2011_2/geogegevens/raster/30/30dz1.rrd\n",
        "../Data/lidar/kust2_2012_2/geogegevens/raster/30/30dz1.rrd"
       ]
      },
      {
       "output_type": "stream",
       "stream": "stdout",
       "text": [
        "\n",
        "../Data/lidar/kust2_2013_2/geogegevens/raster/zm_2013.rrd"
       ]
      },
      {
       "output_type": "stream",
       "stream": "stdout",
       "text": [
        "\n",
        "../Data/lidar/kust2_2014_2/geogegevens/raster/zm_2014.rrd"
       ]
      },
      {
       "output_type": "stream",
       "stream": "stdout",
       "text": [
        "\n",
        "../Data/lidar/kust2_2015_2/geogegevens/raster/zm_2015.rrd"
       ]
      },
      {
       "output_type": "stream",
       "stream": "stdout",
       "text": [
        "\n",
        "../Data/lidar/kust_2011_5/geogegevens/raster/30/30dz1.rrd"
       ]
      },
      {
       "output_type": "stream",
       "stream": "stdout",
       "text": [
        "\n",
        "../Data/lidar/kust_2012_5/geogegevens/raster/30/30dz1.rrd"
       ]
      },
      {
       "output_type": "stream",
       "stream": "stdout",
       "text": [
        "\n",
        "../Data/lidar/kust_2013_2/geogegevens/raster/30/g30dz1.rrd"
       ]
      },
      {
       "output_type": "stream",
       "stream": "stdout",
       "text": [
        "\n",
        "../Data/lidar/kust_2014_2/geogegevens/raster/30/g30dz1.rrd"
       ]
      },
      {
       "output_type": "stream",
       "stream": "stdout",
       "text": [
        "\n",
        "../Data/lidar/kust_2015_2/geogegevens/raster/g30dz1.rrd"
       ]
      },
      {
       "output_type": "stream",
       "stream": "stdout",
       "text": [
        "\n"
       ]
      }
     ],
     "prompt_number": 4
    },
    {
     "cell_type": "code",
     "collapsed": false,
     "input": [
      "pklfile = os.path.join(root, 'lidar.pkl')\n",
      "with open(pklfile, 'w') as fp:\n",
      "    pickle.dump(lidar, fp)"
     ],
     "language": "python",
     "metadata": {},
     "outputs": [],
     "prompt_number": 5
    },
    {
     "cell_type": "heading",
     "level": 1,
     "metadata": {},
     "source": [
      "Read rotated data"
     ]
    },
    {
     "cell_type": "code",
     "collapsed": false,
     "input": [
      "xi, yi = np.meshgrid(np.arange(-10000, 15000, 10),\n",
      "                     np.arange(-1200, 800, 10))\n",
      "\n",
      "lidar = {'X':[],\n",
      "         'Y':[],\n",
      "         'Z':{}}\n",
      "\n",
      "lidar['X'], lidar['Y'] = xi, yi"
     ],
     "language": "python",
     "metadata": {},
     "outputs": [],
     "prompt_number": 6
    },
    {
     "cell_type": "code",
     "collapsed": false,
     "input": [
      "def rotate(x, y, phi, origin=(72502.0, 452074.0)):\n",
      "\n",
      "    x = np.asarray(x)\n",
      "    y = np.asarray(y)\n",
      "    phi = phi / 180. * np.pi\n",
      "\n",
      "    R = np.asarray([[np.cos(phi), -np.sin(phi)],\n",
      "                    [np.sin(phi),  np.cos(phi)]])\n",
      "\n",
      "    XY = np.concatenate((x.reshape(-1,1) - origin[0],\n",
      "                         y.reshape(-1,1) - origin[1]), axis=1)\n",
      "\n",
      "    XY = np.dot(XY, R)\n",
      "    xr = XY[:,0].reshape(x.shape)\n",
      "    yr = XY[:,1].reshape(y.shape)\n",
      "\n",
      "    return xr, yr\n",
      "\n",
      "\n",
      "for fpath in find_files(root, ['*30dn2*.rrd', '*30gn1*.rrd', '*30dz1*.rrd', '*30dz2*.rrd', '*37an2*.rrd', '*37bn1*.rrd']): #['*30dz1.rrd','zm_*.rrd']):\n",
      "    \n",
      "    if 'kust2' in fpath:\n",
      "        continue\n",
      "        \n",
      "    print fpath\n",
      "\n",
      "    fdir, fname = os.path.split(fpath)\n",
      "    fpath = os.path.join(fdir, os.path.splitext(fname)[0], 'w001001.adf')\n",
      "    \n",
      "    meas = os.path.relpath(fpath, root).split(os.path.sep)[0]\n",
      "    for shpfile in find_files(os.path.join(root, meas), 'vlieglijnen*.shp'):\n",
      "        date = get_flightdate(shpfile)\n",
      "        break\n",
      "        \n",
      "    ds = gdal.Open(fpath)\n",
      "    \n",
      "    cols = ds.RasterXSize\n",
      "    rows = ds.RasterYSize\n",
      "    bands = ds.RasterCount\n",
      "\n",
      "    geotransform = ds.GetGeoTransform()\n",
      "\n",
      "    originX = geotransform[0]\n",
      "    originY = geotransform[3]\n",
      "    pixelWidth = geotransform[1]\n",
      "    pixelHeight = geotransform[5]\n",
      "\n",
      "    band = ds.GetRasterBand(1)\n",
      "    data = band.ReadAsArray(0, 0, ds.RasterXSize, ds.RasterYSize).astype(np.float)\n",
      "    \n",
      "    if np.any(data > 100.):\n",
      "        data /= 100.\n",
      "    \n",
      "    x = originX + np.arange(ds.RasterXSize) * pixelWidth\n",
      "    y = originY + np.arange(ds.RasterYSize) * pixelHeight\n",
      "    xr, yr = np.meshgrid(x, y)\n",
      "    xr, yr = rotate(xr, yr, 48.)\n",
      "    \n",
      "    xr = xr.reshape((-1,1))\n",
      "    yr = yr.reshape((-1,1))\n",
      "    data = data.reshape((-1,1))\n",
      "    ix = (data > -10).flatten()\n",
      "    \n",
      "    xr = xr[ix,:]\n",
      "    yr = yr[ix,:]\n",
      "    data = data[ix,:]\n",
      "    \n",
      "    key = date.strftime('%Y%m%d')\n",
      "    if not lidar['Z'].has_key(key):\n",
      "        lidar['Z'][key] = np.nan + np.zeros(xi.shape)\n",
      "        \n",
      "    data = scipy.interpolate.griddata(np.concatenate((xr, yr), axis=1),\n",
      "                                      data,\n",
      "                                      np.concatenate((xi.reshape((-1,1)),\n",
      "                                                      yi.reshape((-1,1))), axis=1)).reshape(xi.shape)\n",
      "    \n",
      "    ix = ~np.isnan(data)\n",
      "    lidar['Z'][key][ix] = data[ix]"
     ],
     "language": "python",
     "metadata": {},
     "outputs": [
      {
       "output_type": "stream",
       "stream": "stdout",
       "text": [
        "../Data/lidar/kust_2011_5/geogegevens/raster/30/30dn2.rrd\n",
        "../Data/lidar/kust_2011_5/geogegevens/raster/30/30gn1.rrd"
       ]
      },
      {
       "output_type": "stream",
       "stream": "stdout",
       "text": [
        "\n",
        "../Data/lidar/kust_2011_5/geogegevens/raster/30/30dz1.rrd"
       ]
      },
      {
       "output_type": "stream",
       "stream": "stdout",
       "text": [
        "\n",
        "../Data/lidar/kust_2011_5/geogegevens/raster/30/30dz2.rrd"
       ]
      },
      {
       "output_type": "stream",
       "stream": "stdout",
       "text": [
        "\n",
        "../Data/lidar/kust_2011_5/geogegevens/raster/37/37an2.rrd"
       ]
      },
      {
       "output_type": "stream",
       "stream": "stdout",
       "text": [
        "\n",
        "../Data/lidar/kust_2011_5/geogegevens/raster/37/37bn1.rrd"
       ]
      },
      {
       "output_type": "stream",
       "stream": "stdout",
       "text": [
        "\n",
        "../Data/lidar/kust_2012_5/geogegevens/raster/30/30dn2.rrd"
       ]
      },
      {
       "output_type": "stream",
       "stream": "stdout",
       "text": [
        "\n",
        "../Data/lidar/kust_2012_5/geogegevens/raster/30/30gn1.rrd"
       ]
      },
      {
       "output_type": "stream",
       "stream": "stdout",
       "text": [
        "\n",
        "../Data/lidar/kust_2012_5/geogegevens/raster/30/30dz1.rrd"
       ]
      },
      {
       "output_type": "stream",
       "stream": "stdout",
       "text": [
        "\n",
        "../Data/lidar/kust_2012_5/geogegevens/raster/30/30dz2.rrd"
       ]
      },
      {
       "output_type": "stream",
       "stream": "stdout",
       "text": [
        "\n",
        "../Data/lidar/kust_2012_5/geogegevens/raster/37/37an2.rrd"
       ]
      },
      {
       "output_type": "stream",
       "stream": "stdout",
       "text": [
        "\n",
        "../Data/lidar/kust_2012_5/geogegevens/raster/37/37bn1.rrd"
       ]
      },
      {
       "output_type": "stream",
       "stream": "stdout",
       "text": [
        "\n",
        "../Data/lidar/kust_2013_2/geogegevens/raster/30/g30dn2.rrd"
       ]
      },
      {
       "output_type": "stream",
       "stream": "stdout",
       "text": [
        "\n",
        "../Data/lidar/kust_2013_2/geogegevens/raster/30/g30gn1.rrd"
       ]
      },
      {
       "output_type": "stream",
       "stream": "stdout",
       "text": [
        "\n",
        "../Data/lidar/kust_2013_2/geogegevens/raster/30/g30dz1.rrd"
       ]
      },
      {
       "output_type": "stream",
       "stream": "stdout",
       "text": [
        "\n",
        "../Data/lidar/kust_2013_2/geogegevens/raster/30/g30dz2.rrd"
       ]
      },
      {
       "output_type": "stream",
       "stream": "stdout",
       "text": [
        "\n",
        "../Data/lidar/kust_2013_2/geogegevens/raster/37/g37an2.rrd"
       ]
      },
      {
       "output_type": "stream",
       "stream": "stdout",
       "text": [
        "\n",
        "../Data/lidar/kust_2013_2/geogegevens/raster/37/g37bn1.rrd"
       ]
      },
      {
       "output_type": "stream",
       "stream": "stdout",
       "text": [
        "\n",
        "../Data/lidar/kust_2014_2/geogegevens/raster/30/g30dn2.rrd"
       ]
      },
      {
       "output_type": "stream",
       "stream": "stdout",
       "text": [
        "\n",
        "../Data/lidar/kust_2014_2/geogegevens/raster/30/g30gn1.rrd"
       ]
      },
      {
       "output_type": "stream",
       "stream": "stdout",
       "text": [
        "\n",
        "../Data/lidar/kust_2014_2/geogegevens/raster/30/g30dz1.rrd"
       ]
      },
      {
       "output_type": "stream",
       "stream": "stdout",
       "text": [
        "\n",
        "../Data/lidar/kust_2014_2/geogegevens/raster/30/g30dz2.rrd"
       ]
      },
      {
       "output_type": "stream",
       "stream": "stdout",
       "text": [
        "\n",
        "../Data/lidar/kust_2014_2/geogegevens/raster/37/g37an2.rrd"
       ]
      },
      {
       "output_type": "stream",
       "stream": "stdout",
       "text": [
        "\n",
        "../Data/lidar/kust_2014_2/geogegevens/raster/37/g37bn1.rrd"
       ]
      },
      {
       "output_type": "stream",
       "stream": "stdout",
       "text": [
        "\n",
        "../Data/lidar/kust_2015_2/geogegevens/raster/g30dn2.rrd"
       ]
      },
      {
       "output_type": "stream",
       "stream": "stdout",
       "text": [
        "\n",
        "../Data/lidar/kust_2015_2/geogegevens/raster/g30gn1.rrd"
       ]
      },
      {
       "output_type": "stream",
       "stream": "stdout",
       "text": [
        "\n",
        "../Data/lidar/kust_2015_2/geogegevens/raster/g30dz1.rrd"
       ]
      },
      {
       "output_type": "stream",
       "stream": "stdout",
       "text": [
        "\n",
        "../Data/lidar/kust_2015_2/geogegevens/raster/g30dz2.rrd"
       ]
      },
      {
       "output_type": "stream",
       "stream": "stdout",
       "text": [
        "\n",
        "../Data/lidar/kust_2015_2/geogegevens/raster/g37an2.rrd"
       ]
      },
      {
       "output_type": "stream",
       "stream": "stdout",
       "text": [
        "\n",
        "../Data/lidar/kust_2015_2/geogegevens/raster/g37bn1.rrd"
       ]
      },
      {
       "output_type": "stream",
       "stream": "stdout",
       "text": [
        "\n"
       ]
      }
     ],
     "prompt_number": 7
    },
    {
     "cell_type": "code",
     "collapsed": false,
     "input": [
      "pklfile = os.path.join(root, 'lidar2.pkl')\n",
      "with open(pklfile, 'w') as fp:\n",
      "    pickle.dump(lidar, fp)"
     ],
     "language": "python",
     "metadata": {},
     "outputs": [],
     "prompt_number": 8
    },
    {
     "cell_type": "code",
     "collapsed": false,
     "input": [],
     "language": "python",
     "metadata": {},
     "outputs": []
    }
   ],
   "metadata": {}
  }
 ]
}