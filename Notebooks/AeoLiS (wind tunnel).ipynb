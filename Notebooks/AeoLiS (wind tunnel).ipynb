{
 "metadata": {
  "name": "",
  "signature": "sha256:efe32e10a94aa2d324486f00b7bd7e8c5f4fc192b6c2dd0fb25ec07d756e9785"
 },
 "nbformat": 3,
 "nbformat_minor": 0,
 "worksheets": [
  {
   "cells": [
    {
     "cell_type": "code",
     "collapsed": false,
     "input": [
      "import os\n",
      "import glob\n",
      "import xray\n",
      "import aeolis\n",
      "import netCDF4\n",
      "import pandas as pd\n",
      "\n",
      "os.environ['DYLD_LIBRARY_PATH'] = '/Users/hoonhout/GitHub/aeolis/src/.libs/libaeolis.dylib'\n",
      "\n",
      "# make colormap\n",
      "c = matplotlib.cm.PuBu(np.linspace(.25,1,2))\n",
      "cdict = {'red':   ((0.0, c[0,0], c[0,0]),\n",
      "                   (1.0, c[1,0], c[1,0])),\n",
      "         'green': ((0.0, c[0,1], c[0,1]),\n",
      "                   (1.0, c[1,1], c[1,1])),\n",
      "         'blue':  ((0.0, c[0,2], c[0,2]),\n",
      "                   (1.0, c[1,2], c[1,2])),\n",
      "          }\n",
      "mymap = matplotlib.colors.LinearSegmentedColormap('mymap', cdict)"
     ],
     "language": "python",
     "metadata": {},
     "outputs": [],
     "prompt_number": 1
    },
    {
     "cell_type": "code",
     "collapsed": false,
     "input": [
      "root = '/Users/hoonhout/GitHub/aeolis-models/nickling1995_2/'\n",
      "\n",
      "x = np.arange(0., 4.5, .1)\n",
      "z = np.ones(x.shape)\n",
      "y = np.zeros(x.shape)\n",
      "\n",
      "print x.shape\n",
      "\n",
      "np.savetxt(os.path.join(root, 'x.txt'), np.matrix(x))\n",
      "np.savetxt(os.path.join(root, 'y.txt'), np.matrix(y))\n",
      "np.savetxt(os.path.join(root, 'z.txt'), np.matrix(z))"
     ],
     "language": "python",
     "metadata": {},
     "outputs": [
      {
       "output_type": "stream",
       "stream": "stdout",
       "text": [
        "(45,)\n"
       ]
      }
     ],
     "prompt_number": 162
    },
    {
     "cell_type": "code",
     "collapsed": false,
     "input": [
      "tophi = lambda x: -np.log2(x/.001)\n",
      "fromphi = lambda x: .001 * 2**-x\n",
      "\n",
      "pdf = lambda x, mu, sigma: exp(-((x-mu)/sigma)**2)\n",
      "grain_size = np.arange(150, 1001., 50) * 1e-6\n",
      "grain_dist = pdf(tophi(grain_size), tophi(270e-6), .5)\n",
      "\n",
      "grain_size = np.append(grain_size, .018)\n",
      "grain_dist = np.append(grain_dist, 0.)\n",
      "\n",
      "plot(grain_size[:-1] * 1e6, grain_dist[:-1], '-ok')\n",
      "\n",
      "print ' '.join(['%0.6f' % gs for gs in grain_size])\n",
      "print ' '.join(['%0.6f' % gs for gs in grain_dist])\n",
      "print len(grain_size)"
     ],
     "language": "python",
     "metadata": {},
     "outputs": [
      {
       "output_type": "stream",
       "stream": "stdout",
       "text": [
        "0.000150 0.000200 0.000250 0.000300 0.000350 0.000400 0.000450 0.000500 0.000550 0.000600 0.000650 0.000700 0.000750 0.000800 0.000850 0.000900 0.000950 0.001000 0.018000\n",
        "0.056337 0.472454 0.951884 0.911722 0.570816 0.276335 0.113896 0.042381 0.014779 0.004950 0.001619 0.000523 0.000168 0.000054 0.000018 0.000006 0.000002 0.000001 0.000000\n",
        "19\n"
       ]
      },
      {
       "metadata": {},
       "output_type": "display_data",
       "png": "[encoded data removed]",
       "text": [
        "<matplotlib.figure.Figure at 0x10ec85610>"
       ]
      }
     ],
     "prompt_number": 11
    },
    {
     "cell_type": "code",
     "collapsed": false,
     "input": [
      "import aeolis\n",
      "reload(aeolis)\n",
      "\n",
      "p = 0.\n",
      "fcn = lambda x, mu, sigma: exp(-((x-mu)/sigma)**2)\n",
      "d50 = np.arange(50, 551, 50) * 1e-6\n",
      "dist0 = fcn(d50, 270e-6, 100e-6)\n",
      "d50 = np.append(d50, .018)\n",
      "dist = dist0/dist0.sum() * (1-p)\n",
      "dist = np.append(dist, p)\n",
      "\n",
      "a = aeolis.AeoLiS(root,\n",
      "                outputvars=['Ct', 'Cu', 'supply', 'mass'],\n",
      "                outputtypes=['avg'],\n",
      "                outputtimes=60.,\n",
      "                bedupdate=False,\n",
      "                th_bedslope=False,\n",
      "                th_roughness=True,\n",
      "                gusts=False,\n",
      "                scheme='euler_forward',\n",
      "                dt=-1,\n",
      "                nx=45,\n",
      "                ny=0,\n",
      "                tout=60.,\n",
      "                tstop=60.*110.,\n",
      "                accfac=1.,\n",
      "                CFL=1.,\n",
      "                bi=0.,\n",
      "                nfractions=12,\n",
      "                nlayers=10,\n",
      "                F=1e-4,\n",
      "                Cw=0.,\n",
      "                Tp=.1,\n",
      "                max_error=1e-3,\n",
      "                layer_thickness=1e-3,\n",
      "                grain_size=d50,\n",
      "                grain_dist=dist,\n",
      "                xgrid_file='x.txt',\n",
      "                ygrid_file='y.txt',\n",
      "                bed_file='z.txt',\n",
      "                tide_file='tide_constant.txt',\n",
      "                wind_file='wind_constant.txt')\n",
      "\n",
      "a.set_ncattrs(institution='Delft University of Technology',\n",
      "              creator_name='Bas Hoonhout',\n",
      "              creator_email='b.m.hoonhout@tudelft.nl')"
     ],
     "language": "python",
     "metadata": {},
     "outputs": []
    },
    {
     "cell_type": "code",
     "collapsed": false,
     "input": [
      "np.pi * .009**2 / .06**2 / 3."
     ],
     "language": "python",
     "metadata": {},
     "outputs": [
      {
       "metadata": {},
       "output_type": "pyout",
       "prompt_number": 5,
       "text": [
        "0.023561944901923444"
       ]
      }
     ],
     "prompt_number": 5
    },
    {
     "cell_type": "code",
     "collapsed": false,
     "input": [
      "def add_marbles(model, t, s):\n",
      "    if t == 0:\n",
      "        n = 3\n",
      "        p = np.pi * .009**2 / s**2\n",
      "        mass = model.get_var('mass')\n",
      "        for i in range(n):\n",
      "            mass[:,:,1+i,-1] = mass[:,:,1+i,:].sum(axis=2) * p / n\n",
      "            mass[:,:,1+i,:-1] = mass[:,:,1+i,:-1] * (1 - p / n)\n",
      "        model.set_var('mass', mass)\n",
      "\n",
      "for s in [.06, .03, .018]:\n",
      "    a.set_params(grain_dist=dist, th_roughness=True)\n",
      "    a.set_configfile('nickling1995_s%0.4f.txt' % s)\n",
      "    a.set_outputfile('nickling1995_s%0.4f.nc' % s)\n",
      "    a.run(callback=lambda model, t: add_marbles(model, t, s))"
     ],
     "language": "python",
     "metadata": {},
     "outputs": [
      {
       "output_type": "stream",
       "stream": "stdout",
       "text": [
        " \n",
        "         d8888                   888      d8b  .d8888b.   \n",
        "        d88888                   888      Y8P d88P  Y88b  \n",
        "       d88P888                   888          Y88b.       \n",
        "      d88P 888  .d88b.   .d88b.  888      888  \"Y888b.    \n",
        "     d88P  888 d8P  Y8b d88\"\"88b 888      888     \"Y88b.  \n",
        "    d88P   888 88888888 888  888 888      888       \"888  \n",
        "   d8888888888 Y8b.     Y88..88P 888      888 Y88b  d88P  \n",
        "  d88P     888  \"Y8888   \"Y88P\"  88888888 888  \"Y8888P\"   \n",
        " \n",
        "Process ID #71626\n",
        " \n",
        "Writing input to /Users/hoonhout/GitHub/aeolis-models/nickling1995/nickling1995_s0.0600.txt\n",
        " \n",
        "[ 10.0%] 00:00:11 / 00:01:54 / 00:01:43 (avg. dt=0.013)\n",
        "[ 20.0%] 00:00:22 / 00:01:53 / 00:01:30 (avg. dt=0.013)\n",
        "[ 30.0%] 00:00:33 / 00:01:52 / 00:01:18 (avg. dt=0.013)\n",
        "[ 40.0%] 00:00:45 / 00:01:52 / 00:01:07 (avg. dt=0.012)\n",
        "[ 50.0%] 00:00:56 / 00:01:52 / 00:00:56 (avg. dt=0.012)\n",
        "[ 60.0%] 00:01:09 / 00:01:55 / 00:00:46 (avg. dt=0.012)\n",
        "[ 70.0%] 00:01:21 / 00:01:56 / 00:00:34 (avg. dt=0.012)\n",
        "[ 80.0%] 00:01:32 / 00:01:55 / 00:00:23 (avg. dt=0.012)\n",
        "[ 90.0%] 00:01:44 / 00:01:55 / 00:00:11 (avg. dt=0.012)\n",
        "Done.\n"
       ]
      },
      {
       "output_type": "stream",
       "stream": "stdout",
       "text": [
        " \n",
        "         d8888                   888      d8b  .d8888b.   \n",
        "        d88888                   888      Y8P d88P  Y88b  \n",
        "       d88P888                   888          Y88b.       \n",
        "      d88P 888  .d88b.   .d88b.  888      888  \"Y888b.    \n",
        "     d88P  888 d8P  Y8b d88\"\"88b 888      888     \"Y88b.  \n",
        "    d88P   888 88888888 888  888 888      888       \"888  \n",
        "   d8888888888 Y8b.     Y88..88P 888      888 Y88b  d88P  \n",
        "  d88P     888  \"Y8888   \"Y88P\"  88888888 888  \"Y8888P\"   \n",
        " \n",
        "Process ID #71631\n",
        " \n",
        "Writing input to /Users/hoonhout/GitHub/aeolis-models/nickling1995/nickling1995_s0.0300.txt\n",
        " \n",
        "[ 10.0%] 00:00:12 / 00:02:00 / 00:01:48 (avg. dt=0.013)\n",
        "[ 20.0%] 00:00:23 / 00:01:58 / 00:01:34 (avg. dt=0.013)\n",
        "[ 30.0%] 00:00:39 / 00:02:12 / 00:01:32 (avg. dt=0.013)\n",
        "[ 40.0%] 00:00:51 / 00:02:07 / 00:01:16 (avg. dt=0.012)\n",
        "[ 50.0%] 00:01:02 / 00:02:04 / 00:01:02 (avg. dt=0.012)\n",
        "[ 60.0%] 00:01:13 / 00:02:02 / 00:00:49 (avg. dt=0.012)\n",
        "[ 70.0%] 00:01:25 / 00:02:01 / 00:00:36 (avg. dt=0.012)\n",
        "[ 80.0%] 00:01:37 / 00:02:01 / 00:00:24 (avg. dt=0.012)\n",
        "[ 90.0%] 00:01:50 / 00:02:03 / 00:00:12 (avg. dt=0.012)\n",
        "Done.\n"
       ]
      },
      {
       "output_type": "stream",
       "stream": "stdout",
       "text": [
        " \n",
        "         d8888                   888      d8b  .d8888b.   \n",
        "        d88888                   888      Y8P d88P  Y88b  \n",
        "       d88P888                   888          Y88b.       \n",
        "      d88P 888  .d88b.   .d88b.  888      888  \"Y888b.    \n",
        "     d88P  888 d8P  Y8b d88\"\"88b 888      888     \"Y88b.  \n",
        "    d88P   888 88888888 888  888 888      888       \"888  \n",
        "   d8888888888 Y8b.     Y88..88P 888      888 Y88b  d88P  \n",
        "  d88P     888  \"Y8888   \"Y88P\"  88888888 888  \"Y8888P\"   \n",
        " \n",
        "Process ID #71635\n",
        " \n",
        "Writing input to /Users/hoonhout/GitHub/aeolis-models/nickling1995/nickling1995_s0.0180.txt\n",
        " \n",
        "[ 10.0%] 00:00:10 / 00:01:47 / 00:01:36 (avg. dt=0.013)\n",
        "[ 20.0%] 00:00:21 / 00:01:49 / 00:01:27 (avg. dt=0.013)\n",
        "[ 30.0%] 00:00:33 / 00:01:50 / 00:01:17 (avg. dt=0.013)\n",
        "[ 40.0%] 00:00:44 / 00:01:50 / 00:01:06 (avg. dt=0.012)\n",
        "[ 50.0%] 00:00:55 / 00:01:51 / 00:00:55 (avg. dt=0.012)\n",
        "[ 60.0%] 00:01:07 / 00:01:52 / 00:00:44 (avg. dt=0.012)\n",
        "[ 70.0%] 00:01:19 / 00:01:53 / 00:00:33 (avg. dt=0.012)\n",
        "[ 80.0%] 00:01:30 / 00:01:53 / 00:00:22 (avg. dt=0.012)\n",
        "[ 90.0%] 00:01:42 / 00:01:54 / 00:00:11 (avg. dt=0.012)\n",
        "Done.\n"
       ]
      }
     ],
     "prompt_number": 388
    },
    {
     "cell_type": "code",
     "collapsed": false,
     "input": [],
     "language": "python",
     "metadata": {},
     "outputs": []
    },
    {
     "cell_type": "code",
     "collapsed": false,
     "input": [
      "import os\n",
      "import xray\n",
      "\n",
      "root = '/Users/hoonhout/GitHub/aeolis-models/nickling1995-py/'\n",
      "root = '/Users/hoonhout/GitHub/aeolis-models/jgr/nickling1995/'\n",
      "imgroot = '/Users/hoonhout/Checkouts/PhD/Journals/grainsize/'\n",
      "s = [.018, .03, .06]\n",
      "o = [12.5, 15, 15]\n",
      "sigma = [3.4, 3.3, 2.4]\n",
      "\n",
      "fig, axs = subplots(3, 1, figsize=(10,12))\n",
      "\n",
      "for i, ax0 in enumerate(axs):\n",
      "    img = imread(os.path.join(imgroot, 'nickling1995_%dmm.png' % (s[i] * 1000.)))\n",
      "    n = int(img.shape[0]/4.)\n",
      "    ax0.imshow(img[n:,:,:], alpha=.25, rasterized=True)\n",
      "    ax0.set_xticks(())\n",
      "    ax0.set_yticks(())\n",
      "    ax0.set_aspect('auto')\n",
      "\n",
      "    pos = ax0.get_position()\n",
      "    ax1 = fig.add_axes(pos)\n",
      "    ax1.set_axis_bgcolor('none')\n",
      "    ax1.set_ylabel('normalized sediment transport\\nat downwind end of the domain [-]')\n",
      "    if i == 2:\n",
      "        ax1.set_xlabel('time [min]')\n",
      "        \n",
      "    ax2 = ax1.twinx()\n",
      "    ax2.set_ylabel('$\\log{\\lambda}$')\n",
      "\n",
      "    fname = os.path.join(root, 'nickling1995_s%0.4f.nc' % s[i])\n",
      "    print fname\n",
      "    with xray.open_dataset(fname) as ds:\n",
      "        #ds = ds.resample('5min', 'time')\n",
      "        data = ds['Ct.avg'][:,0,-1,:].sum(axis=1)\n",
      "        data /= data.max()\n",
      "        t = ds['time.hour'] * 60. + ds['time.minute']\n",
      "\n",
      "        rd = ds['mass'][:,0,:,0,-1].mean(axis=1)/ds['mass'][:,0,:,0,:].mean(axis=1).sum(axis=1)\n",
      "\n",
      "        p1 = ax1.plot(t, data, '-k', linewidth=3, label='transport rate')\n",
      "        p2 = ax1.plot(t, data, '--k', linewidth=1, label='mass fraction') # for legend only\n",
      "        p3 = ax1.add_artist(Rectangle((0,0), 0, 0, color='k', alpha=.25, label='measurements'))\n",
      "        ax2.plot(t, np.log(rd/sigma[i]), '--k', linewidth=1, label='mass fraction')\n",
      "        \n",
      "    if i == 2:\n",
      "        ax1.legend(p1+p2+[p3], ('transport rate','roughness density','measurements'))\n",
      "    \n",
      "    ax1.set_xticks(np.arange(-o[i],101-o[i],20))    \n",
      "    ax1.set_xticklabels(range(0,101,20))\n",
      "    ax1.set_xlim((-o[i],100-o[i]))\n",
      "    ax1.set_ylim((0,1.5))\n",
      "    ax2.set_ylim((-4,0))\n",
      "\n",
      "    ax1.set_axis_bgcolor('none')\n",
      "    ax2.set_axis_bgcolor('w')\n",
      "    ax2.set_zorder(-10)\n",
      "    ax0.set_zorder(-20)\n",
      "    \n",
      "    ax0.set_title('marble grid spacing d = %d mm' % (s[i] * 1000.))\n",
      "    \n",
      "fig.savefig('/Users/hoonhout/Checkouts/PhD/Thesis2/nickling1995_py.pdf')"
     ],
     "language": "python",
     "metadata": {},
     "outputs": [
      {
       "output_type": "stream",
       "stream": "stdout",
       "text": [
        "/Users/hoonhout/GitHub/aeolis-models/jgr/nickling1995/nickling1995_s0.0180.nc\n",
        "/Users/hoonhout/GitHub/aeolis-models/jgr/nickling1995/nickling1995_s0.0300.nc"
       ]
      },
      {
       "output_type": "stream",
       "stream": "stdout",
       "text": [
        "\n",
        "/Users/hoonhout/GitHub/aeolis-models/jgr/nickling1995/nickling1995_s0.0600.nc"
       ]
      },
      {
       "output_type": "stream",
       "stream": "stdout",
       "text": [
        "\n"
       ]
      },
      {
       "metadata": {},
       "output_type": "display_data",
       "png": "[encoded data removed]",
       "text": [
        "<matplotlib.figure.Figure at 0x10d893cd0>"
       ]
      }
     ],
     "prompt_number": 103
    },
    {
     "cell_type": "code",
     "collapsed": false,
     "input": [
      "8 * .41 / np.log(.25/np.asarray([.0024,.0027,.0016]))\n",
      "\n",
      "\n",
      ".25 / np.exp(8./np.asarray([.51,.58,.55]) * .41)"
     ],
     "language": "python",
     "metadata": {},
     "outputs": [
      {
       "metadata": {},
       "output_type": "pyout",
       "prompt_number": 78,
       "text": [
        "array([ 0.00040256,  0.00087484,  0.00064264])"
       ]
      }
     ],
     "prompt_number": 78
    },
    {
     "cell_type": "code",
     "collapsed": false,
     "input": [
      "fname = os.path.join(root, 'nickling1995_s%0.4f.nc' % .018)\n",
      "with xray.open_dataset(fname) as ds:\n",
      "    plot(ds.uth[:,0,40,:].T, '-k')\n",
      "    plot([0, 18], [ds.tau[0,0,0].values, ds.tau[0,0,0].values], '-r')"
     ],
     "language": "python",
     "metadata": {},
     "outputs": [
      {
       "metadata": {},
       "output_type": "display_data",
       "png": "[encoded data removed]",
       "text": [
        "<matplotlib.figure.Figure at 0x11a72bd90>"
       ]
      }
     ],
     "prompt_number": 69
    },
    {
     "cell_type": "code",
     "collapsed": false,
     "input": [
      "m = .7\n",
      "beta = 49.\n",
      "sigma = 3.\n",
      "gd = np.arange(0,1,.01)\n",
      "plot(gd, np.sqrt((1.-m*gd)*(1.+m*beta/sigma*gd)))\n",
      "plot(gd, np.sqrt((1.-m*sigma*gd)*(1.+m*beta*gd)))"
     ],
     "language": "python",
     "metadata": {},
     "outputs": [
      {
       "metadata": {},
       "output_type": "pyout",
       "prompt_number": 73,
       "text": [
        "[<matplotlib.lines.Line2D at 0x11b3b8a50>]"
       ]
      },
      {
       "metadata": {},
       "output_type": "display_data",
       "png": "[encoded data removed]",
       "text": [
        "<matplotlib.figure.Figure at 0x11b3b8f10>"
       ]
      }
     ],
     "prompt_number": 73
    },
    {
     "cell_type": "code",
     "collapsed": false,
     "input": [
      "np.exp(-1.5) * 3.3\n",
      "\n",
      "np.log(.73/3.3)"
     ],
     "language": "python",
     "metadata": {},
     "outputs": [
      {
       "metadata": {},
       "output_type": "pyout",
       "prompt_number": 99,
       "text": [
        "-1.5086332133121347"
       ]
      }
     ],
     "prompt_number": 99
    },
    {
     "cell_type": "code",
     "collapsed": false,
     "input": [
      "root = '/Users/hoonhout/GitHub/aeolis-models/dong2004-py/'\n",
      "data = np.loadtxt(os.path.join(root, 'measurements.txt'))\n",
      "meas = data[1:,1:] / 10. # convert from g/cm/s to kg/m/s\n",
      "meas[meas < 0.] = np.nan\n",
      "\n",
      "\n",
      "fig, axs = subplots(1, 2)\n",
      "axs[0].plot(meas)\n",
      "axs[1].plot(meas.T)"
     ],
     "language": "python",
     "metadata": {},
     "outputs": [
      {
       "metadata": {},
       "output_type": "pyout",
       "prompt_number": 8,
       "text": [
        "[<matplotlib.lines.Line2D at 0x111414b10>,\n",
        " <matplotlib.lines.Line2D at 0x11143f110>,\n",
        " <matplotlib.lines.Line2D at 0x1113d82d0>,\n",
        " <matplotlib.lines.Line2D at 0x1113cc150>,\n",
        " <matplotlib.lines.Line2D at 0x1113cc790>,\n",
        " <matplotlib.lines.Line2D at 0x1113c33d0>,\n",
        " <matplotlib.lines.Line2D at 0x1113c3c10>,\n",
        " <matplotlib.lines.Line2D at 0x1113c3810>]"
       ]
      },
      {
       "metadata": {},
       "output_type": "display_data",
       "png": "[encoded data removed]",
       "text": [
        "<matplotlib.figure.Figure at 0x111268d10>"
       ]
      }
     ],
     "prompt_number": 8
    },
    {
     "cell_type": "code",
     "collapsed": false,
     "input": [],
     "language": "python",
     "metadata": {},
     "outputs": [],
     "prompt_number": 8
    },
    {
     "cell_type": "code",
     "collapsed": false,
     "input": [
      "root = '/Users/hoonhout/GitHub/aeolis-models/dong2004-py/'\n",
      "\n",
      "x = np.arange(0., 21., .1)\n",
      "z = np.ones(x.shape)\n",
      "y = np.zeros(x.shape)\n",
      "\n",
      "print len(x)\n",
      "\n",
      "np.savetxt(os.path.join(root, 'x.txt'), np.matrix(x))\n",
      "np.savetxt(os.path.join(root, 'y.txt'), np.matrix(y))\n",
      "np.savetxt(os.path.join(root, 'z.txt'), np.matrix(z))"
     ],
     "language": "python",
     "metadata": {},
     "outputs": [
      {
       "output_type": "stream",
       "stream": "stdout",
       "text": [
        "210\n"
       ]
      }
     ],
     "prompt_number": 247
    },
    {
     "cell_type": "code",
     "collapsed": false,
     "input": [
      "u = range(8, 23, 2)\n",
      "for ui in u:\n",
      "    np.savetxt(os.path.join(root, 'wind_%02d.txt' % ui), np.matrix([[0., ui, 0.],\n",
      "                                                                    [3601., ui, 0.]]))"
     ],
     "language": "python",
     "metadata": {},
     "outputs": [],
     "prompt_number": 250
    },
    {
     "cell_type": "code",
     "collapsed": false,
     "input": [
      "import math\n",
      "\n",
      "aerf = lambda x: np.asarray([math.erf(xi) for xi in x])\n",
      "\n",
      "mu = 2.42\n",
      "sigma = .41\n",
      "alpha = .05\n",
      "\n",
      "delta = alpha / np.sqrt(1 + alpha**2)\n",
      "kurt = 2*(np.pi - 3)*((delta*np.sqrt(2/np.pi))**4)/(1-2*delta**2/np.pi)**2\n",
      "print kurt\n",
      "\n",
      "p = np.linspace(-2.,2.,20)\n",
      "y1 = 1./np.sqrt(2*np.pi) * exp(-p**2/sigma) \n",
      "y2 = .5 * (1 + aerf(alpha*p/np.sqrt(2)))\n",
      "\n",
      "fig, axs = subplots()\n",
      "axs.plot(2**(-(mu+p))*1e3, y1, '-xr')\n",
      "axs.plot(2**(-(mu+p))*1e3, 2*y1*y2, '-xb')\n",
      "\n",
      "grain_size = 2**(-(mu+p)) / 1000.\n",
      "grain_dist = 2*y1*y2\n",
      "\n",
      "grain_size = np.append(grain_size, 25e-3)\n",
      "grain_dist = np.append(grain_dist, 0.)"
     ],
     "language": "python",
     "metadata": {},
     "outputs": [
      {
       "output_type": "stream",
       "stream": "stdout",
       "text": [
        "7.16015243014e-07\n"
       ]
      },
      {
       "metadata": {},
       "output_type": "display_data",
       "png": "[encoded data removed]",
       "text": [
        "<matplotlib.figure.Figure at 0x108902510>"
       ]
      }
     ],
     "prompt_number": 163
    },
    {
     "cell_type": "code",
     "collapsed": false,
     "input": [
      "import aeolis.io\n",
      "\n",
      "arr_bi = [0., .05, .1, .2, .3, .4, .6, .8, 1.]\n",
      "arr_bi = [.01, .02, .03, .04]\n",
      "arr_lt = [1.] \n",
      "arr_u = [8, 10, 12, 14, 16, 18, 20, 22]\n",
      "arr_L = [.5, 1, 2, 4, 6, 8, 10, 12]\n",
      "arr_k = [.01] \n",
      "\n",
      "#fmt = 'dong2004_u%02d_L%04.1f_bi%0.4f_lt%0.4f'\n",
      "fmt = 'dong2004_u%02d_L%04.1f_bi%0.4f_k%0.4f'"
     ],
     "language": "python",
     "metadata": {},
     "outputs": [],
     "prompt_number": 5
    },
    {
     "cell_type": "code",
     "collapsed": false,
     "input": [
      "for bi in arr_bi:\n",
      "    for k in arr_k:\n",
      "        for u in arr_u:\n",
      "            for L in arr_L:\n",
      "            \n",
      "                if u == 8 and L == 1:\n",
      "                    continue\n",
      "\n",
      "                fname = fmt % (u, L, bi, k)\n",
      "                p = dict(T=0.05,\n",
      "                         bed_file='z.txt',\n",
      "                         bedupdate=False,\n",
      "                         th_roughness=False,\n",
      "                         bi=bi,\n",
      "                         dt=60.,\n",
      "                         z0=.6,\n",
      "                         k=k,\n",
      "                         grain_dist=grain_dist,\n",
      "                         grain_size=grain_size,\n",
      "                         layer_thickness=1.,\n",
      "                         nfractions=len(grain_size),\n",
      "                         nlayers=10,\n",
      "                         nx=209,\n",
      "                         ny=0,\n",
      "                         output_types=['avg'],\n",
      "                         output_times=60.,\n",
      "                         output_vars=['Ct', 'Cu', 'pickup', 'mass', 'uth'],\n",
      "                         scheme='euler_backward',\n",
      "                         tstop=360.,\n",
      "                         wind_file='wind_%02d.txt' % u,\n",
      "                         xgrid_file='x.txt',\n",
      "                         ygrid_file='y.txt',\n",
      "                         callback='callback.py:add_gravel_%03d0' % (10*L))\n",
      "                aeolis.io.write_configfile(os.path.join(root, '%s.txt' % fname), p)"
     ],
     "language": "python",
     "metadata": {},
     "outputs": [],
     "prompt_number": 328
    },
    {
     "cell_type": "code",
     "collapsed": false,
     "input": [
      "import aeolis\n",
      "reload(aeolis)\n",
      "\n",
      "a = aeolis.AeoLiS(root,\n",
      "                outputvars=['Ct', 'Cu', 'supply', 'mass', 'uth'],\n",
      "                outputtypes=['avg'],\n",
      "                outputtimes=60.,\n",
      "                bedupdate=False,\n",
      "                th_bedslope=False,\n",
      "                gusts=False,\n",
      "                scheme='euler_forward',\n",
      "                CFL=1.,\n",
      "                dt=60.,\n",
      "                nx=len(x),\n",
      "                ny=0,\n",
      "                tout=60.,\n",
      "                tstop=360.,\n",
      "                accfac=1.,\n",
      "                bi=.2,\n",
      "                nfractions=len(grain_dist),\n",
      "                nlayers=10,\n",
      "                F=0.,\n",
      "                Cw=0.,\n",
      "                Tp=.1,\n",
      "                max_error=1e-3,\n",
      "                layer_thickness=1e-3,\n",
      "                grain_size=grain_size,\n",
      "                grain_dist=grain_dist,\n",
      "                xgrid_file='x.txt',\n",
      "                ygrid_file='y.txt',\n",
      "                bed_file='z.txt',\n",
      "                wind_file='wind_08.txt')\n",
      "\n",
      "a.set_ncattrs(institution='Delft University of Technology',\n",
      "              creator_name='Bas Hoonhout',\n",
      "              creator_email='b.m.hoonhout@tudelft.nl')"
     ],
     "language": "python",
     "metadata": {},
     "outputs": [],
     "prompt_number": 512
    },
    {
     "cell_type": "code",
     "collapsed": false,
     "input": [
      "def add_gravel(model, t, L):\n",
      "    if t == 0:\n",
      "        n = int(10*L)\n",
      "        mass = model.get_var('mass')\n",
      "        mass[:,-n:,:,-1] = mass[:,-n:,:,:].sum(axis=3)\n",
      "        mass[:,-n:,:,:-1] = 0.\n",
      "        model.set_var('mass', mass)\n",
      "\n",
      "root = '/Users/hoonhout/GitHub/aeolis-models/dong2004/'\n",
      "\n",
      "for bi in [0.025, .05, .1, .2]:\n",
      "    for u in [8, 10, 12, 14, 16, 18, 20, 22]:\n",
      "        for L in [.5, 1, 2, 4, 6, 8, 10, 12]:\n",
      "            fname = 'dong2004_u%02d_L%04.1f_bi%0.4f' % (u, L, bi)\n",
      "            if os.path.exists(os.path.join(root, '%s.nc' % fname)):\n",
      "                continue\n",
      "            a.set_params(wind_file='wind_%02d.txt' % u, bi=bi)\n",
      "            a.set_configfile('%s.txt' % fname)\n",
      "            a.set_outputfile('%s.nc' % fname)\n",
      "            a.run(callback=lambda model, t: add_gravel(model, t, L))"
     ],
     "language": "python",
     "metadata": {},
     "outputs": [
      {
       "output_type": "stream",
       "stream": "stdout",
       "text": [
        " \n",
        "         d8888                   888      d8b  .d8888b.   \n",
        "        d88888                   888      Y8P d88P  Y88b  \n",
        "       d88P888                   888          Y88b.       \n",
        "      d88P 888  .d88b.   .d88b.  888      888  \"Y888b.    \n",
        "     d88P  888 d8P  Y8b d88\"\"88b 888      888     \"Y88b.  \n",
        "    d88P   888 88888888 888  888 888      888       \"888  \n",
        "   d8888888888 Y8b.     Y88..88P 888      888 Y88b  d88P  \n",
        "  d88P     888  \"Y8888   \"Y88P\"  88888888 888  \"Y8888P\"   \n",
        " \n",
        "Process ID #77000\n",
        " \n",
        "Writing input to /Users/hoonhout/GitHub/aeolis-models/dong2004/dong2004_u08_L00.5_bi0.0250.txt\n",
        " \n",
        "[ 10.0%] 00:00:05 / 00:00:59 / 00:00:53 (avg. dt=0.012)\n",
        "[ 20.0%] 00:00:10 / 00:00:51 / 00:00:40 (avg. dt=0.013)\n",
        "[ 30.0%] 00:00:14 / 00:00:46 / 00:00:32 (avg. dt=0.013)\n",
        "[ 40.0%] 00:00:18 / 00:00:45 / 00:00:27 (avg. dt=0.013)\n",
        "[ 50.0%] 00:00:23 / 00:00:46 / 00:00:23 (avg. dt=0.012)\n",
        "[ 60.0%] 00:00:28 / 00:00:47 / 00:00:19 (avg. dt=0.012)\n",
        "[ 70.0%] 00:00:32 / 00:00:46 / 00:00:14 (avg. dt=0.012)\n",
        "[ 80.0%] 00:00:36 / 00:00:45 / 00:00:09 (avg. dt=0.012)\n",
        "[ 90.0%] 00:00:40 / 00:00:44 / 00:00:04 (avg. dt=0.012)\n",
        "Done.\n"
       ]
      },
      {
       "output_type": "stream",
       "stream": "stdout",
       "text": [
        " \n",
        "         d8888                   888      d8b  .d8888b.   \n",
        "        d88888                   888      Y8P d88P  Y88b  \n",
        "       d88P888                   888          Y88b.       \n",
        "      d88P 888  .d88b.   .d88b.  888      888  \"Y888b.    \n",
        "     d88P  888 d8P  Y8b d88\"\"88b 888      888     \"Y88b.  \n",
        "    d88P   888 88888888 888  888 888      888       \"888  \n",
        "   d8888888888 Y8b.     Y88..88P 888      888 Y88b  d88P  \n",
        "  d88P     888  \"Y8888   \"Y88P\"  88888888 888  \"Y8888P\"   \n",
        " \n",
        "Process ID #77009\n",
        " \n",
        "Writing input to /Users/hoonhout/GitHub/aeolis-models/dong2004/dong2004_u08_L01.0_bi0.0250.txt\n",
        " \n",
        "[ 10.0%] 00:00:03 / 00:00:39 / 00:00:35 (avg. dt=0.012)\n",
        "[ 20.0%] 00:00:08 / 00:00:40 / 00:00:32 (avg. dt=0.013)\n",
        "[ 30.0%] 00:00:13 / 00:00:43 / 00:00:30 (avg. dt=0.013)\n",
        "[ 40.0%] 00:00:18 / 00:00:45 / 00:00:27 (avg. dt=0.013)\n",
        "[ 50.0%] 00:00:23 / 00:00:47 / 00:00:23 (avg. dt=0.012)\n",
        "[ 60.0%] 00:00:30 / 00:00:51 / 00:00:20 (avg. dt=0.012)\n",
        "[ 70.0%] 00:00:36 / 00:00:52 / 00:00:15 (avg. dt=0.012)\n",
        "[ 80.0%] 00:00:41 / 00:00:51 / 00:00:10 (avg. dt=0.012)\n",
        "[ 90.0%] 00:00:45 / 00:00:50 / 00:00:05 (avg. dt=0.012)\n",
        "Done.\n"
       ]
      },
      {
       "output_type": "stream",
       "stream": "stdout",
       "text": [
        " \n",
        "         d8888                   888      d8b  .d8888b.   \n",
        "        d88888                   888      Y8P d88P  Y88b  \n",
        "       d88P888                   888          Y88b.       \n",
        "      d88P 888  .d88b.   .d88b.  888      888  \"Y888b.    \n",
        "     d88P  888 d8P  Y8b d88\"\"88b 888      888     \"Y88b.  \n",
        "    d88P   888 88888888 888  888 888      888       \"888  \n",
        "   d8888888888 Y8b.     Y88..88P 888      888 Y88b  d88P  \n",
        "  d88P     888  \"Y8888   \"Y88P\"  88888888 888  \"Y8888P\"   \n",
        " \n",
        "Process ID #77014\n",
        " \n",
        "Writing input to /Users/hoonhout/GitHub/aeolis-models/dong2004/dong2004_u08_L02.0_bi0.0250.txt\n",
        " \n",
        "[ 10.0%] 00:00:04 / 00:00:40 / 00:00:36 (avg. dt=0.012)\n",
        "[ 20.0%] 00:00:08 / 00:00:40 / 00:00:32 (avg. dt=0.013)\n",
        "[ 30.0%] 00:00:12 / 00:00:40 / 00:00:28 (avg. dt=0.013)\n",
        "[ 40.0%] 00:00:16 / 00:00:40 / 00:00:24 (avg. dt=0.013)\n",
        "[ 50.0%] 00:00:19 / 00:00:39 / 00:00:19 (avg. dt=0.012)\n",
        "[ 60.0%] 00:00:23 / 00:00:39 / 00:00:15 (avg. dt=0.012)\n",
        "[ 70.0%] 00:00:27 / 00:00:39 / 00:00:11 (avg. dt=0.012)\n",
        "[ 80.0%] 00:00:31 / 00:00:39 / 00:00:07 (avg. dt=0.012)\n",
        "[ 90.0%] 00:00:35 / 00:00:39 / 00:00:03 (avg. dt=0.012)\n",
        "Done.\n"
       ]
      },
      {
       "output_type": "stream",
       "stream": "stdout",
       "text": [
        " \n",
        "         d8888                   888      d8b  .d8888b.   \n",
        "        d88888                   888      Y8P d88P  Y88b  \n",
        "       d88P888                   888          Y88b.       \n",
        "      d88P 888  .d88b.   .d88b.  888      888  \"Y888b.    \n",
        "     d88P  888 d8P  Y8b d88\"\"88b 888      888     \"Y88b.  \n",
        "    d88P   888 88888888 888  888 888      888       \"888  \n",
        "   d8888888888 Y8b.     Y88..88P 888      888 Y88b  d88P  \n",
        "  d88P     888  \"Y8888   \"Y88P\"  88888888 888  \"Y8888P\"   \n",
        " \n",
        "Process ID #77018\n",
        " \n",
        "Writing input to /Users/hoonhout/GitHub/aeolis-models/dong2004/dong2004_u08_L04.0_bi0.0250.txt\n",
        " \n",
        "[ 10.0%] 00:00:03 / 00:00:39 / 00:00:35 (avg. dt=0.012)\n",
        "[ 20.0%] 00:00:07 / 00:00:39 / 00:00:31 (avg. dt=0.013)\n",
        "[ 30.0%] 00:00:11 / 00:00:39 / 00:00:27 (avg. dt=0.013)\n",
        "[ 40.0%] 00:00:15 / 00:00:38 / 00:00:23 (avg. dt=0.013)\n",
        "[ 50.0%] 00:00:19 / 00:00:38 / 00:00:19 (avg. dt=0.012)\n",
        "[ 60.0%] 00:00:23 / 00:00:38 / 00:00:15 (avg. dt=0.012)\n",
        "[ 70.0%] 00:00:27 / 00:00:38 / 00:00:11 (avg. dt=0.012)\n",
        "[ 80.0%] 00:00:30 / 00:00:38 / 00:00:07 (avg. dt=0.012)\n",
        "[ 90.0%] 00:00:34 / 00:00:38 / 00:00:03 (avg. dt=0.012)\n",
        "Done.\n"
       ]
      },
      {
       "output_type": "stream",
       "stream": "stdout",
       "text": [
        " \n",
        "         d8888                   888      d8b  .d8888b.   \n",
        "        d88888                   888      Y8P d88P  Y88b  \n",
        "       d88P888                   888          Y88b.       \n",
        "      d88P 888  .d88b.   .d88b.  888      888  \"Y888b.    \n",
        "     d88P  888 d8P  Y8b d88\"\"88b 888      888     \"Y88b.  \n",
        "    d88P   888 88888888 888  888 888      888       \"888  \n",
        "   d8888888888 Y8b.     Y88..88P 888      888 Y88b  d88P  \n",
        "  d88P     888  \"Y8888   \"Y88P\"  88888888 888  \"Y8888P\"   \n",
        " \n",
        "Process ID #77022\n",
        " \n",
        "Writing input to /Users/hoonhout/GitHub/aeolis-models/dong2004/dong2004_u08_L06.0_bi0.0250.txt\n",
        " \n",
        "[ 10.0%] 00:00:03 / 00:00:38 / 00:00:35 (avg. dt=0.012)\n",
        "[ 20.0%] 00:00:07 / 00:00:38 / 00:00:31 (avg. dt=0.013)\n",
        "[ 30.0%] 00:00:11 / 00:00:38 / 00:00:27 (avg. dt=0.013)\n",
        "[ 40.0%] 00:00:15 / 00:00:38 / 00:00:23 (avg. dt=0.013)\n",
        "[ 50.0%] 00:00:19 / 00:00:38 / 00:00:19 (avg. dt=0.012)\n",
        "[ 60.0%] 00:00:22 / 00:00:38 / 00:00:15 (avg. dt=0.012)\n",
        "[ 70.0%] 00:00:26 / 00:00:37 / 00:00:11 (avg. dt=0.012)\n",
        "[ 80.0%] 00:00:30 / 00:00:37 / 00:00:07 (avg. dt=0.012)\n",
        "[ 90.0%] 00:00:34 / 00:00:37 / 00:00:03 (avg. dt=0.012)\n",
        "Done.\n"
       ]
      },
      {
       "output_type": "stream",
       "stream": "stdout",
       "text": [
        " \n",
        "         d8888                   888      d8b  .d8888b.   \n",
        "        d88888                   888      Y8P d88P  Y88b  \n",
        "       d88P888                   888          Y88b.       \n",
        "      d88P 888  .d88b.   .d88b.  888      888  \"Y888b.    \n",
        "     d88P  888 d8P  Y8b d88\"\"88b 888      888     \"Y88b.  \n",
        "    d88P   888 88888888 888  888 888      888       \"888  \n",
        "   d8888888888 Y8b.     Y88..88P 888      888 Y88b  d88P  \n",
        "  d88P     888  \"Y8888   \"Y88P\"  88888888 888  \"Y8888P\"   \n",
        " \n",
        "Process ID #77026\n",
        " \n",
        "Writing input to /Users/hoonhout/GitHub/aeolis-models/dong2004/dong2004_u08_L08.0_bi0.0250.txt\n",
        " \n",
        "[ 10.0%] 00:00:03 / 00:00:38 / 00:00:35 (avg. dt=0.012)\n",
        "[ 20.0%] 00:00:07 / 00:00:38 / 00:00:30 (avg. dt=0.013)\n",
        "[ 30.0%] 00:00:11 / 00:00:38 / 00:00:26 (avg. dt=0.013)\n",
        "[ 40.0%] 00:00:15 / 00:00:38 / 00:00:23 (avg. dt=0.013)\n",
        "[ 50.0%] 00:00:19 / 00:00:38 / 00:00:19 (avg. dt=0.012)\n",
        "[ 60.0%] 00:00:22 / 00:00:38 / 00:00:15 (avg. dt=0.012)\n",
        "[ 70.0%] 00:00:26 / 00:00:38 / 00:00:11 (avg. dt=0.012)\n",
        "[ 80.0%] 00:00:30 / 00:00:38 / 00:00:07 (avg. dt=0.012)\n",
        "[ 90.0%] 00:00:34 / 00:00:38 / 00:00:03 (avg. dt=0.012)\n",
        "Done.\n"
       ]
      },
      {
       "output_type": "stream",
       "stream": "stdout",
       "text": [
        " \n",
        "         d8888                   888      d8b  .d8888b.   \n",
        "        d88888                   888      Y8P d88P  Y88b  \n",
        "       d88P888                   888          Y88b.       \n",
        "      d88P 888  .d88b.   .d88b.  888      888  \"Y888b.    \n",
        "     d88P  888 d8P  Y8b d88\"\"88b 888      888     \"Y88b.  \n",
        "    d88P   888 88888888 888  888 888      888       \"888  \n",
        "   d8888888888 Y8b.     Y88..88P 888      888 Y88b  d88P  \n",
        "  d88P     888  \"Y8888   \"Y88P\"  88888888 888  \"Y8888P\"   \n",
        " \n",
        "Process ID #77030\n",
        " \n",
        "Writing input to /Users/hoonhout/GitHub/aeolis-models/dong2004/dong2004_u08_L10.0_bi0.0250.txt\n",
        " \n",
        "[ 10.0%] 00:00:03 / 00:00:38 / 00:00:34 (avg. dt=0.012)\n",
        "[ 20.0%] 00:00:07 / 00:00:38 / 00:00:31 (avg. dt=0.013)\n",
        "[ 30.0%] 00:00:11 / 00:00:38 / 00:00:26 (avg. dt=0.013)\n",
        "[ 40.0%] 00:00:15 / 00:00:38 / 00:00:23 (avg. dt=0.013)\n",
        "[ 50.0%] 00:00:19 / 00:00:38 / 00:00:19 (avg. dt=0.012)\n",
        "[ 60.0%] 00:00:23 / 00:00:38 / 00:00:15 (avg. dt=0.012)\n",
        "[ 70.0%] 00:00:27 / 00:00:38 / 00:00:11 (avg. dt=0.012)\n",
        "[ 80.0%] 00:00:30 / 00:00:38 / 00:00:07 (avg. dt=0.012)\n",
        "[ 90.0%] 00:00:34 / 00:00:38 / 00:00:03 (avg. dt=0.012)\n",
        "Done.\n"
       ]
      },
      {
       "output_type": "stream",
       "stream": "stdout",
       "text": [
        " \n",
        "         d8888                   888      d8b  .d8888b.   \n",
        "        d88888                   888      Y8P d88P  Y88b  \n",
        "       d88P888                   888          Y88b.       \n",
        "      d88P 888  .d88b.   .d88b.  888      888  \"Y888b.    \n",
        "     d88P  888 d8P  Y8b d88\"\"88b 888      888     \"Y88b.  \n",
        "    d88P   888 88888888 888  888 888      888       \"888  \n",
        "   d8888888888 Y8b.     Y88..88P 888      888 Y88b  d88P  \n",
        "  d88P     888  \"Y8888   \"Y88P\"  88888888 888  \"Y8888P\"   \n",
        " \n",
        "Process ID #77034\n",
        " \n",
        "Writing input to /Users/hoonhout/GitHub/aeolis-models/dong2004/dong2004_u08_L12.0_bi0.0250.txt\n",
        " \n",
        "[ 10.0%] 00:00:04 / 00:00:40 / 00:00:36 (avg. dt=0.012)\n",
        "[ 20.0%] 00:00:08 / 00:00:41 / 00:00:32 (avg. dt=0.013)\n",
        "[ 30.0%] 00:00:12 / 00:00:41 / 00:00:28 (avg. dt=0.013)\n",
        "[ 40.0%] 00:00:16 / 00:00:41 / 00:00:24 (avg. dt=0.013)\n",
        "[ 50.0%] 00:00:20 / 00:00:41 / 00:00:20 (avg. dt=0.012)\n",
        "[ 60.0%] 00:00:24 / 00:00:40 / 00:00:16 (avg. dt=0.012)\n",
        "[ 70.0%] 00:00:28 / 00:00:40 / 00:00:12 (avg. dt=0.012)\n",
        "[ 80.0%] 00:00:32 / 00:00:40 / 00:00:08 (avg. dt=0.012)\n",
        "[ 90.0%] 00:00:36 / 00:00:40 / 00:00:04 (avg. dt=0.012)\n",
        "Done.\n"
       ]
      },
      {
       "output_type": "stream",
       "stream": "stdout",
       "text": [
        " \n",
        "         d8888                   888      d8b  .d8888b.   \n",
        "        d88888                   888      Y8P d88P  Y88b  \n",
        "       d88P888                   888          Y88b.       \n",
        "      d88P 888  .d88b.   .d88b.  888      888  \"Y888b.    \n",
        "     d88P  888 d8P  Y8b d88\"\"88b 888      888     \"Y88b.  \n",
        "    d88P   888 88888888 888  888 888      888       \"888  \n",
        "   d8888888888 Y8b.     Y88..88P 888      888 Y88b  d88P  \n",
        "  d88P     888  \"Y8888   \"Y88P\"  88888888 888  \"Y8888P\"   \n",
        " \n",
        "Process ID #77039\n",
        " \n",
        "Writing input to /Users/hoonhout/GitHub/aeolis-models/dong2004/dong2004_u10_L00.5_bi0.0250.txt\n",
        " \n",
        "[ 10.0%] 00:00:04 / 00:00:47 / 00:00:42 (avg. dt=0.010)\n",
        "[ 20.0%] 00:00:09 / 00:00:47 / 00:00:37 (avg. dt=0.010)\n",
        "[ 30.0%] 00:00:14 / 00:00:47 / 00:00:32 (avg. dt=0.010)\n",
        "[ 40.0%] 00:00:18 / 00:00:47 / 00:00:28 (avg. dt=0.010)\n",
        "[ 50.0%] 00:00:23 / 00:00:47 / 00:00:23 (avg. dt=0.010)\n",
        "[ 60.0%] 00:00:28 / 00:00:47 / 00:00:18 (avg. dt=0.010)\n",
        "[ 70.0%] 00:00:33 / 00:00:47 / 00:00:14 (avg. dt=0.010)\n",
        "[ 80.0%] 00:00:37 / 00:00:47 / 00:00:09 (avg. dt=0.010)\n",
        "[ 90.0%] 00:00:42 / 00:00:47 / 00:00:04 (avg. dt=0.010)\n",
        "Done.\n"
       ]
      },
      {
       "output_type": "stream",
       "stream": "stdout",
       "text": [
        " \n",
        "         d8888                   888      d8b  .d8888b.   \n",
        "        d88888                   888      Y8P d88P  Y88b  \n",
        "       d88P888                   888          Y88b.       \n",
        "      d88P 888  .d88b.   .d88b.  888      888  \"Y888b.    \n",
        "     d88P  888 d8P  Y8b d88\"\"88b 888      888     \"Y88b.  \n",
        "    d88P   888 88888888 888  888 888      888       \"888  \n",
        "   d8888888888 Y8b.     Y88..88P 888      888 Y88b  d88P  \n",
        "  d88P     888  \"Y8888   \"Y88P\"  88888888 888  \"Y8888P\"   \n",
        " \n",
        "Process ID #77043\n",
        " \n",
        "Writing input to /Users/hoonhout/GitHub/aeolis-models/dong2004/dong2004_u10_L01.0_bi0.0250.txt\n",
        " \n",
        "[ 10.0%] 00:00:04 / 00:00:47 / 00:00:43 (avg. dt=0.010)\n",
        "[ 20.0%] 00:00:09 / 00:00:47 / 00:00:37 (avg. dt=0.010)\n",
        "[ 30.0%] 00:00:14 / 00:00:46 / 00:00:32 (avg. dt=0.010)\n",
        "[ 40.0%] 00:00:18 / 00:00:46 / 00:00:28 (avg. dt=0.010)\n",
        "[ 50.0%] 00:00:23 / 00:00:46 / 00:00:23 (avg. dt=0.010)\n",
        "[ 60.0%] 00:00:28 / 00:00:46 / 00:00:18 (avg. dt=0.010)\n",
        "[ 70.0%] 00:00:32 / 00:00:46 / 00:00:14 (avg. dt=0.010)\n",
        "[ 80.0%] 00:00:37 / 00:00:46 / 00:00:09 (avg. dt=0.010)\n",
        "[ 90.0%] 00:00:42 / 00:00:46 / 00:00:04 (avg. dt=0.010)\n",
        "Done.\n"
       ]
      },
      {
       "output_type": "stream",
       "stream": "stdout",
       "text": [
        " \n",
        "         d8888                   888      d8b  .d8888b.   \n",
        "        d88888                   888      Y8P d88P  Y88b  \n",
        "       d88P888                   888          Y88b.       \n",
        "      d88P 888  .d88b.   .d88b.  888      888  \"Y888b.    \n",
        "     d88P  888 d8P  Y8b d88\"\"88b 888      888     \"Y88b.  \n",
        "    d88P   888 88888888 888  888 888      888       \"888  \n",
        "   d8888888888 Y8b.     Y88..88P 888      888 Y88b  d88P  \n",
        "  d88P     888  \"Y8888   \"Y88P\"  88888888 888  \"Y8888P\"   \n",
        " \n",
        "Process ID #77047\n",
        " \n",
        "Writing input to /Users/hoonhout/GitHub/aeolis-models/dong2004/dong2004_u10_L02.0_bi0.0250.txt\n",
        " \n",
        "[ 10.0%] 00:00:04 / 00:00:48 / 00:00:43 (avg. dt=0.010)\n",
        "[ 20.0%] 00:00:09 / 00:00:47 / 00:00:37 (avg. dt=0.010)\n",
        "[ 30.0%] 00:00:14 / 00:00:47 / 00:00:33 (avg. dt=0.010)\n",
        "[ 40.0%] 00:00:19 / 00:00:47 / 00:00:28 (avg. dt=0.010)\n",
        "[ 50.0%] 00:00:23 / 00:00:47 / 00:00:23 (avg. dt=0.010)\n",
        "[ 60.0%] 00:00:28 / 00:00:47 / 00:00:19 (avg. dt=0.010)\n",
        "[ 70.0%] 00:00:33 / 00:00:48 / 00:00:14 (avg. dt=0.010)\n",
        "[ 80.0%] 00:00:38 / 00:00:48 / 00:00:09 (avg. dt=0.010)\n",
        "[ 90.0%] 00:00:43 / 00:00:48 / 00:00:04 (avg. dt=0.010)\n",
        "Done.\n"
       ]
      },
      {
       "output_type": "stream",
       "stream": "stdout",
       "text": [
        " \n",
        "         d8888                   888      d8b  .d8888b.   \n",
        "        d88888                   888      Y8P d88P  Y88b  \n",
        "       d88P888                   888          Y88b.       \n",
        "      d88P 888  .d88b.   .d88b.  888      888  \"Y888b.    \n",
        "     d88P  888 d8P  Y8b d88\"\"88b 888      888     \"Y88b.  \n",
        "    d88P   888 88888888 888  888 888      888       \"888  \n",
        "   d8888888888 Y8b.     Y88..88P 888      888 Y88b  d88P  \n",
        "  d88P     888  \"Y8888   \"Y88P\"  88888888 888  \"Y8888P\"   \n",
        " \n",
        "Process ID #77051\n",
        " \n",
        "Writing input to /Users/hoonhout/GitHub/aeolis-models/dong2004/dong2004_u10_L04.0_bi0.0250.txt\n",
        " \n",
        "[ 10.0%] 00:00:04 / 00:00:48 / 00:00:43 (avg. dt=0.010)\n",
        "[ 20.0%] 00:00:09 / 00:00:48 / 00:00:38 (avg. dt=0.010)\n",
        "[ 30.0%] 00:00:14 / 00:00:48 / 00:00:33 (avg. dt=0.010)\n",
        "[ 40.0%] 00:00:19 / 00:00:48 / 00:00:28 (avg. dt=0.010)\n",
        "[ 50.0%] 00:00:24 / 00:00:48 / 00:00:24 (avg. dt=0.010)\n",
        "[ 60.0%] 00:00:28 / 00:00:47 / 00:00:19 (avg. dt=0.010)\n",
        "[ 70.0%] 00:00:33 / 00:00:47 / 00:00:14 (avg. dt=0.010)\n",
        "[ 80.0%] 00:00:38 / 00:00:47 / 00:00:09 (avg. dt=0.010)\n",
        "[ 90.0%] 00:00:42 / 00:00:47 / 00:00:04 (avg. dt=0.010)\n",
        "Done.\n"
       ]
      },
      {
       "output_type": "stream",
       "stream": "stdout",
       "text": [
        " \n",
        "         d8888                   888      d8b  .d8888b.   \n",
        "        d88888                   888      Y8P d88P  Y88b  \n",
        "       d88P888                   888          Y88b.       \n",
        "      d88P 888  .d88b.   .d88b.  888      888  \"Y888b.    \n",
        "     d88P  888 d8P  Y8b d88\"\"88b 888      888     \"Y88b.  \n",
        "    d88P   888 88888888 888  888 888      888       \"888  \n",
        "   d8888888888 Y8b.     Y88..88P 888      888 Y88b  d88P  \n",
        "  d88P     888  \"Y8888   \"Y88P\"  88888888 888  \"Y8888P\"   \n",
        " \n",
        "Process ID #77055\n",
        " \n",
        "Writing input to /Users/hoonhout/GitHub/aeolis-models/dong2004/dong2004_u10_L06.0_bi0.0250.txt\n",
        " \n",
        "[ 10.0%] 00:00:04 / 00:00:48 / 00:00:44 (avg. dt=0.010)\n",
        "[ 20.0%] 00:00:09 / 00:00:48 / 00:00:39 (avg. dt=0.010)\n",
        "[ 30.0%] 00:00:14 / 00:00:48 / 00:00:34 (avg. dt=0.010)\n",
        "[ 40.0%] 00:00:19 / 00:00:48 / 00:00:28 (avg. dt=0.010)\n",
        "[ 50.0%] 00:00:24 / 00:00:48 / 00:00:24 (avg. dt=0.010)\n",
        "[ 60.0%] 00:00:28 / 00:00:48 / 00:00:19 (avg. dt=0.010)\n",
        "[ 70.0%] 00:00:33 / 00:00:48 / 00:00:14 (avg. dt=0.010)\n",
        "[ 80.0%] 00:00:38 / 00:00:48 / 00:00:09 (avg. dt=0.010)\n",
        "[ 90.0%] 00:00:43 / 00:00:48 / 00:00:04 (avg. dt=0.010)\n",
        "Done.\n"
       ]
      },
      {
       "output_type": "stream",
       "stream": "stdout",
       "text": [
        " \n",
        "         d8888                   888      d8b  .d8888b.   \n",
        "        d88888                   888      Y8P d88P  Y88b  \n",
        "       d88P888                   888          Y88b.       \n",
        "      d88P 888  .d88b.   .d88b.  888      888  \"Y888b.    \n",
        "     d88P  888 d8P  Y8b d88\"\"88b 888      888     \"Y88b.  \n",
        "    d88P   888 88888888 888  888 888      888       \"888  \n",
        "   d8888888888 Y8b.     Y88..88P 888      888 Y88b  d88P  \n",
        "  d88P     888  \"Y8888   \"Y88P\"  88888888 888  \"Y8888P\"   \n",
        " \n",
        "Process ID #77060\n",
        " \n",
        "Writing input to /Users/hoonhout/GitHub/aeolis-models/dong2004/dong2004_u10_L08.0_bi0.0250.txt\n",
        " \n",
        "[ 10.0%] 00:00:05 / 00:00:51 / 00:00:46 (avg. dt=0.010)\n",
        "[ 20.0%] 00:00:09 / 00:00:49 / 00:00:39 (avg. dt=0.010)\n",
        "[ 30.0%] 00:00:16 / 00:00:56 / 00:00:39 (avg. dt=0.010)\n",
        "[ 40.0%] 00:00:24 / 00:01:01 / 00:00:36 (avg. dt=0.010)\n",
        "[ 50.0%] 00:00:32 / 00:01:04 / 00:00:32 (avg. dt=0.010)\n",
        "[ 60.0%] 00:00:38 / 00:01:04 / 00:00:25 (avg. dt=0.010)\n",
        "[ 70.0%] 00:00:44 / 00:01:03 / 00:00:18 (avg. dt=0.010)\n",
        "[ 80.0%] 00:00:49 / 00:01:01 / 00:00:12 (avg. dt=0.010)\n",
        "[ 90.0%] 00:00:54 / 00:01:00 / 00:00:06 (avg. dt=0.010)\n",
        "Done.\n"
       ]
      },
      {
       "output_type": "stream",
       "stream": "stdout",
       "text": [
        " \n",
        "         d8888                   888      d8b  .d8888b.   \n",
        "        d88888                   888      Y8P d88P  Y88b  \n",
        "       d88P888                   888          Y88b.       \n",
        "      d88P 888  .d88b.   .d88b.  888      888  \"Y888b.    \n",
        "     d88P  888 d8P  Y8b d88\"\"88b 888      888     \"Y88b.  \n",
        "    d88P   888 88888888 888  888 888      888       \"888  \n",
        "   d8888888888 Y8b.     Y88..88P 888      888 Y88b  d88P  \n",
        "  d88P     888  \"Y8888   \"Y88P\"  88888888 888  \"Y8888P\"   \n",
        " \n",
        "Process ID #77076\n",
        " \n",
        "Writing input to /Users/hoonhout/GitHub/aeolis-models/dong2004/dong2004_u10_L10.0_bi0.0250.txt\n",
        " \n",
        "[ 10.0%] 00:00:05 / 00:00:52 / 00:00:47 (avg. dt=0.010)\n",
        "[ 20.0%] 00:00:10 / 00:00:51 / 00:00:40 (avg. dt=0.010)\n",
        "[ 30.0%] 00:00:15 / 00:00:51 / 00:00:35 (avg. dt=0.010)\n",
        "[ 40.0%] 00:00:20 / 00:00:51 / 00:00:30 (avg. dt=0.010)\n",
        "[ 50.0%] 00:00:25 / 00:00:50 / 00:00:25 (avg. dt=0.010)\n",
        "[ 60.0%] 00:00:30 / 00:00:51 / 00:00:20 (avg. dt=0.010)\n",
        "[ 70.0%] 00:00:35 / 00:00:51 / 00:00:15 (avg. dt=0.010)\n",
        "[ 80.0%] 00:00:41 / 00:00:51 / 00:00:10 (avg. dt=0.010)\n",
        "[ 90.0%] 00:00:46 / 00:00:51 / 00:00:05 (avg. dt=0.010)\n",
        "Done.\n"
       ]
      },
      {
       "output_type": "stream",
       "stream": "stdout",
       "text": [
        " \n",
        "         d8888                   888      d8b  .d8888b.   \n",
        "        d88888                   888      Y8P d88P  Y88b  \n",
        "       d88P888                   888          Y88b.       \n",
        "      d88P 888  .d88b.   .d88b.  888      888  \"Y888b.    \n",
        "     d88P  888 d8P  Y8b d88\"\"88b 888      888     \"Y88b.  \n",
        "    d88P   888 88888888 888  888 888      888       \"888  \n",
        "   d8888888888 Y8b.     Y88..88P 888      888 Y88b  d88P  \n",
        "  d88P     888  \"Y8888   \"Y88P\"  88888888 888  \"Y8888P\"   \n",
        " \n",
        "Process ID #77080\n",
        " \n",
        "Writing input to /Users/hoonhout/GitHub/aeolis-models/dong2004/dong2004_u10_L12.0_bi0.0250.txt\n",
        " \n",
        "[ 10.0%] 00:00:06 / 00:01:05 / 00:00:58 (avg. dt=0.010)\n",
        "[ 20.0%] 00:00:12 / 00:01:00 / 00:00:48 (avg. dt=0.010)\n",
        "[ 30.0%] 00:00:19 / 00:01:03 / 00:00:44 (avg. dt=0.010)\n",
        "[ 40.0%] 00:00:24 / 00:01:01 / 00:00:37 (avg. dt=0.010)\n",
        "[ 50.0%] 00:00:31 / 00:01:03 / 00:00:31 (avg. dt=0.010)\n",
        "[ 60.0%] 00:00:37 / 00:01:02 / 00:00:25 (avg. dt=0.010)\n",
        "[ 70.0%] 00:00:43 / 00:01:02 / 00:00:18 (avg. dt=0.010)\n",
        "[ 80.0%] 00:00:48 / 00:01:01 / 00:00:12 (avg. dt=0.010)\n",
        "[ 90.0%] 00:00:54 / 00:01:00 / 00:00:06 (avg. dt=0.010)\n",
        "Done.\n"
       ]
      },
      {
       "output_type": "stream",
       "stream": "stdout",
       "text": [
        " \n",
        "         d8888                   888      d8b  .d8888b.   \n",
        "        d88888                   888      Y8P d88P  Y88b  \n",
        "       d88P888                   888          Y88b.       \n",
        "      d88P 888  .d88b.   .d88b.  888      888  \"Y888b.    \n",
        "     d88P  888 d8P  Y8b d88\"\"88b 888      888     \"Y88b.  \n",
        "    d88P   888 88888888 888  888 888      888       \"888  \n",
        "   d8888888888 Y8b.     Y88..88P 888      888 Y88b  d88P  \n",
        "  d88P     888  \"Y8888   \"Y88P\"  88888888 888  \"Y8888P\"   \n",
        " \n",
        "Process ID #77090\n",
        " \n",
        "Writing input to /Users/hoonhout/GitHub/aeolis-models/dong2004/dong2004_u12_L00.5_bi0.0250.txt\n",
        " \n",
        "[ 10.0%] 00:00:07 / 00:01:11 / 00:01:03 (avg. dt=0.008)\n",
        "[ 20.0%] 00:00:13 / 00:01:07 / 00:00:53 (avg. dt=0.008)\n",
        "[ 30.0%] 00:00:20 / 00:01:07 / 00:00:47 (avg. dt=0.008)\n",
        "[ 40.0%] 00:00:28 / 00:01:10 / 00:00:42 (avg. dt=0.008)\n",
        "[ 50.0%] 00:00:35 / 00:01:11 / 00:00:35 (avg. dt=0.008)\n",
        "[ 60.0%] 00:00:43 / 00:01:11 / 00:00:28 (avg. dt=0.008)\n",
        "[ 70.0%] 00:00:50 / 00:01:11 / 00:00:21 (avg. dt=0.008)\n",
        "[ 80.0%] 00:00:56 / 00:01:10 / 00:00:14 (avg. dt=0.008)\n",
        "[ 90.0%] 00:01:03 / 00:01:10 / 00:00:07 (avg. dt=0.008)\n",
        "Done.\n"
       ]
      },
      {
       "output_type": "stream",
       "stream": "stdout",
       "text": [
        " \n",
        "         d8888                   888      d8b  .d8888b.   \n",
        "        d88888                   888      Y8P d88P  Y88b  \n",
        "       d88P888                   888          Y88b.       \n",
        "      d88P 888  .d88b.   .d88b.  888      888  \"Y888b.    \n",
        "     d88P  888 d8P  Y8b d88\"\"88b 888      888     \"Y88b.  \n",
        "    d88P   888 88888888 888  888 888      888       \"888  \n",
        "   d8888888888 Y8b.     Y88..88P 888      888 Y88b  d88P  \n",
        "  d88P     888  \"Y8888   \"Y88P\"  88888888 888  \"Y8888P\"   \n",
        " \n",
        "Process ID #77094\n",
        " \n",
        "Writing input to /Users/hoonhout/GitHub/aeolis-models/dong2004/dong2004_u12_L01.0_bi0.0250.txt\n",
        " \n",
        "[ 10.0%] 00:00:07 / 00:01:15 / 00:01:08 (avg. dt=0.008)\n",
        "[ 20.0%] 00:00:13 / 00:01:08 / 00:00:54 (avg. dt=0.008)\n",
        "[ 30.0%] 00:00:20 / 00:01:07 / 00:00:47 (avg. dt=0.008)\n",
        "[ 40.0%] 00:00:26 / 00:01:05 / 00:00:39 (avg. dt=0.008)\n",
        "[ 50.0%] 00:00:32 / 00:01:04 / 00:00:32 (avg. dt=0.008)\n",
        "[ 60.0%] 00:00:39 / 00:01:05 / 00:00:26 (avg. dt=0.008)\n",
        "[ 70.0%] 00:00:45 / 00:01:05 / 00:00:19 (avg. dt=0.008)\n",
        "[ 80.0%] 00:00:51 / 00:01:04 / 00:00:12 (avg. dt=0.008)\n",
        "[ 90.0%] 00:00:57 / 00:01:04 / 00:00:06 (avg. dt=0.008)\n",
        "Done.\n"
       ]
      },
      {
       "output_type": "stream",
       "stream": "stdout",
       "text": [
        " \n",
        "         d8888                   888      d8b  .d8888b.   \n",
        "        d88888                   888      Y8P d88P  Y88b  \n",
        "       d88P888                   888          Y88b.       \n",
        "      d88P 888  .d88b.   .d88b.  888      888  \"Y888b.    \n",
        "     d88P  888 d8P  Y8b d88\"\"88b 888      888     \"Y88b.  \n",
        "    d88P   888 88888888 888  888 888      888       \"888  \n",
        "   d8888888888 Y8b.     Y88..88P 888      888 Y88b  d88P  \n",
        "  d88P     888  \"Y8888   \"Y88P\"  88888888 888  \"Y8888P\"   \n",
        " \n",
        "Process ID #77098\n",
        " \n",
        "Writing input to /Users/hoonhout/GitHub/aeolis-models/dong2004/dong2004_u12_L02.0_bi0.0250.txt\n",
        " \n",
        "[ 10.0%] 00:00:06 / 00:01:00 / 00:00:54 (avg. dt=0.008)\n",
        "[ 20.0%] 00:00:12 / 00:01:00 / 00:00:48 (avg. dt=0.008)\n",
        "[ 30.0%] 00:00:18 / 00:01:00 / 00:00:42 (avg. dt=0.008)\n",
        "[ 40.0%] 00:00:24 / 00:01:00 / 00:00:36 (avg. dt=0.008)\n",
        "[ 50.0%] 00:00:30 / 00:01:00 / 00:00:30 (avg. dt=0.008)\n",
        "[ 60.0%] 00:00:36 / 00:01:00 / 00:00:24 (avg. dt=0.008)\n",
        "[ 70.0%] 00:00:42 / 00:01:00 / 00:00:18 (avg. dt=0.008)\n",
        "[ 80.0%] 00:00:48 / 00:01:00 / 00:00:12 (avg. dt=0.008)\n",
        "[ 90.0%] 00:00:57 / 00:01:03 / 00:00:06 (avg. dt=0.008)\n",
        "Done.\n"
       ]
      },
      {
       "output_type": "stream",
       "stream": "stdout",
       "text": [
        " \n",
        "         d8888                   888      d8b  .d8888b.   \n",
        "        d88888                   888      Y8P d88P  Y88b  \n",
        "       d88P888                   888          Y88b.       \n",
        "      d88P 888  .d88b.   .d88b.  888      888  \"Y888b.    \n",
        "     d88P  888 d8P  Y8b d88\"\"88b 888      888     \"Y88b.  \n",
        "    d88P   888 88888888 888  888 888      888       \"888  \n",
        "   d8888888888 Y8b.     Y88..88P 888      888 Y88b  d88P  \n",
        "  d88P     888  \"Y8888   \"Y88P\"  88888888 888  \"Y8888P\"   \n",
        " \n",
        "Process ID #77104\n",
        " \n",
        "Writing input to /Users/hoonhout/GitHub/aeolis-models/dong2004/dong2004_u12_L04.0_bi0.0250.txt\n",
        " \n",
        "[ 10.0%] 00:00:06 / 00:01:02 / 00:00:56 (avg. dt=0.008)\n",
        "[ 20.0%] 00:00:12 / 00:01:01 / 00:00:49 (avg. dt=0.008)\n",
        "[ 30.0%] 00:00:18 / 00:01:01 / 00:00:42 (avg. dt=0.008)\n",
        "[ 40.0%] 00:00:24 / 00:01:01 / 00:00:36 (avg. dt=0.008)\n",
        "[ 50.0%] 00:00:30 / 00:01:00 / 00:00:30 (avg. dt=0.008)\n",
        "[ 60.0%] 00:00:36 / 00:01:00 / 00:00:24 (avg. dt=0.008)\n",
        "[ 70.0%] 00:00:42 / 00:01:00 / 00:00:18 (avg. dt=0.008)\n",
        "[ 80.0%] 00:00:48 / 00:01:00 / 00:00:12 (avg. dt=0.008)\n",
        "[ 90.0%] 00:00:54 / 00:01:00 / 00:00:06 (avg. dt=0.008)\n",
        "Done.\n"
       ]
      },
      {
       "output_type": "stream",
       "stream": "stdout",
       "text": [
        " \n",
        "         d8888                   888      d8b  .d8888b.   \n",
        "        d88888                   888      Y8P d88P  Y88b  \n",
        "       d88P888                   888          Y88b.       \n",
        "      d88P 888  .d88b.   .d88b.  888      888  \"Y888b.    \n",
        "     d88P  888 d8P  Y8b d88\"\"88b 888      888     \"Y88b.  \n",
        "    d88P   888 88888888 888  888 888      888       \"888  \n",
        "   d8888888888 Y8b.     Y88..88P 888      888 Y88b  d88P  \n",
        "  d88P     888  \"Y8888   \"Y88P\"  88888888 888  \"Y8888P\"   \n",
        " \n",
        "Process ID #77108\n",
        " \n",
        "Writing input to /Users/hoonhout/GitHub/aeolis-models/dong2004/dong2004_u12_L06.0_bi0.0250.txt\n",
        " \n",
        "[ 10.0%] 00:00:06 / 00:01:01 / 00:00:55 (avg. dt=0.008)\n",
        "[ 20.0%] 00:00:12 / 00:01:01 / 00:00:49 (avg. dt=0.008)\n",
        "[ 30.0%] 00:00:18 / 00:01:01 / 00:00:42 (avg. dt=0.008)\n",
        "[ 40.0%] 00:00:24 / 00:01:01 / 00:00:36 (avg. dt=0.008)\n",
        "[ 50.0%] 00:00:30 / 00:01:00 / 00:00:30 (avg. dt=0.008)\n",
        "[ 60.0%] 00:00:36 / 00:01:00 / 00:00:24 (avg. dt=0.008)\n",
        "[ 70.0%] 00:00:42 / 00:01:00 / 00:00:18 (avg. dt=0.008)\n",
        "[ 80.0%] 00:00:48 / 00:01:00 / 00:00:12 (avg. dt=0.008)\n",
        "[ 90.0%] 00:00:54 / 00:01:00 / 00:00:06 (avg. dt=0.008)\n",
        "Done.\n"
       ]
      },
      {
       "output_type": "stream",
       "stream": "stdout",
       "text": [
        " \n",
        "         d8888                   888      d8b  .d8888b.   \n",
        "        d88888                   888      Y8P d88P  Y88b  \n",
        "       d88P888                   888          Y88b.       \n",
        "      d88P 888  .d88b.   .d88b.  888      888  \"Y888b.    \n",
        "     d88P  888 d8P  Y8b d88\"\"88b 888      888     \"Y88b.  \n",
        "    d88P   888 88888888 888  888 888      888       \"888  \n",
        "   d8888888888 Y8b.     Y88..88P 888      888 Y88b  d88P  \n",
        "  d88P     888  \"Y8888   \"Y88P\"  88888888 888  \"Y8888P\"   \n",
        " \n",
        "Process ID #77113\n",
        " \n",
        "Writing input to /Users/hoonhout/GitHub/aeolis-models/dong2004/dong2004_u12_L08.0_bi0.0250.txt\n",
        " \n",
        "[ 10.0%] 00:00:06 / 00:01:03 / 00:00:57 (avg. dt=0.008)\n",
        "[ 20.0%] 00:00:12 / 00:01:03 / 00:00:51 (avg. dt=0.008)\n",
        "[ 30.0%] 00:00:19 / 00:01:03 / 00:00:44 (avg. dt=0.008)\n",
        "[ 40.0%] 00:00:25 / 00:01:03 / 00:00:38 (avg. dt=0.008)\n",
        "[ 50.0%] 00:00:31 / 00:01:03 / 00:00:31 (avg. dt=0.008)\n",
        "[ 60.0%] 00:00:38 / 00:01:03 / 00:00:25 (avg. dt=0.008)\n",
        "[ 70.0%] 00:00:44 / 00:01:03 / 00:00:19 (avg. dt=0.008)\n",
        "[ 80.0%] 00:00:50 / 00:01:03 / 00:00:12 (avg. dt=0.008)\n",
        "[ 90.0%] 00:00:57 / 00:01:03 / 00:00:06 (avg. dt=0.008)\n",
        "Done.\n"
       ]
      },
      {
       "output_type": "stream",
       "stream": "stdout",
       "text": [
        " \n",
        "         d8888                   888      d8b  .d8888b.   \n",
        "        d88888                   888      Y8P d88P  Y88b  \n",
        "       d88P888                   888          Y88b.       \n",
        "      d88P 888  .d88b.   .d88b.  888      888  \"Y888b.    \n",
        "     d88P  888 d8P  Y8b d88\"\"88b 888      888     \"Y88b.  \n",
        "    d88P   888 88888888 888  888 888      888       \"888  \n",
        "   d8888888888 Y8b.     Y88..88P 888      888 Y88b  d88P  \n",
        "  d88P     888  \"Y8888   \"Y88P\"  88888888 888  \"Y8888P\"   \n",
        " \n",
        "Process ID #77117\n",
        " \n",
        "Writing input to /Users/hoonhout/GitHub/aeolis-models/dong2004/dong2004_u12_L10.0_bi0.0250.txt\n",
        " \n",
        "[ 10.0%] 00:00:06 / 00:01:06 / 00:00:59 (avg. dt=0.008)\n",
        "[ 20.0%] 00:00:13 / 00:01:06 / 00:00:53 (avg. dt=0.008)\n",
        "[ 30.0%] 00:00:19 / 00:01:06 / 00:00:46 (avg. dt=0.008)\n",
        "[ 40.0%] 00:00:26 / 00:01:06 / 00:00:39 (avg. dt=0.008)\n",
        "[ 50.0%] 00:00:33 / 00:01:06 / 00:00:33 (avg. dt=0.008)\n",
        "[ 60.0%] 00:00:39 / 00:01:06 / 00:00:26 (avg. dt=0.008)\n",
        "[ 70.0%] 00:00:46 / 00:01:06 / 00:00:19 (avg. dt=0.008)\n",
        "[ 80.0%] 00:00:53 / 00:01:06 / 00:00:13 (avg. dt=0.008)\n",
        "[ 90.0%] 00:00:59 / 00:01:06 / 00:00:06 (avg. dt=0.008)\n",
        "Done.\n"
       ]
      },
      {
       "output_type": "stream",
       "stream": "stdout",
       "text": [
        " \n",
        "         d8888                   888      d8b  .d8888b.   \n",
        "        d88888                   888      Y8P d88P  Y88b  \n",
        "       d88P888                   888          Y88b.       \n",
        "      d88P 888  .d88b.   .d88b.  888      888  \"Y888b.    \n",
        "     d88P  888 d8P  Y8b d88\"\"88b 888      888     \"Y88b.  \n",
        "    d88P   888 88888888 888  888 888      888       \"888  \n",
        "   d8888888888 Y8b.     Y88..88P 888      888 Y88b  d88P  \n",
        "  d88P     888  \"Y8888   \"Y88P\"  88888888 888  \"Y8888P\"   \n",
        " \n",
        "Process ID #77121\n",
        " \n",
        "Writing input to /Users/hoonhout/GitHub/aeolis-models/dong2004/dong2004_u12_L12.0_bi0.0250.txt\n",
        " \n",
        "[ 10.0%] 00:00:07 / 00:01:13 / 00:01:05 (avg. dt=0.008)\n",
        "[ 20.0%] 00:00:14 / 00:01:13 / 00:00:58 (avg. dt=0.008)\n",
        "[ 30.0%] 00:00:21 / 00:01:12 / 00:00:51 (avg. dt=0.008)\n",
        "[ 40.0%] 00:00:29 / 00:01:13 / 00:00:43 (avg. dt=0.008)\n",
        "[ 50.0%] 00:00:36 / 00:01:13 / 00:00:36 (avg. dt=0.008)\n",
        "[ 60.0%] 00:00:44 / 00:01:13 / 00:00:29 (avg. dt=0.008)\n",
        "[ 70.0%] 00:00:51 / 00:01:13 / 00:00:22 (avg. dt=0.008)\n",
        "[ 80.0%] 00:00:58 / 00:01:13 / 00:00:14 (avg. dt=0.008)\n",
        "[ 90.0%] 00:01:06 / 00:01:13 / 00:00:07 (avg. dt=0.008)\n",
        "Done.\n"
       ]
      },
      {
       "output_type": "stream",
       "stream": "stdout",
       "text": [
        " \n",
        "         d8888                   888      d8b  .d8888b.   \n",
        "        d88888                   888      Y8P d88P  Y88b  \n",
        "       d88P888                   888          Y88b.       \n",
        "      d88P 888  .d88b.   .d88b.  888      888  \"Y888b.    \n",
        "     d88P  888 d8P  Y8b d88\"\"88b 888      888     \"Y88b.  \n",
        "    d88P   888 88888888 888  888 888      888       \"888  \n",
        "   d8888888888 Y8b.     Y88..88P 888      888 Y88b  d88P  \n",
        "  d88P     888  \"Y8888   \"Y88P\"  88888888 888  \"Y8888P\"   \n",
        " \n",
        "Process ID #77126\n",
        " \n",
        "Writing input to /Users/hoonhout/GitHub/aeolis-models/dong2004/dong2004_u14_L00.5_bi0.0250.txt\n",
        " \n",
        "[ 10.0%] 00:00:06 / 00:01:09 / 00:01:02 (avg. dt=0.007)\n",
        "[ 20.0%] 00:00:13 / 00:01:09 / 00:00:55 (avg. dt=0.007)\n",
        "[ 30.0%] 00:00:20 / 00:01:09 / 00:00:48 (avg. dt=0.007)\n",
        "[ 40.0%] 00:00:27 / 00:01:09 / 00:00:41 (avg. dt=0.007)\n",
        "[ 50.0%] 00:00:34 / 00:01:09 / 00:00:34 (avg. dt=0.007)\n",
        "[ 60.0%] 00:00:41 / 00:01:09 / 00:00:27 (avg. dt=0.007)\n",
        "[ 70.0%] 00:00:48 / 00:01:09 / 00:00:20 (avg. dt=0.007)\n",
        "[ 80.0%] 00:00:55 / 00:01:09 / 00:00:13 (avg. dt=0.007)\n",
        "[ 90.0%] 00:01:02 / 00:01:09 / 00:00:06 (avg. dt=0.007)\n",
        "Done.\n"
       ]
      },
      {
       "output_type": "stream",
       "stream": "stdout",
       "text": [
        " \n",
        "         d8888                   888      d8b  .d8888b.   \n",
        "        d88888                   888      Y8P d88P  Y88b  \n",
        "       d88P888                   888          Y88b.       \n",
        "      d88P 888  .d88b.   .d88b.  888      888  \"Y888b.    \n",
        "     d88P  888 d8P  Y8b d88\"\"88b 888      888     \"Y88b.  \n",
        "    d88P   888 88888888 888  888 888      888       \"888  \n",
        "   d8888888888 Y8b.     Y88..88P 888      888 Y88b  d88P  \n",
        "  d88P     888  \"Y8888   \"Y88P\"  88888888 888  \"Y8888P\"   \n",
        " \n",
        "Process ID #77130\n",
        " \n",
        "Writing input to /Users/hoonhout/GitHub/aeolis-models/dong2004/dong2004_u14_L01.0_bi0.0250.txt\n",
        " \n",
        "[ 10.0%] 00:00:07 / 00:01:10 / 00:01:03 (avg. dt=0.007)\n",
        "[ 20.0%] 00:00:14 / 00:01:10 / 00:00:56 (avg. dt=0.007)\n",
        "[ 30.0%] 00:00:21 / 00:01:10 / 00:00:49 (avg. dt=0.007)\n",
        "[ 40.0%] 00:00:28 / 00:01:10 / 00:00:42 (avg. dt=0.007)\n",
        "[ 50.0%] 00:00:35 / 00:01:10 / 00:00:35 (avg. dt=0.007)\n",
        "[ 60.0%] 00:00:42 / 00:01:10 / 00:00:28 (avg. dt=0.007)\n",
        "[ 70.0%] 00:00:49 / 00:01:10 / 00:00:21 (avg. dt=0.007)\n",
        "[ 80.0%] 00:00:56 / 00:01:10 / 00:00:14 (avg. dt=0.007)\n",
        "[ 90.0%] 00:01:03 / 00:01:10 / 00:00:07 (avg. dt=0.007)\n",
        "Done.\n"
       ]
      },
      {
       "output_type": "stream",
       "stream": "stdout",
       "text": [
        " \n",
        "         d8888                   888      d8b  .d8888b.   \n",
        "        d88888                   888      Y8P d88P  Y88b  \n",
        "       d88P888                   888          Y88b.       \n",
        "      d88P 888  .d88b.   .d88b.  888      888  \"Y888b.    \n",
        "     d88P  888 d8P  Y8b d88\"\"88b 888      888     \"Y88b.  \n",
        "    d88P   888 88888888 888  888 888      888       \"888  \n",
        "   d8888888888 Y8b.     Y88..88P 888      888 Y88b  d88P  \n",
        "  d88P     888  \"Y8888   \"Y88P\"  88888888 888  \"Y8888P\"   \n",
        " \n",
        "Process ID #77134\n",
        " \n",
        "Writing input to /Users/hoonhout/GitHub/aeolis-models/dong2004/dong2004_u14_L02.0_bi0.0250.txt\n",
        " \n",
        "[ 10.0%] 00:00:06 / 00:01:09 / 00:01:02 (avg. dt=0.007)\n",
        "[ 20.0%] 00:00:13 / 00:01:09 / 00:00:55 (avg. dt=0.007)\n",
        "[ 30.0%] 00:00:20 / 00:01:09 / 00:00:48 (avg. dt=0.007)\n",
        "[ 40.0%] 00:00:27 / 00:01:09 / 00:00:41 (avg. dt=0.007)\n",
        "[ 50.0%] 00:00:34 / 00:01:09 / 00:00:34 (avg. dt=0.007)\n",
        "[ 60.0%] 00:00:41 / 00:01:09 / 00:00:27 (avg. dt=0.007)\n",
        "[ 70.0%] 00:00:48 / 00:01:09 / 00:00:20 (avg. dt=0.007)\n",
        "[ 80.0%] 00:00:55 / 00:01:09 / 00:00:13 (avg. dt=0.007)\n",
        "[ 90.0%] 00:01:02 / 00:01:09 / 00:00:06 (avg. dt=0.007)\n",
        "Done.\n"
       ]
      },
      {
       "output_type": "stream",
       "stream": "stdout",
       "text": [
        " \n",
        "         d8888                   888      d8b  .d8888b.   \n",
        "        d88888                   888      Y8P d88P  Y88b  \n",
        "       d88P888                   888          Y88b.       \n",
        "      d88P 888  .d88b.   .d88b.  888      888  \"Y888b.    \n",
        "     d88P  888 d8P  Y8b d88\"\"88b 888      888     \"Y88b.  \n",
        "    d88P   888 88888888 888  888 888      888       \"888  \n",
        "   d8888888888 Y8b.     Y88..88P 888      888 Y88b  d88P  \n",
        "  d88P     888  \"Y8888   \"Y88P\"  88888888 888  \"Y8888P\"   \n",
        " \n",
        "Process ID #77138\n",
        " \n",
        "Writing input to /Users/hoonhout/GitHub/aeolis-models/dong2004/dong2004_u14_L04.0_bi0.0250.txt\n",
        " \n",
        "[ 10.0%] 00:00:07 / 00:01:11 / 00:01:04 (avg. dt=0.007)\n",
        "[ 20.0%] 00:00:14 / 00:01:10 / 00:00:56 (avg. dt=0.007)\n",
        "[ 30.0%] 00:00:21 / 00:01:10 / 00:00:49 (avg. dt=0.007)\n",
        "[ 40.0%] 00:00:28 / 00:01:10 / 00:00:42 (avg. dt=0.007)\n",
        "[ 50.0%] 00:00:35 / 00:01:10 / 00:00:35 (avg. dt=0.007)\n",
        "[ 60.0%] 00:00:42 / 00:01:10 / 00:00:28 (avg. dt=0.007)\n",
        "[ 70.0%] 00:00:49 / 00:01:11 / 00:00:21 (avg. dt=0.007)\n",
        "[ 80.0%] 00:00:57 / 00:01:11 / 00:00:14 (avg. dt=0.007)\n",
        "[ 90.0%] 00:01:04 / 00:01:11 / 00:00:07 (avg. dt=0.007)\n",
        "Done.\n"
       ]
      },
      {
       "output_type": "stream",
       "stream": "stdout",
       "text": [
        " \n",
        "         d8888                   888      d8b  .d8888b.   \n",
        "        d88888                   888      Y8P d88P  Y88b  \n",
        "       d88P888                   888          Y88b.       \n",
        "      d88P 888  .d88b.   .d88b.  888      888  \"Y888b.    \n",
        "     d88P  888 d8P  Y8b d88\"\"88b 888      888     \"Y88b.  \n",
        "    d88P   888 88888888 888  888 888      888       \"888  \n",
        "   d8888888888 Y8b.     Y88..88P 888      888 Y88b  d88P  \n",
        "  d88P     888  \"Y8888   \"Y88P\"  88888888 888  \"Y8888P\"   \n",
        " \n",
        "Process ID #77143\n",
        " \n",
        "Writing input to /Users/hoonhout/GitHub/aeolis-models/dong2004/dong2004_u14_L06.0_bi0.0250.txt\n",
        " \n",
        "[ 10.0%] 00:00:06 / 00:01:08 / 00:01:01 (avg. dt=0.007)\n",
        "[ 20.0%] 00:00:13 / 00:01:08 / 00:00:54 (avg. dt=0.007)\n",
        "[ 30.0%] 00:00:20 / 00:01:07 / 00:00:47 (avg. dt=0.007)\n",
        "[ 40.0%] 00:00:27 / 00:01:07 / 00:00:40 (avg. dt=0.007)\n",
        "[ 50.0%] 00:00:33 / 00:01:07 / 00:00:33 (avg. dt=0.007)\n",
        "[ 60.0%] 00:00:40 / 00:01:08 / 00:00:27 (avg. dt=0.007)\n",
        "[ 70.0%] 00:00:48 / 00:01:09 / 00:00:20 (avg. dt=0.007)\n",
        "[ 80.0%] 00:00:58 / 00:01:13 / 00:00:14 (avg. dt=0.007)\n",
        "[ 90.0%] 00:01:06 / 00:01:14 / 00:00:07 (avg. dt=0.007)\n",
        "Done.\n"
       ]
      },
      {
       "output_type": "stream",
       "stream": "stdout",
       "text": [
        " \n",
        "         d8888                   888      d8b  .d8888b.   \n",
        "        d88888                   888      Y8P d88P  Y88b  \n",
        "       d88P888                   888          Y88b.       \n",
        "      d88P 888  .d88b.   .d88b.  888      888  \"Y888b.    \n",
        "     d88P  888 d8P  Y8b d88\"\"88b 888      888     \"Y88b.  \n",
        "    d88P   888 88888888 888  888 888      888       \"888  \n",
        "   d8888888888 Y8b.     Y88..88P 888      888 Y88b  d88P  \n",
        "  d88P     888  \"Y8888   \"Y88P\"  88888888 888  \"Y8888P\"   \n",
        " \n",
        "Process ID #77148\n",
        " \n",
        "Writing input to /Users/hoonhout/GitHub/aeolis-models/dong2004/dong2004_u14_L08.0_bi0.0250.txt\n",
        " \n",
        "[ 10.0%] 00:00:07 / 00:01:17 / 00:01:09 (avg. dt=0.007)\n",
        "[ 20.0%] 00:00:15 / 00:01:17 / 00:01:01 (avg. dt=0.007)\n",
        "[ 30.0%] 00:00:22 / 00:01:16 / 00:00:53 (avg. dt=0.007)\n",
        "[ 40.0%] 00:00:30 / 00:01:16 / 00:00:46 (avg. dt=0.007)\n",
        "[ 50.0%] 00:00:38 / 00:01:16 / 00:00:38 (avg. dt=0.007)\n",
        "[ 60.0%] 00:00:45 / 00:01:16 / 00:00:30 (avg. dt=0.007)\n",
        "[ 70.0%] 00:00:53 / 00:01:16 / 00:00:22 (avg. dt=0.007)\n",
        "[ 80.0%] 00:01:01 / 00:01:16 / 00:00:15 (avg. dt=0.007)\n",
        "[ 90.0%] 00:01:08 / 00:01:16 / 00:00:07 (avg. dt=0.007)\n",
        "Done.\n"
       ]
      },
      {
       "output_type": "stream",
       "stream": "stdout",
       "text": [
        " \n",
        "         d8888                   888      d8b  .d8888b.   \n",
        "        d88888                   888      Y8P d88P  Y88b  \n",
        "       d88P888                   888          Y88b.       \n",
        "      d88P 888  .d88b.   .d88b.  888      888  \"Y888b.    \n",
        "     d88P  888 d8P  Y8b d88\"\"88b 888      888     \"Y88b.  \n",
        "    d88P   888 88888888 888  888 888      888       \"888  \n",
        "   d8888888888 Y8b.     Y88..88P 888      888 Y88b  d88P  \n",
        "  d88P     888  \"Y8888   \"Y88P\"  88888888 888  \"Y8888P\"   \n",
        " \n",
        "Process ID #77154\n",
        " \n",
        "Writing input to /Users/hoonhout/GitHub/aeolis-models/dong2004/dong2004_u14_L10.0_bi0.0250.txt\n",
        " \n",
        "[ 10.0%] 00:00:08 / 00:01:21 / 00:01:13 (avg. dt=0.007)\n",
        "[ 20.0%] 00:00:16 / 00:01:20 / 00:01:04 (avg. dt=0.007)\n",
        "[ 30.0%] 00:00:24 / 00:01:21 / 00:00:56 (avg. dt=0.007)\n",
        "[ 40.0%] 00:00:32 / 00:01:21 / 00:00:48 (avg. dt=0.007)\n",
        "[ 50.0%] 00:00:40 / 00:01:21 / 00:00:40 (avg. dt=0.007)\n",
        "[ 60.0%] 00:00:48 / 00:01:21 / 00:00:32 (avg. dt=0.007)\n",
        "[ 70.0%] 00:00:57 / 00:01:21 / 00:00:24 (avg. dt=0.007)\n",
        "[ 80.0%] 00:01:05 / 00:01:21 / 00:00:16 (avg. dt=0.007)\n",
        "[ 90.0%] 00:01:13 / 00:01:21 / 00:00:08 (avg. dt=0.007)\n",
        "Done.\n"
       ]
      },
      {
       "output_type": "stream",
       "stream": "stdout",
       "text": [
        " \n",
        "         d8888                   888      d8b  .d8888b.   \n",
        "        d88888                   888      Y8P d88P  Y88b  \n",
        "       d88P888                   888          Y88b.       \n",
        "      d88P 888  .d88b.   .d88b.  888      888  \"Y888b.    \n",
        "     d88P  888 d8P  Y8b d88\"\"88b 888      888     \"Y88b.  \n",
        "    d88P   888 88888888 888  888 888      888       \"888  \n",
        "   d8888888888 Y8b.     Y88..88P 888      888 Y88b  d88P  \n",
        "  d88P     888  \"Y8888   \"Y88P\"  88888888 888  \"Y8888P\"   \n",
        " \n",
        "Process ID #77158\n",
        " \n",
        "Writing input to /Users/hoonhout/GitHub/aeolis-models/dong2004/dong2004_u14_L12.0_bi0.0250.txt\n",
        " \n",
        "[ 10.0%] 00:00:09 / 00:01:31 / 00:01:22 (avg. dt=0.007)\n",
        "[ 20.0%] 00:00:18 / 00:01:31 / 00:01:13 (avg. dt=0.007)\n",
        "[ 30.0%] 00:00:27 / 00:01:30 / 00:01:03 (avg. dt=0.007)\n",
        "[ 40.0%] 00:00:36 / 00:01:30 / 00:00:54 (avg. dt=0.007)\n",
        "[ 50.0%] 00:00:46 / 00:01:33 / 00:00:46 (avg. dt=0.007)\n",
        "[ 60.0%] 00:00:57 / 00:01:36 / 00:00:38 (avg. dt=0.007)\n",
        "[ 70.0%] 00:01:09 / 00:01:39 / 00:00:29 (avg. dt=0.007)\n",
        "[ 80.0%] 00:01:18 / 00:01:38 / 00:00:19 (avg. dt=0.007)\n",
        "[ 90.0%] 00:01:28 / 00:01:38 / 00:00:09 (avg. dt=0.007)\n",
        "Done.\n"
       ]
      },
      {
       "output_type": "stream",
       "stream": "stdout",
       "text": [
        " \n",
        "         d8888                   888      d8b  .d8888b.   \n",
        "        d88888                   888      Y8P d88P  Y88b  \n",
        "       d88P888                   888          Y88b.       \n",
        "      d88P 888  .d88b.   .d88b.  888      888  \"Y888b.    \n",
        "     d88P  888 d8P  Y8b d88\"\"88b 888      888     \"Y88b.  \n",
        "    d88P   888 88888888 888  888 888      888       \"888  \n",
        "   d8888888888 Y8b.     Y88..88P 888      888 Y88b  d88P  \n",
        "  d88P     888  \"Y8888   \"Y88P\"  88888888 888  \"Y8888P\"   \n",
        " \n",
        "Process ID #77172\n",
        " \n",
        "Writing input to /Users/hoonhout/GitHub/aeolis-models/dong2004/dong2004_u16_L00.5_bi0.0250.txt\n",
        " \n",
        "[ 10.0%] 00:00:08 / 00:01:20 / 00:01:12 (avg. dt=0.006)\n",
        "[ 20.0%] 00:00:16 / 00:01:20 / 00:01:04 (avg. dt=0.006)\n",
        "[ 30.0%] 00:00:23 / 00:01:19 / 00:00:55 (avg. dt=0.006)\n",
        "[ 40.0%] 00:00:31 / 00:01:19 / 00:00:47 (avg. dt=0.006)\n",
        "[ 50.0%] 00:00:39 / 00:01:19 / 00:00:39 (avg. dt=0.006)\n",
        "[ 60.0%] 00:00:47 / 00:01:19 / 00:00:31 (avg. dt=0.006)\n",
        "[ 70.0%] 00:00:56 / 00:01:21 / 00:00:24 (avg. dt=0.006)\n",
        "[ 80.0%] 00:01:04 / 00:01:20 / 00:00:16 (avg. dt=0.006)\n",
        "[ 90.0%] 00:01:12 / 00:01:20 / 00:00:08 (avg. dt=0.006)\n",
        "Done.\n"
       ]
      },
      {
       "output_type": "stream",
       "stream": "stdout",
       "text": [
        " \n",
        "         d8888                   888      d8b  .d8888b.   \n",
        "        d88888                   888      Y8P d88P  Y88b  \n",
        "       d88P888                   888          Y88b.       \n",
        "      d88P 888  .d88b.   .d88b.  888      888  \"Y888b.    \n",
        "     d88P  888 d8P  Y8b d88\"\"88b 888      888     \"Y88b.  \n",
        "    d88P   888 88888888 888  888 888      888       \"888  \n",
        "   d8888888888 Y8b.     Y88..88P 888      888 Y88b  d88P  \n",
        "  d88P     888  \"Y8888   \"Y88P\"  88888888 888  \"Y8888P\"   \n",
        " \n",
        "Process ID #77177\n",
        " \n",
        "Writing input to /Users/hoonhout/GitHub/aeolis-models/dong2004/dong2004_u16_L01.0_bi0.0250.txt\n",
        " \n",
        "[ 10.0%] 00:00:08 / 00:01:21 / 00:01:13 (avg. dt=0.006)\n",
        "[ 20.0%] 00:00:16 / 00:01:20 / 00:01:04 (avg. dt=0.006)\n",
        "[ 30.0%] 00:00:26 / 00:01:29 / 00:01:02 (avg. dt=0.006)\n",
        "[ 40.0%] 00:00:34 / 00:01:27 / 00:00:52 (avg. dt=0.006)\n",
        "[ 50.0%] 00:00:42 / 00:01:25 / 00:00:42 (avg. dt=0.006)\n",
        "[ 60.0%] 00:00:50 / 00:01:24 / 00:00:33 (avg. dt=0.006)\n",
        "[ 70.0%] 00:00:59 / 00:01:24 / 00:00:25 (avg. dt=0.006)\n",
        "[ 80.0%] 00:01:07 / 00:01:24 / 00:00:16 (avg. dt=0.006)\n",
        "[ 90.0%] 00:01:15 / 00:01:23 / 00:00:08 (avg. dt=0.006)\n",
        "Done.\n"
       ]
      },
      {
       "output_type": "stream",
       "stream": "stdout",
       "text": [
        " \n",
        "         d8888                   888      d8b  .d8888b.   \n",
        "        d88888                   888      Y8P d88P  Y88b  \n",
        "       d88P888                   888          Y88b.       \n",
        "      d88P 888  .d88b.   .d88b.  888      888  \"Y888b.    \n",
        "     d88P  888 d8P  Y8b d88\"\"88b 888      888     \"Y88b.  \n",
        "    d88P   888 88888888 888  888 888      888       \"888  \n",
        "   d8888888888 Y8b.     Y88..88P 888      888 Y88b  d88P  \n",
        "  d88P     888  \"Y8888   \"Y88P\"  88888888 888  \"Y8888P\"   \n",
        " \n",
        "Process ID #77182\n",
        " \n",
        "Writing input to /Users/hoonhout/GitHub/aeolis-models/dong2004/dong2004_u16_L02.0_bi0.0250.txt\n",
        " \n",
        "[ 10.0%] 00:00:08 / 00:01:22 / 00:01:14 (avg. dt=0.006)\n",
        "[ 20.0%] 00:00:16 / 00:01:23 / 00:01:06 (avg. dt=0.006)\n",
        "[ 30.0%] 00:00:25 / 00:01:23 / 00:00:58 (avg. dt=0.006)\n",
        "[ 40.0%] 00:00:33 / 00:01:22 / 00:00:49 (avg. dt=0.006)\n",
        "[ 50.0%] 00:00:41 / 00:01:22 / 00:00:41 (avg. dt=0.006)\n",
        "[ 60.0%] 00:00:49 / 00:01:22 / 00:00:33 (avg. dt=0.006)\n",
        "[ 70.0%] 00:00:57 / 00:01:22 / 00:00:24 (avg. dt=0.006)\n",
        "[ 80.0%] 00:01:06 / 00:01:22 / 00:00:16 (avg. dt=0.006)\n",
        "[ 90.0%] 00:01:14 / 00:01:22 / 00:00:08 (avg. dt=0.006)\n",
        "Done.\n"
       ]
      },
      {
       "output_type": "stream",
       "stream": "stdout",
       "text": [
        " \n",
        "         d8888                   888      d8b  .d8888b.   \n",
        "        d88888                   888      Y8P d88P  Y88b  \n",
        "       d88P888                   888          Y88b.       \n",
        "      d88P 888  .d88b.   .d88b.  888      888  \"Y888b.    \n",
        "     d88P  888 d8P  Y8b d88\"\"88b 888      888     \"Y88b.  \n",
        "    d88P   888 88888888 888  888 888      888       \"888  \n",
        "   d8888888888 Y8b.     Y88..88P 888      888 Y88b  d88P  \n",
        "  d88P     888  \"Y8888   \"Y88P\"  88888888 888  \"Y8888P\"   \n",
        " \n",
        "Process ID #77188\n",
        " \n",
        "Writing input to /Users/hoonhout/GitHub/aeolis-models/dong2004/dong2004_u16_L04.0_bi0.0250.txt\n",
        " \n",
        "[ 10.0%] 00:00:08 / 00:01:27 / 00:01:18 (avg. dt=0.006)\n",
        "[ 20.0%] 00:00:16 / 00:01:24 / 00:01:07 (avg. dt=0.006)\n",
        "[ 30.0%] 00:00:25 / 00:01:25 / 00:00:59 (avg. dt=0.006)\n",
        "[ 40.0%] 00:00:33 / 00:01:24 / 00:00:50 (avg. dt=0.006)\n",
        "[ 50.0%] 00:00:42 / 00:01:24 / 00:00:42 (avg. dt=0.006)\n",
        "[ 60.0%] 00:00:51 / 00:01:25 / 00:00:34 (avg. dt=0.006)\n",
        "[ 70.0%] 00:01:00 / 00:01:25 / 00:00:25 (avg. dt=0.006)\n",
        "[ 80.0%] 00:01:08 / 00:01:25 / 00:00:17 (avg. dt=0.006)\n",
        "[ 90.0%] 00:01:17 / 00:01:25 / 00:00:08 (avg. dt=0.006)\n",
        "Done.\n"
       ]
      },
      {
       "output_type": "stream",
       "stream": "stdout",
       "text": [
        " \n",
        "         d8888                   888      d8b  .d8888b.   \n",
        "        d88888                   888      Y8P d88P  Y88b  \n",
        "       d88P888                   888          Y88b.       \n",
        "      d88P 888  .d88b.   .d88b.  888      888  \"Y888b.    \n",
        "     d88P  888 d8P  Y8b d88\"\"88b 888      888     \"Y88b.  \n",
        "    d88P   888 88888888 888  888 888      888       \"888  \n",
        "   d8888888888 Y8b.     Y88..88P 888      888 Y88b  d88P  \n",
        "  d88P     888  \"Y8888   \"Y88P\"  88888888 888  \"Y8888P\"   \n",
        " \n",
        "Process ID #77193\n",
        " \n",
        "Writing input to /Users/hoonhout/GitHub/aeolis-models/dong2004/dong2004_u16_L06.0_bi0.0250.txt\n",
        " \n",
        "[ 10.0%] 00:00:08 / 00:01:25 / 00:01:16 (avg. dt=0.006)\n",
        "[ 20.0%] 00:00:17 / 00:01:26 / 00:01:08 (avg. dt=0.006)\n",
        "[ 30.0%] 00:00:25 / 00:01:25 / 00:00:59 (avg. dt=0.006)\n",
        "[ 40.0%] 00:00:34 / 00:01:25 / 00:00:51 (avg. dt=0.006)\n",
        "[ 50.0%] 00:00:43 / 00:01:26 / 00:00:43 (avg. dt=0.006)\n",
        "[ 60.0%] 00:00:51 / 00:01:26 / 00:00:34 (avg. dt=0.006)\n",
        "[ 70.0%] 00:01:01 / 00:01:27 / 00:00:26 (avg. dt=0.006)\n",
        "[ 80.0%] 00:01:11 / 00:01:29 / 00:00:17 (avg. dt=0.006)\n",
        "[ 90.0%] 00:01:22 / 00:01:31 / 00:00:09 (avg. dt=0.006)\n",
        "Done.\n"
       ]
      },
      {
       "output_type": "stream",
       "stream": "stdout",
       "text": [
        " \n",
        "         d8888                   888      d8b  .d8888b.   \n",
        "        d88888                   888      Y8P d88P  Y88b  \n",
        "       d88P888                   888          Y88b.       \n",
        "      d88P 888  .d88b.   .d88b.  888      888  \"Y888b.    \n",
        "     d88P  888 d8P  Y8b d88\"\"88b 888      888     \"Y88b.  \n",
        "    d88P   888 88888888 888  888 888      888       \"888  \n",
        "   d8888888888 Y8b.     Y88..88P 888      888 Y88b  d88P  \n",
        "  d88P     888  \"Y8888   \"Y88P\"  88888888 888  \"Y8888P\"   \n",
        " \n",
        "Process ID #77197\n",
        " \n",
        "Writing input to /Users/hoonhout/GitHub/aeolis-models/dong2004/dong2004_u16_L08.0_bi0.0250.txt\n",
        " \n",
        "[ 10.0%] 00:00:12 / 00:02:02 / 00:01:50 (avg. dt=0.006)\n",
        "[ 20.0%] 00:00:22 / 00:01:50 / 00:01:28 (avg. dt=0.006)\n",
        "[ 30.0%] 00:00:32 / 00:01:46 / 00:01:14 (avg. dt=0.006)\n",
        "[ 40.0%] 00:00:44 / 00:01:51 / 00:01:06 (avg. dt=0.006)\n",
        "[ 50.0%] 00:00:53 / 00:01:47 / 00:00:53 (avg. dt=0.006)\n",
        "[ 60.0%] 00:01:02 / 00:01:44 / 00:00:41 (avg. dt=0.006)\n",
        "[ 70.0%] 00:01:12 / 00:01:43 / 00:00:31 (avg. dt=0.006)\n",
        "[ 80.0%] 00:01:21 / 00:01:41 / 00:00:20 (avg. dt=0.006)\n",
        "[ 90.0%] 00:01:30 / 00:01:40 / 00:00:10 (avg. dt=0.006)\n",
        "Done.\n"
       ]
      },
      {
       "output_type": "stream",
       "stream": "stdout",
       "text": [
        " \n",
        "         d8888                   888      d8b  .d8888b.   \n",
        "        d88888                   888      Y8P d88P  Y88b  \n",
        "       d88P888                   888          Y88b.       \n",
        "      d88P 888  .d88b.   .d88b.  888      888  \"Y888b.    \n",
        "     d88P  888 d8P  Y8b d88\"\"88b 888      888     \"Y88b.  \n",
        "    d88P   888 88888888 888  888 888      888       \"888  \n",
        "   d8888888888 Y8b.     Y88..88P 888      888 Y88b  d88P  \n",
        "  d88P     888  \"Y8888   \"Y88P\"  88888888 888  \"Y8888P\"   \n",
        " \n",
        "Process ID #77203\n",
        " \n",
        "Writing input to /Users/hoonhout/GitHub/aeolis-models/dong2004/dong2004_u16_L10.0_bi0.0250.txt\n",
        " \n",
        "[ 10.0%] 00:00:11 / 00:01:53 / 00:01:41 (avg. dt=0.006)\n",
        "[ 20.0%] 00:00:21 / 00:01:47 / 00:01:26 (avg. dt=0.006)\n",
        "[ 30.0%] 00:00:31 / 00:01:45 / 00:01:13 (avg. dt=0.006)\n",
        "[ 40.0%] 00:00:41 / 00:01:42 / 00:01:01 (avg. dt=0.006)\n",
        "[ 50.0%] 00:00:50 / 00:01:41 / 00:00:50 (avg. dt=0.006)\n",
        "[ 60.0%] 00:01:00 / 00:01:40 / 00:00:40 (avg. dt=0.006)\n",
        "[ 70.0%] 00:01:09 / 00:01:39 / 00:00:29 (avg. dt=0.006)\n",
        "[ 80.0%] 00:01:18 / 00:01:38 / 00:00:19 (avg. dt=0.006)\n",
        "[ 90.0%] 00:01:28 / 00:01:38 / 00:00:09 (avg. dt=0.006)\n",
        "Done.\n"
       ]
      },
      {
       "output_type": "stream",
       "stream": "stdout",
       "text": [
        " \n",
        "         d8888                   888      d8b  .d8888b.   \n",
        "        d88888                   888      Y8P d88P  Y88b  \n",
        "       d88P888                   888          Y88b.       \n",
        "      d88P 888  .d88b.   .d88b.  888      888  \"Y888b.    \n",
        "     d88P  888 d8P  Y8b d88\"\"88b 888      888     \"Y88b.  \n",
        "    d88P   888 88888888 888  888 888      888       \"888  \n",
        "   d8888888888 Y8b.     Y88..88P 888      888 Y88b  d88P  \n",
        "  d88P     888  \"Y8888   \"Y88P\"  88888888 888  \"Y8888P\"   \n",
        " \n",
        "Process ID #77212\n",
        " \n",
        "Writing input to /Users/hoonhout/GitHub/aeolis-models/dong2004/dong2004_u16_L12.0_bi0.0250.txt\n",
        " \n",
        "[ 10.0%] 00:00:11 / 00:01:52 / 00:01:41 (avg. dt=0.006)\n",
        "[ 20.0%] 00:00:22 / 00:01:51 / 00:01:29 (avg. dt=0.006)\n",
        "[ 30.0%] 00:00:33 / 00:01:51 / 00:01:18 (avg. dt=0.006)\n",
        "[ 40.0%] 00:00:44 / 00:01:51 / 00:01:07 (avg. dt=0.006)\n",
        "[ 50.0%] 00:00:56 / 00:01:52 / 00:00:56 (avg. dt=0.006)\n",
        "[ 60.0%] 00:01:07 / 00:01:51 / 00:00:44 (avg. dt=0.006)\n",
        "[ 70.0%] 00:01:18 / 00:01:52 / 00:00:33 (avg. dt=0.006)\n",
        "[ 80.0%] 00:01:30 / 00:01:53 / 00:00:22 (avg. dt=0.006)\n",
        "[ 90.0%] 00:01:42 / 00:01:54 / 00:00:11 (avg. dt=0.006)\n",
        "Done.\n"
       ]
      },
      {
       "output_type": "stream",
       "stream": "stdout",
       "text": [
        " \n",
        "         d8888                   888      d8b  .d8888b.   \n",
        "        d88888                   888      Y8P d88P  Y88b  \n",
        "       d88P888                   888          Y88b.       \n",
        "      d88P 888  .d88b.   .d88b.  888      888  \"Y888b.    \n",
        "     d88P  888 d8P  Y8b d88\"\"88b 888      888     \"Y88b.  \n",
        "    d88P   888 88888888 888  888 888      888       \"888  \n",
        "   d8888888888 Y8b.     Y88..88P 888      888 Y88b  d88P  \n",
        "  d88P     888  \"Y8888   \"Y88P\"  88888888 888  \"Y8888P\"   \n",
        " \n",
        "Process ID #77219\n",
        " \n",
        "Writing input to /Users/hoonhout/GitHub/aeolis-models/dong2004/dong2004_u18_L00.5_bi0.0250.txt\n",
        " \n",
        "[ 10.0%] 00:00:09 / 00:01:36 / 00:01:26 (avg. dt=0.006)\n",
        "[ 20.0%] 00:00:18 / 00:01:33 / 00:01:14 (avg. dt=0.006)\n",
        "[ 30.0%] 00:00:28 / 00:01:33 / 00:01:05 (avg. dt=0.006)\n",
        "[ 40.0%] 00:00:37 / 00:01:34 / 00:00:56 (avg. dt=0.006)\n",
        "[ 50.0%] 00:00:47 / 00:01:34 / 00:00:47 (avg. dt=0.006)\n",
        "[ 60.0%] 00:00:56 / 00:01:34 / 00:00:37 (avg. dt=0.006)\n",
        "[ 70.0%] 00:01:08 / 00:01:37 / 00:00:29 (avg. dt=0.006)\n",
        "[ 80.0%] 00:01:18 / 00:01:37 / 00:00:19 (avg. dt=0.006)\n",
        "[ 90.0%] 00:01:30 / 00:01:40 / 00:00:10 (avg. dt=0.006)\n",
        "Done.\n"
       ]
      },
      {
       "output_type": "stream",
       "stream": "stdout",
       "text": [
        " \n",
        "         d8888                   888      d8b  .d8888b.   \n",
        "        d88888                   888      Y8P d88P  Y88b  \n",
        "       d88P888                   888          Y88b.       \n",
        "      d88P 888  .d88b.   .d88b.  888      888  \"Y888b.    \n",
        "     d88P  888 d8P  Y8b d88\"\"88b 888      888     \"Y88b.  \n",
        "    d88P   888 88888888 888  888 888      888       \"888  \n",
        "   d8888888888 Y8b.     Y88..88P 888      888 Y88b  d88P  \n",
        "  d88P     888  \"Y8888   \"Y88P\"  88888888 888  \"Y8888P\"   \n",
        " \n",
        "Process ID #77238\n",
        " \n",
        "Writing input to /Users/hoonhout/GitHub/aeolis-models/dong2004/dong2004_u18_L01.0_bi0.0250.txt\n",
        " \n",
        "[ 10.0%] 00:00:09 / 00:01:37 / 00:01:27 (avg. dt=0.006)\n",
        "[ 20.0%] 00:00:18 / 00:01:33 / 00:01:14 (avg. dt=0.006)\n",
        "[ 30.0%] 00:00:27 / 00:01:32 / 00:01:04 (avg. dt=0.006)\n",
        "[ 40.0%] 00:00:36 / 00:01:31 / 00:00:55 (avg. dt=0.006)\n",
        "[ 50.0%] 00:00:45 / 00:01:30 / 00:00:45 (avg. dt=0.006)\n",
        "[ 60.0%] 00:00:53 / 00:01:29 / 00:00:35 (avg. dt=0.006)\n",
        "[ 70.0%] 00:01:02 / 00:01:28 / 00:00:26 (avg. dt=0.006)\n",
        "[ 80.0%] 00:01:10 / 00:01:28 / 00:00:17 (avg. dt=0.006)\n",
        "[ 90.0%] 00:01:19 / 00:01:27 / 00:00:08 (avg. dt=0.006)\n",
        "Done.\n"
       ]
      },
      {
       "output_type": "stream",
       "stream": "stdout",
       "text": [
        " \n",
        "         d8888                   888      d8b  .d8888b.   \n",
        "        d88888                   888      Y8P d88P  Y88b  \n",
        "       d88P888                   888          Y88b.       \n",
        "      d88P 888  .d88b.   .d88b.  888      888  \"Y888b.    \n",
        "     d88P  888 d8P  Y8b d88\"\"88b 888      888     \"Y88b.  \n",
        "    d88P   888 88888888 888  888 888      888       \"888  \n",
        "   d8888888888 Y8b.     Y88..88P 888      888 Y88b  d88P  \n",
        "  d88P     888  \"Y8888   \"Y88P\"  88888888 888  \"Y8888P\"   \n",
        " \n",
        "Process ID #77247\n",
        " \n",
        "Writing input to /Users/hoonhout/GitHub/aeolis-models/dong2004/dong2004_u18_L02.0_bi0.0250.txt\n",
        " \n",
        "[ 10.0%] 00:00:08 / 00:01:25 / 00:01:16 (avg. dt=0.006)\n",
        "[ 20.0%] 00:00:17 / 00:01:25 / 00:01:08 (avg. dt=0.006)\n",
        "[ 30.0%] 00:00:25 / 00:01:24 / 00:00:59 (avg. dt=0.006)\n",
        "[ 40.0%] 00:00:33 / 00:01:24 / 00:00:50 (avg. dt=0.006)\n",
        "[ 50.0%] 00:00:42 / 00:01:24 / 00:00:42 (avg. dt=0.006)\n",
        "[ 60.0%] 00:00:50 / 00:01:24 / 00:00:33 (avg. dt=0.006)\n",
        "[ 70.0%] 00:00:59 / 00:01:24 / 00:00:25 (avg. dt=0.006)\n",
        "[ 80.0%] 00:01:07 / 00:01:24 / 00:00:16 (avg. dt=0.006)\n",
        "[ 90.0%] 00:01:16 / 00:01:24 / 00:00:08 (avg. dt=0.006)\n",
        "Done.\n"
       ]
      },
      {
       "output_type": "stream",
       "stream": "stdout",
       "text": [
        " \n",
        "         d8888                   888      d8b  .d8888b.   \n",
        "        d88888                   888      Y8P d88P  Y88b  \n",
        "       d88P888                   888          Y88b.       \n",
        "      d88P 888  .d88b.   .d88b.  888      888  \"Y888b.    \n",
        "     d88P  888 d8P  Y8b d88\"\"88b 888      888     \"Y88b.  \n",
        "    d88P   888 88888888 888  888 888      888       \"888  \n",
        "   d8888888888 Y8b.     Y88..88P 888      888 Y88b  d88P  \n",
        "  d88P     888  \"Y8888   \"Y88P\"  88888888 888  \"Y8888P\"   \n",
        " \n",
        "Process ID #77253\n",
        " \n",
        "Writing input to /Users/hoonhout/GitHub/aeolis-models/dong2004/dong2004_u18_L04.0_bi0.0250.txt\n",
        " \n",
        "[ 10.0%] 00:00:08 / 00:01:27 / 00:01:19 (avg. dt=0.006)\n",
        "[ 20.0%] 00:00:21 / 00:01:47 / 00:01:26 (avg. dt=0.006)\n",
        "[ 30.0%] 00:00:30 / 00:01:42 / 00:01:11 (avg. dt=0.006)\n",
        "[ 40.0%] 00:00:39 / 00:01:38 / 00:00:59 (avg. dt=0.006)\n",
        "[ 50.0%] 00:00:47 / 00:01:35 / 00:00:47 (avg. dt=0.006)\n",
        "[ 60.0%] 00:00:56 / 00:01:34 / 00:00:37 (avg. dt=0.006)\n",
        "[ 70.0%] 00:01:05 / 00:01:33 / 00:00:28 (avg. dt=0.006)\n",
        "[ 80.0%] 00:01:13 / 00:01:32 / 00:00:18 (avg. dt=0.006)\n",
        "[ 90.0%] 00:01:22 / 00:01:31 / 00:00:09 (avg. dt=0.006)\n",
        "Done.\n"
       ]
      },
      {
       "output_type": "stream",
       "stream": "stdout",
       "text": [
        " \n",
        "         d8888                   888      d8b  .d8888b.   \n",
        "        d88888                   888      Y8P d88P  Y88b  \n",
        "       d88P888                   888          Y88b.       \n",
        "      d88P 888  .d88b.   .d88b.  888      888  \"Y888b.    \n",
        "     d88P  888 d8P  Y8b d88\"\"88b 888      888     \"Y88b.  \n",
        "    d88P   888 88888888 888  888 888      888       \"888  \n",
        "   d8888888888 Y8b.     Y88..88P 888      888 Y88b  d88P  \n",
        "  d88P     888  \"Y8888   \"Y88P\"  88888888 888  \"Y8888P\"   \n",
        " \n",
        "Process ID #77265\n",
        " \n",
        "Writing input to /Users/hoonhout/GitHub/aeolis-models/dong2004/dong2004_u18_L06.0_bi0.0250.txt\n",
        " \n",
        "[ 10.0%] 00:00:09 / 00:01:30 / 00:01:21 (avg. dt=0.006)\n",
        "[ 20.0%] 00:00:18 / 00:01:30 / 00:01:12 (avg. dt=0.006)\n",
        "[ 30.0%] 00:00:26 / 00:01:29 / 00:01:02 (avg. dt=0.006)\n",
        "[ 40.0%] 00:00:36 / 00:01:30 / 00:00:54 (avg. dt=0.006)\n",
        "[ 50.0%] 00:00:45 / 00:01:30 / 00:00:45 (avg. dt=0.006)\n",
        "[ 60.0%] 00:00:54 / 00:01:30 / 00:00:36 (avg. dt=0.006)\n",
        "[ 70.0%] 00:01:03 / 00:01:30 / 00:00:27 (avg. dt=0.006)\n",
        "[ 80.0%] 00:01:13 / 00:01:31 / 00:00:18 (avg. dt=0.006)\n",
        "[ 90.0%] 00:01:23 / 00:01:32 / 00:00:09 (avg. dt=0.006)\n",
        "Done.\n"
       ]
      },
      {
       "output_type": "stream",
       "stream": "stdout",
       "text": [
        " \n",
        "         d8888                   888      d8b  .d8888b.   \n",
        "        d88888                   888      Y8P d88P  Y88b  \n",
        "       d88P888                   888          Y88b.       \n",
        "      d88P 888  .d88b.   .d88b.  888      888  \"Y888b.    \n",
        "     d88P  888 d8P  Y8b d88\"\"88b 888      888     \"Y88b.  \n",
        "    d88P   888 88888888 888  888 888      888       \"888  \n",
        "   d8888888888 Y8b.     Y88..88P 888      888 Y88b  d88P  \n",
        "  d88P     888  \"Y8888   \"Y88P\"  88888888 888  \"Y8888P\"   \n",
        " \n",
        "Process ID #77334\n",
        " \n",
        "Writing input to /Users/hoonhout/GitHub/aeolis-models/dong2004/dong2004_u18_L08.0_bi0.0250.txt\n",
        " \n",
        "[ 10.0%] 00:00:09 / 00:01:35 / 00:01:25 (avg. dt=0.006)\n",
        "[ 20.0%] 00:00:18 / 00:01:34 / 00:01:15 (avg. dt=0.006)\n",
        "[ 30.0%] 00:00:28 / 00:01:34 / 00:01:06 (avg. dt=0.006)\n",
        "[ 40.0%] 00:00:37 / 00:01:34 / 00:00:56 (avg. dt=0.006)\n",
        "[ 50.0%] 00:00:47 / 00:01:34 / 00:00:47 (avg. dt=0.006)\n",
        "[ 60.0%] 00:00:56 / 00:01:34 / 00:00:37 (avg. dt=0.006)\n",
        "[ 70.0%] 00:01:06 / 00:01:34 / 00:00:28 (avg. dt=0.006)\n",
        "[ 80.0%] 00:01:15 / 00:01:34 / 00:00:18 (avg. dt=0.006)\n",
        "[ 90.0%] 00:01:25 / 00:01:34 / 00:00:09 (avg. dt=0.006)\n",
        "Done.\n"
       ]
      },
      {
       "output_type": "stream",
       "stream": "stdout",
       "text": [
        " \n",
        "         d8888                   888      d8b  .d8888b.   \n",
        "        d88888                   888      Y8P d88P  Y88b  \n",
        "       d88P888                   888          Y88b.       \n",
        "      d88P 888  .d88b.   .d88b.  888      888  \"Y888b.    \n",
        "     d88P  888 d8P  Y8b d88\"\"88b 888      888     \"Y88b.  \n",
        "    d88P   888 88888888 888  888 888      888       \"888  \n",
        "   d8888888888 Y8b.     Y88..88P 888      888 Y88b  d88P  \n",
        "  d88P     888  \"Y8888   \"Y88P\"  88888888 888  \"Y8888P\"   \n",
        " \n",
        "Process ID #77338\n",
        " \n",
        "Writing input to /Users/hoonhout/GitHub/aeolis-models/dong2004/dong2004_u18_L10.0_bi0.0250.txt\n",
        " \n",
        "[ 10.0%] 00:00:10 / 00:01:41 / 00:01:30 (avg. dt=0.006)\n",
        "[ 20.0%] 00:00:20 / 00:01:41 / 00:01:21 (avg. dt=0.006)\n",
        "[ 30.0%] 00:00:30 / 00:01:41 / 00:01:10 (avg. dt=0.006)\n",
        "[ 40.0%] 00:00:40 / 00:01:41 / 00:01:00 (avg. dt=0.006)\n",
        "[ 50.0%] 00:00:50 / 00:01:41 / 00:00:50 (avg. dt=0.006)\n",
        "[ 60.0%] 00:01:00 / 00:01:41 / 00:00:40 (avg. dt=0.006)\n",
        "[ 70.0%] 00:01:10 / 00:01:41 / 00:00:30 (avg. dt=0.006)\n",
        "[ 80.0%] 00:01:20 / 00:01:41 / 00:00:20 (avg. dt=0.006)\n",
        "[ 90.0%] 00:01:31 / 00:01:41 / 00:00:10 (avg. dt=0.006)\n",
        "Done.\n"
       ]
      },
      {
       "output_type": "stream",
       "stream": "stdout",
       "text": [
        " \n",
        "         d8888                   888      d8b  .d8888b.   \n",
        "        d88888                   888      Y8P d88P  Y88b  \n",
        "       d88P888                   888          Y88b.       \n",
        "      d88P 888  .d88b.   .d88b.  888      888  \"Y888b.    \n",
        "     d88P  888 d8P  Y8b d88\"\"88b 888      888     \"Y88b.  \n",
        "    d88P   888 88888888 888  888 888      888       \"888  \n",
        "   d8888888888 Y8b.     Y88..88P 888      888 Y88b  d88P  \n",
        "  d88P     888  \"Y8888   \"Y88P\"  88888888 888  \"Y8888P\"   \n",
        " \n",
        "Process ID #77344\n",
        " \n",
        "Writing input to /Users/hoonhout/GitHub/aeolis-models/dong2004/dong2004_u18_L12.0_bi0.0250.txt\n",
        " \n",
        "[ 10.0%] 00:00:11 / 00:01:52 / 00:01:41 (avg. dt=0.006)\n",
        "[ 20.0%] 00:00:22 / 00:01:53 / 00:01:30 (avg. dt=0.006)\n",
        "[ 30.0%] 00:00:33 / 00:01:53 / 00:01:19 (avg. dt=0.006)\n",
        "[ 40.0%] 00:00:45 / 00:01:54 / 00:01:08 (avg. dt=0.006)\n",
        "[ 50.0%] 00:00:56 / 00:01:53 / 00:00:56 (avg. dt=0.006)\n",
        "[ 60.0%] 00:01:08 / 00:01:53 / 00:00:45 (avg. dt=0.006)\n",
        "[ 70.0%] 00:01:19 / 00:01:53 / 00:00:34 (avg. dt=0.006)\n",
        "[ 80.0%] 00:01:31 / 00:01:54 / 00:00:22 (avg. dt=0.006)\n",
        "[ 90.0%] 00:01:43 / 00:01:54 / 00:00:11 (avg. dt=0.006)\n",
        "Done.\n"
       ]
      },
      {
       "output_type": "stream",
       "stream": "stdout",
       "text": [
        " \n",
        "         d8888                   888      d8b  .d8888b.   \n",
        "        d88888                   888      Y8P d88P  Y88b  \n",
        "       d88P888                   888          Y88b.       \n",
        "      d88P 888  .d88b.   .d88b.  888      888  \"Y888b.    \n",
        "     d88P  888 d8P  Y8b d88\"\"88b 888      888     \"Y88b.  \n",
        "    d88P   888 88888888 888  888 888      888       \"888  \n",
        "   d8888888888 Y8b.     Y88..88P 888      888 Y88b  d88P  \n",
        "  d88P     888  \"Y8888   \"Y88P\"  88888888 888  \"Y8888P\"   \n",
        " \n",
        "Process ID #77351\n",
        " \n",
        "Writing input to /Users/hoonhout/GitHub/aeolis-models/dong2004/dong2004_u20_L00.5_bi0.0250.txt\n",
        " \n",
        "[ 10.0%] 00:00:09 / 00:01:34 / 00:01:24 (avg. dt=0.005)\n",
        "[ 20.0%] 00:00:18 / 00:01:33 / 00:01:15 (avg. dt=0.005)\n",
        "[ 30.0%] 00:00:28 / 00:01:33 / 00:01:05 (avg. dt=0.005)\n",
        "[ 40.0%] 00:00:37 / 00:01:33 / 00:00:56 (avg. dt=0.005)\n",
        "[ 50.0%] 00:00:46 / 00:01:33 / 00:00:46 (avg. dt=0.005)\n",
        "[ 60.0%] 00:00:56 / 00:01:33 / 00:00:37 (avg. dt=0.005)\n",
        "[ 70.0%] 00:01:05 / 00:01:33 / 00:00:28 (avg. dt=0.005)\n",
        "[ 80.0%] 00:01:14 / 00:01:33 / 00:00:18 (avg. dt=0.005)\n",
        "[ 90.0%] 00:01:23 / 00:01:33 / 00:00:09 (avg. dt=0.005)\n",
        "Done.\n"
       ]
      },
      {
       "output_type": "stream",
       "stream": "stdout",
       "text": [
        " \n",
        "         d8888                   888      d8b  .d8888b.   \n",
        "        d88888                   888      Y8P d88P  Y88b  \n",
        "       d88P888                   888          Y88b.       \n",
        "      d88P 888  .d88b.   .d88b.  888      888  \"Y888b.    \n",
        "     d88P  888 d8P  Y8b d88\"\"88b 888      888     \"Y88b.  \n",
        "    d88P   888 88888888 888  888 888      888       \"888  \n",
        "   d8888888888 Y8b.     Y88..88P 888      888 Y88b  d88P  \n",
        "  d88P     888  \"Y8888   \"Y88P\"  88888888 888  \"Y8888P\"   \n",
        " \n",
        "Process ID #77355\n",
        " \n",
        "Writing input to /Users/hoonhout/GitHub/aeolis-models/dong2004/dong2004_u20_L01.0_bi0.0250.txt\n",
        " \n",
        "[ 10.0%] 00:00:09 / 00:01:34 / 00:01:24 (avg. dt=0.005)\n",
        "[ 20.0%] 00:00:18 / 00:01:34 / 00:01:15 (avg. dt=0.005)\n",
        "[ 30.0%] 00:00:28 / 00:01:33 / 00:01:05 (avg. dt=0.005)\n",
        "[ 40.0%] 00:00:37 / 00:01:33 / 00:00:56 (avg. dt=0.005)\n",
        "[ 50.0%] 00:00:46 / 00:01:33 / 00:00:46 (avg. dt=0.005)\n",
        "[ 60.0%] 00:00:56 / 00:01:33 / 00:00:37 (avg. dt=0.005)\n",
        "[ 70.0%] 00:01:05 / 00:01:33 / 00:00:28 (avg. dt=0.005)\n",
        "[ 80.0%] 00:01:14 / 00:01:33 / 00:00:18 (avg. dt=0.005)\n",
        "[ 90.0%] 00:01:24 / 00:01:33 / 00:00:09 (avg. dt=0.005)\n",
        "Done.\n"
       ]
      },
      {
       "output_type": "stream",
       "stream": "stdout",
       "text": [
        " \n",
        "         d8888                   888      d8b  .d8888b.   \n",
        "        d88888                   888      Y8P d88P  Y88b  \n",
        "       d88P888                   888          Y88b.       \n",
        "      d88P 888  .d88b.   .d88b.  888      888  \"Y888b.    \n",
        "     d88P  888 d8P  Y8b d88\"\"88b 888      888     \"Y88b.  \n",
        "    d88P   888 88888888 888  888 888      888       \"888  \n",
        "   d8888888888 Y8b.     Y88..88P 888      888 Y88b  d88P  \n",
        "  d88P     888  \"Y8888   \"Y88P\"  88888888 888  \"Y8888P\"   \n",
        " \n",
        "Process ID #77361\n",
        " \n",
        "Writing input to /Users/hoonhout/GitHub/aeolis-models/dong2004/dong2004_u20_L02.0_bi0.0250.txt\n",
        " \n",
        "[ 10.0%] 00:00:09 / 00:01:36 / 00:01:26 (avg. dt=0.005)\n",
        "[ 20.0%] 00:00:19 / 00:01:35 / 00:01:16 (avg. dt=0.005)\n",
        "[ 30.0%] 00:00:28 / 00:01:35 / 00:01:07 (avg. dt=0.005)\n",
        "[ 40.0%] 00:00:38 / 00:01:35 / 00:00:57 (avg. dt=0.005)\n",
        "[ 50.0%] 00:00:48 / 00:01:36 / 00:00:48 (avg. dt=0.005)\n",
        "[ 60.0%] 00:00:57 / 00:01:36 / 00:00:38 (avg. dt=0.005)\n",
        "[ 70.0%] 00:01:07 / 00:01:36 / 00:00:28 (avg. dt=0.005)\n",
        "[ 80.0%] 00:01:16 / 00:01:35 / 00:00:19 (avg. dt=0.005)\n",
        "[ 90.0%] 00:01:26 / 00:01:36 / 00:00:09 (avg. dt=0.005)\n",
        "Done.\n"
       ]
      },
      {
       "output_type": "stream",
       "stream": "stdout",
       "text": [
        " \n",
        "         d8888                   888      d8b  .d8888b.   \n",
        "        d88888                   888      Y8P d88P  Y88b  \n",
        "       d88P888                   888          Y88b.       \n",
        "      d88P 888  .d88b.   .d88b.  888      888  \"Y888b.    \n",
        "     d88P  888 d8P  Y8b d88\"\"88b 888      888     \"Y88b.  \n",
        "    d88P   888 88888888 888  888 888      888       \"888  \n",
        "   d8888888888 Y8b.     Y88..88P 888      888 Y88b  d88P  \n",
        "  d88P     888  \"Y8888   \"Y88P\"  88888888 888  \"Y8888P\"   \n",
        " \n",
        "Process ID #77366\n",
        " \n",
        "Writing input to /Users/hoonhout/GitHub/aeolis-models/dong2004/dong2004_u20_L04.0_bi0.0250.txt\n",
        " \n",
        "[ 10.0%] 00:00:09 / 00:01:39 / 00:01:29 (avg. dt=0.005)\n",
        "[ 20.0%] 00:00:19 / 00:01:38 / 00:01:18 (avg. dt=0.005)\n",
        "[ 30.0%] 00:00:29 / 00:01:38 / 00:01:08 (avg. dt=0.005)\n",
        "[ 40.0%] 00:00:39 / 00:01:38 / 00:00:59 (avg. dt=0.005)\n",
        "[ 50.0%] 00:00:49 / 00:01:38 / 00:00:49 (avg. dt=0.005)\n",
        "[ 60.0%] 00:00:58 / 00:01:38 / 00:00:39 (avg. dt=0.005)\n",
        "[ 70.0%] 00:01:08 / 00:01:38 / 00:00:29 (avg. dt=0.005)\n",
        "[ 80.0%] 00:01:18 / 00:01:38 / 00:00:19 (avg. dt=0.005)\n",
        "[ 90.0%] 00:01:28 / 00:01:38 / 00:00:09 (avg. dt=0.005)\n",
        "Done.\n"
       ]
      },
      {
       "output_type": "stream",
       "stream": "stdout",
       "text": [
        " \n",
        "         d8888                   888      d8b  .d8888b.   \n",
        "        d88888                   888      Y8P d88P  Y88b  \n",
        "       d88P888                   888          Y88b.       \n",
        "      d88P 888  .d88b.   .d88b.  888      888  \"Y888b.    \n",
        "     d88P  888 d8P  Y8b d88\"\"88b 888      888     \"Y88b.  \n",
        "    d88P   888 88888888 888  888 888      888       \"888  \n",
        "   d8888888888 Y8b.     Y88..88P 888      888 Y88b  d88P  \n",
        "  d88P     888  \"Y8888   \"Y88P\"  88888888 888  \"Y8888P\"   \n",
        " \n",
        "Process ID #77370\n",
        " \n",
        "Writing input to /Users/hoonhout/GitHub/aeolis-models/dong2004/dong2004_u20_L06.0_bi0.0250.txt\n",
        " \n",
        "[ 10.0%] 00:00:10 / 00:01:42 / 00:01:32 (avg. dt=0.005)\n",
        "[ 20.0%] 00:00:20 / 00:01:43 / 00:01:22 (avg. dt=0.005)\n",
        "[ 30.0%] 00:00:30 / 00:01:42 / 00:01:12 (avg. dt=0.005)\n",
        "[ 40.0%] 00:00:41 / 00:01:42 / 00:01:01 (avg. dt=0.005)\n",
        "[ 50.0%] 00:00:51 / 00:01:42 / 00:00:51 (avg. dt=0.005)\n",
        "[ 60.0%] 00:01:01 / 00:01:42 / 00:00:41 (avg. dt=0.005)\n",
        "[ 70.0%] 00:01:11 / 00:01:42 / 00:00:30 (avg. dt=0.005)\n",
        "[ 80.0%] 00:01:21 / 00:01:42 / 00:00:20 (avg. dt=0.005)\n",
        "[ 90.0%] 00:01:32 / 00:01:42 / 00:00:10 (avg. dt=0.005)\n",
        "Done.\n"
       ]
      },
      {
       "output_type": "stream",
       "stream": "stdout",
       "text": [
        " \n",
        "         d8888                   888      d8b  .d8888b.   \n",
        "        d88888                   888      Y8P d88P  Y88b  \n",
        "       d88P888                   888          Y88b.       \n",
        "      d88P 888  .d88b.   .d88b.  888      888  \"Y888b.    \n",
        "     d88P  888 d8P  Y8b d88\"\"88b 888      888     \"Y88b.  \n",
        "    d88P   888 88888888 888  888 888      888       \"888  \n",
        "   d8888888888 Y8b.     Y88..88P 888      888 Y88b  d88P  \n",
        "  d88P     888  \"Y8888   \"Y88P\"  88888888 888  \"Y8888P\"   \n",
        " \n",
        "Process ID #77374\n",
        " \n",
        "Writing input to /Users/hoonhout/GitHub/aeolis-models/dong2004/dong2004_u20_L08.0_bi0.0250.txt\n",
        " \n",
        "[ 10.0%] 00:00:10 / 00:01:48 / 00:01:37 (avg. dt=0.005)\n",
        "[ 20.0%] 00:00:21 / 00:01:48 / 00:01:26 (avg. dt=0.005)\n",
        "[ 30.0%] 00:00:32 / 00:01:48 / 00:01:15 (avg. dt=0.005)\n",
        "[ 40.0%] 00:00:43 / 00:01:49 / 00:01:05 (avg. dt=0.005)\n",
        "[ 50.0%] 00:00:54 / 00:01:48 / 00:00:54 (avg. dt=0.005)\n",
        "[ 60.0%] 00:01:05 / 00:01:48 / 00:00:43 (avg. dt=0.005)\n",
        "[ 70.0%] 00:01:16 / 00:01:48 / 00:00:32 (avg. dt=0.005)\n",
        "[ 80.0%] 00:01:26 / 00:01:48 / 00:00:21 (avg. dt=0.005)\n",
        "[ 90.0%] 00:01:37 / 00:01:48 / 00:00:10 (avg. dt=0.005)\n",
        "Done.\n"
       ]
      },
      {
       "output_type": "stream",
       "stream": "stdout",
       "text": [
        " \n",
        "         d8888                   888      d8b  .d8888b.   \n",
        "        d88888                   888      Y8P d88P  Y88b  \n",
        "       d88P888                   888          Y88b.       \n",
        "      d88P 888  .d88b.   .d88b.  888      888  \"Y888b.    \n",
        "     d88P  888 d8P  Y8b d88\"\"88b 888      888     \"Y88b.  \n",
        "    d88P   888 88888888 888  888 888      888       \"888  \n",
        "   d8888888888 Y8b.     Y88..88P 888      888 Y88b  d88P  \n",
        "  d88P     888  \"Y8888   \"Y88P\"  88888888 888  \"Y8888P\"   \n",
        " \n",
        "Process ID #77379\n",
        " \n",
        "Writing input to /Users/hoonhout/GitHub/aeolis-models/dong2004/dong2004_u20_L10.0_bi0.0250.txt\n",
        " \n",
        "[ 10.0%] 00:00:12 / 00:02:04 / 00:01:51 (avg. dt=0.005)\n",
        "[ 20.0%] 00:00:24 / 00:02:03 / 00:01:38 (avg. dt=0.005)\n",
        "[ 30.0%] 00:00:36 / 00:02:02 / 00:01:25 (avg. dt=0.005)\n",
        "[ 40.0%] 00:00:48 / 00:02:02 / 00:01:13 (avg. dt=0.005)\n",
        "[ 50.0%] 00:01:00 / 00:02:01 / 00:01:00 (avg. dt=0.005)\n",
        "[ 60.0%] 00:01:13 / 00:02:01 / 00:00:48 (avg. dt=0.005)\n",
        "[ 70.0%] 00:01:24 / 00:02:01 / 00:00:36 (avg. dt=0.005)\n",
        "[ 80.0%] 00:01:36 / 00:02:01 / 00:00:24 (avg. dt=0.005)\n",
        "[ 90.0%] 00:01:49 / 00:02:01 / 00:00:12 (avg. dt=0.005)\n",
        "Done.\n"
       ]
      },
      {
       "output_type": "stream",
       "stream": "stdout",
       "text": [
        " \n",
        "         d8888                   888      d8b  .d8888b.   \n",
        "        d88888                   888      Y8P d88P  Y88b  \n",
        "       d88P888                   888          Y88b.       \n",
        "      d88P 888  .d88b.   .d88b.  888      888  \"Y888b.    \n",
        "     d88P  888 d8P  Y8b d88\"\"88b 888      888     \"Y88b.  \n",
        "    d88P   888 88888888 888  888 888      888       \"888  \n",
        "   d8888888888 Y8b.     Y88..88P 888      888 Y88b  d88P  \n",
        "  d88P     888  \"Y8888   \"Y88P\"  88888888 888  \"Y8888P\"   \n",
        " \n",
        "Process ID #77383\n",
        " \n",
        "Writing input to /Users/hoonhout/GitHub/aeolis-models/dong2004/dong2004_u20_L12.0_bi0.0250.txt\n",
        " \n",
        "[ 10.0%] 00:00:12 / 00:02:06 / 00:01:54 (avg. dt=0.005)\n",
        "[ 20.0%] 00:00:25 / 00:02:07 / 00:01:41 (avg. dt=0.005)\n",
        "[ 30.0%] 00:00:40 / 00:02:14 / 00:01:34 (avg. dt=0.005)\n",
        "[ 40.0%] 00:00:53 / 00:02:12 / 00:01:19 (avg. dt=0.005)\n",
        "[ 50.0%] 00:01:05 / 00:02:11 / 00:01:05 (avg. dt=0.005)\n",
        "[ 60.0%] 00:01:18 / 00:02:10 / 00:00:52 (avg. dt=0.005)\n",
        "[ 70.0%] 00:01:31 / 00:02:10 / 00:00:39 (avg. dt=0.005)\n",
        "[ 80.0%] 00:01:44 / 00:02:10 / 00:00:26 (avg. dt=0.005)\n",
        "[ 90.0%] 00:01:57 / 00:02:10 / 00:00:13 (avg. dt=0.005)\n",
        "Done.\n"
       ]
      },
      {
       "output_type": "stream",
       "stream": "stdout",
       "text": [
        " \n",
        "         d8888                   888      d8b  .d8888b.   \n",
        "        d88888                   888      Y8P d88P  Y88b  \n",
        "       d88P888                   888          Y88b.       \n",
        "      d88P 888  .d88b.   .d88b.  888      888  \"Y888b.    \n",
        "     d88P  888 d8P  Y8b d88\"\"88b 888      888     \"Y88b.  \n",
        "    d88P   888 88888888 888  888 888      888       \"888  \n",
        "   d8888888888 Y8b.     Y88..88P 888      888 Y88b  d88P  \n",
        "  d88P     888  \"Y8888   \"Y88P\"  88888888 888  \"Y8888P\"   \n",
        " \n",
        "Process ID #77391\n",
        " \n",
        "Writing input to /Users/hoonhout/GitHub/aeolis-models/dong2004/dong2004_u22_L00.5_bi0.0250.txt\n",
        " \n",
        "[ 10.0%] 00:00:10 / 00:01:42 / 00:01:31 (avg. dt=0.005)\n",
        "[ 20.0%] 00:00:20 / 00:01:42 / 00:01:21 (avg. dt=0.005)\n",
        "[ 30.0%] 00:00:30 / 00:01:41 / 00:01:11 (avg. dt=0.005)\n",
        "[ 40.0%] 00:00:40 / 00:01:42 / 00:01:01 (avg. dt=0.005)\n",
        "[ 50.0%] 00:00:51 / 00:01:42 / 00:00:51 (avg. dt=0.005)\n",
        "[ 60.0%] 00:01:01 / 00:01:42 / 00:00:40 (avg. dt=0.005)\n",
        "[ 70.0%] 00:01:11 / 00:01:42 / 00:00:30 (avg. dt=0.005)\n",
        "[ 80.0%] 00:01:21 / 00:01:42 / 00:00:20 (avg. dt=0.005)\n",
        "[ 90.0%] 00:01:32 / 00:01:42 / 00:00:10 (avg. dt=0.005)\n",
        "Done.\n"
       ]
      },
      {
       "output_type": "stream",
       "stream": "stdout",
       "text": [
        " \n",
        "         d8888                   888      d8b  .d8888b.   \n",
        "        d88888                   888      Y8P d88P  Y88b  \n",
        "       d88P888                   888          Y88b.       \n",
        "      d88P 888  .d88b.   .d88b.  888      888  \"Y888b.    \n",
        "     d88P  888 d8P  Y8b d88\"\"88b 888      888     \"Y88b.  \n",
        "    d88P   888 88888888 888  888 888      888       \"888  \n",
        "   d8888888888 Y8b.     Y88..88P 888      888 Y88b  d88P  \n",
        "  d88P     888  \"Y8888   \"Y88P\"  88888888 888  \"Y8888P\"   \n",
        " \n",
        "Process ID #77395\n",
        " \n",
        "Writing input to /Users/hoonhout/GitHub/aeolis-models/dong2004/dong2004_u22_L01.0_bi0.0250.txt\n",
        " \n",
        "[ 10.0%] 00:00:10 / 00:01:46 / 00:01:35 (avg. dt=0.005)\n",
        "[ 20.0%] 00:00:21 / 00:01:45 / 00:01:24 (avg. dt=0.005)\n",
        "[ 30.0%] 00:00:31 / 00:01:44 / 00:01:13 (avg. dt=0.005)\n",
        "[ 40.0%] 00:00:41 / 00:01:44 / 00:01:02 (avg. dt=0.005)\n",
        "[ 50.0%] 00:00:52 / 00:01:44 / 00:00:52 (avg. dt=0.005)\n",
        "[ 60.0%] 00:01:02 / 00:01:44 / 00:00:41 (avg. dt=0.005)\n",
        "[ 70.0%] 00:01:12 / 00:01:44 / 00:00:31 (avg. dt=0.005)\n",
        "[ 80.0%] 00:01:23 / 00:01:43 / 00:00:20 (avg. dt=0.005)\n",
        "[ 90.0%] 00:01:33 / 00:01:43 / 00:00:10 (avg. dt=0.005)\n",
        "Done.\n"
       ]
      },
      {
       "output_type": "stream",
       "stream": "stdout",
       "text": [
        " \n",
        "         d8888                   888      d8b  .d8888b.   \n",
        "        d88888                   888      Y8P d88P  Y88b  \n",
        "       d88P888                   888          Y88b.       \n",
        "      d88P 888  .d88b.   .d88b.  888      888  \"Y888b.    \n",
        "     d88P  888 d8P  Y8b d88\"\"88b 888      888     \"Y88b.  \n",
        "    d88P   888 88888888 888  888 888      888       \"888  \n",
        "   d8888888888 Y8b.     Y88..88P 888      888 Y88b  d88P  \n",
        "  d88P     888  \"Y8888   \"Y88P\"  88888888 888  \"Y8888P\"   \n",
        " \n",
        "Process ID #77403\n",
        " \n",
        "Writing input to /Users/hoonhout/GitHub/aeolis-models/dong2004/dong2004_u22_L02.0_bi0.0250.txt\n",
        " \n",
        "[ 10.0%] 00:00:10 / 00:01:45 / 00:01:35 (avg. dt=0.005)\n",
        "[ 20.0%] 00:00:21 / 00:01:45 / 00:01:24 (avg. dt=0.005)\n",
        "[ 30.0%] 00:00:31 / 00:01:45 / 00:01:13 (avg. dt=0.005)\n",
        "[ 40.0%] 00:00:42 / 00:01:45 / 00:01:03 (avg. dt=0.005)\n",
        "[ 50.0%] 00:00:52 / 00:01:45 / 00:00:52 (avg. dt=0.005)\n",
        "[ 60.0%] 00:01:03 / 00:01:45 / 00:00:42 (avg. dt=0.005)\n",
        "[ 70.0%] 00:01:13 / 00:01:45 / 00:00:31 (avg. dt=0.005)\n",
        "[ 80.0%] 00:01:24 / 00:01:45 / 00:00:21 (avg. dt=0.005)\n",
        "[ 90.0%] 00:01:35 / 00:01:45 / 00:00:10 (avg. dt=0.005)\n",
        "Done.\n"
       ]
      },
      {
       "output_type": "stream",
       "stream": "stdout",
       "text": [
        " \n",
        "         d8888                   888      d8b  .d8888b.   \n",
        "        d88888                   888      Y8P d88P  Y88b  \n",
        "       d88P888                   888          Y88b.       \n",
        "      d88P 888  .d88b.   .d88b.  888      888  \"Y888b.    \n",
        "     d88P  888 d8P  Y8b d88\"\"88b 888      888     \"Y88b.  \n",
        "    d88P   888 88888888 888  888 888      888       \"888  \n",
        "   d8888888888 Y8b.     Y88..88P 888      888 Y88b  d88P  \n",
        "  d88P     888  \"Y8888   \"Y88P\"  88888888 888  \"Y8888P\"   \n",
        " \n",
        "Process ID #77409\n",
        " \n",
        "Writing input to /Users/hoonhout/GitHub/aeolis-models/dong2004/dong2004_u22_L04.0_bi0.0250.txt\n",
        " \n",
        "[ 10.0%] 00:00:10 / 00:01:49 / 00:01:38 (avg. dt=0.005)\n",
        "[ 20.0%] 00:00:21 / 00:01:49 / 00:01:27 (avg. dt=0.005)\n",
        "[ 30.0%] 00:00:32 / 00:01:49 / 00:01:16 (avg. dt=0.005)\n",
        "[ 40.0%] 00:00:43 / 00:01:48 / 00:01:05 (avg. dt=0.005)\n",
        "[ 50.0%] 00:00:54 / 00:01:49 / 00:00:54 (avg. dt=0.005)\n",
        "[ 60.0%] 00:01:05 / 00:01:49 / 00:00:43 (avg. dt=0.005)\n",
        "[ 70.0%] 00:01:16 / 00:01:49 / 00:00:32 (avg. dt=0.005)\n",
        "[ 80.0%] 00:01:27 / 00:01:49 / 00:00:21 (avg. dt=0.005)\n",
        "[ 90.0%] 00:01:38 / 00:01:49 / 00:00:10 (avg. dt=0.005)\n",
        "Done.\n"
       ]
      },
      {
       "output_type": "stream",
       "stream": "stdout",
       "text": [
        " \n",
        "         d8888                   888      d8b  .d8888b.   \n",
        "        d88888                   888      Y8P d88P  Y88b  \n",
        "       d88P888                   888          Y88b.       \n",
        "      d88P 888  .d88b.   .d88b.  888      888  \"Y888b.    \n",
        "     d88P  888 d8P  Y8b d88\"\"88b 888      888     \"Y88b.  \n",
        "    d88P   888 88888888 888  888 888      888       \"888  \n",
        "   d8888888888 Y8b.     Y88..88P 888      888 Y88b  d88P  \n",
        "  d88P     888  \"Y8888   \"Y88P\"  88888888 888  \"Y8888P\"   \n",
        " \n",
        "Process ID #77416\n",
        " \n",
        "Writing input to /Users/hoonhout/GitHub/aeolis-models/dong2004/dong2004_u22_L06.0_bi0.0250.txt\n",
        " \n",
        "[ 10.0%] 00:00:11 / 00:01:54 / 00:01:42 (avg. dt=0.005)\n",
        "[ 20.0%] 00:00:22 / 00:01:54 / 00:01:31 (avg. dt=0.005)\n",
        "[ 30.0%] 00:00:34 / 00:01:54 / 00:01:19 (avg. dt=0.005)\n",
        "[ 40.0%] 00:00:45 / 00:01:54 / 00:01:08 (avg. dt=0.005)\n",
        "[ 50.0%] 00:00:56 / 00:01:53 / 00:00:56 (avg. dt=0.005)\n",
        "[ 60.0%] 00:01:08 / 00:01:54 / 00:00:45 (avg. dt=0.005)\n",
        "[ 70.0%] 00:01:19 / 00:01:54 / 00:00:34 (avg. dt=0.005)\n",
        "[ 80.0%] 00:01:31 / 00:01:54 / 00:00:22 (avg. dt=0.005)\n",
        "[ 90.0%] 00:01:42 / 00:01:54 / 00:00:11 (avg. dt=0.005)\n",
        "Done.\n"
       ]
      },
      {
       "output_type": "stream",
       "stream": "stdout",
       "text": [
        " \n",
        "         d8888                   888      d8b  .d8888b.   \n",
        "        d88888                   888      Y8P d88P  Y88b  \n",
        "       d88P888                   888          Y88b.       \n",
        "      d88P 888  .d88b.   .d88b.  888      888  \"Y888b.    \n",
        "     d88P  888 d8P  Y8b d88\"\"88b 888      888     \"Y88b.  \n",
        "    d88P   888 88888888 888  888 888      888       \"888  \n",
        "   d8888888888 Y8b.     Y88..88P 888      888 Y88b  d88P  \n",
        "  d88P     888  \"Y8888   \"Y88P\"  88888888 888  \"Y8888P\"   \n",
        " \n",
        "Process ID #77420\n",
        " \n",
        "Writing input to /Users/hoonhout/GitHub/aeolis-models/dong2004/dong2004_u22_L08.0_bi0.0250.txt\n",
        " \n",
        "[ 10.0%] 00:00:12 / 00:02:02 / 00:01:50 (avg. dt=0.005)\n",
        "[ 20.0%] 00:00:24 / 00:02:02 / 00:01:38 (avg. dt=0.005)\n",
        "[ 30.0%] 00:00:36 / 00:02:02 / 00:01:25 (avg. dt=0.005)\n",
        "[ 40.0%] 00:00:49 / 00:02:02 / 00:01:13 (avg. dt=0.005)\n",
        "[ 50.0%] 00:01:01 / 00:02:02 / 00:01:01 (avg. dt=0.005)\n",
        "[ 60.0%] 00:01:13 / 00:02:02 / 00:00:49 (avg. dt=0.005)\n",
        "[ 70.0%] 00:01:25 / 00:02:02 / 00:00:36 (avg. dt=0.005)\n",
        "[ 80.0%] 00:01:38 / 00:02:02 / 00:00:24 (avg. dt=0.005)\n",
        "[ 90.0%] 00:01:50 / 00:02:02 / 00:00:12 (avg. dt=0.005)\n",
        "Done.\n"
       ]
      },
      {
       "output_type": "stream",
       "stream": "stdout",
       "text": [
        " \n",
        "         d8888                   888      d8b  .d8888b.   \n",
        "        d88888                   888      Y8P d88P  Y88b  \n",
        "       d88P888                   888          Y88b.       \n",
        "      d88P 888  .d88b.   .d88b.  888      888  \"Y888b.    \n",
        "     d88P  888 d8P  Y8b d88\"\"88b 888      888     \"Y88b.  \n",
        "    d88P   888 88888888 888  888 888      888       \"888  \n",
        "   d8888888888 Y8b.     Y88..88P 888      888 Y88b  d88P  \n",
        "  d88P     888  \"Y8888   \"Y88P\"  88888888 888  \"Y8888P\"   \n",
        " \n",
        "Process ID #77425\n",
        " \n",
        "Writing input to /Users/hoonhout/GitHub/aeolis-models/dong2004/dong2004_u22_L10.0_bi0.0250.txt\n",
        " \n",
        "[ 10.0%] 00:00:13 / 00:02:14 / 00:02:01 (avg. dt=0.005)\n",
        "[ 20.0%] 00:00:26 / 00:02:14 / 00:01:47 (avg. dt=0.005)\n",
        "[ 30.0%] 00:00:40 / 00:02:14 / 00:01:34 (avg. dt=0.005)\n",
        "[ 40.0%] 00:00:53 / 00:02:14 / 00:01:20 (avg. dt=0.005)\n",
        "[ 50.0%] 00:01:07 / 00:02:14 / 00:01:07 (avg. dt=0.005)\n",
        "[ 60.0%] 00:01:20 / 00:02:14 / 00:00:53 (avg. dt=0.005)\n",
        "[ 70.0%] 00:01:34 / 00:02:14 / 00:00:40 (avg. dt=0.005)\n",
        "[ 80.0%] 00:01:47 / 00:02:14 / 00:00:26 (avg. dt=0.005)\n",
        "[ 90.0%] 00:02:01 / 00:02:14 / 00:00:13 (avg. dt=0.005)\n",
        "Done.\n"
       ]
      },
      {
       "output_type": "stream",
       "stream": "stdout",
       "text": [
        " \n",
        "         d8888                   888      d8b  .d8888b.   \n",
        "        d88888                   888      Y8P d88P  Y88b  \n",
        "       d88P888                   888          Y88b.       \n",
        "      d88P 888  .d88b.   .d88b.  888      888  \"Y888b.    \n",
        "     d88P  888 d8P  Y8b d88\"\"88b 888      888     \"Y88b.  \n",
        "    d88P   888 88888888 888  888 888      888       \"888  \n",
        "   d8888888888 Y8b.     Y88..88P 888      888 Y88b  d88P  \n",
        "  d88P     888  \"Y8888   \"Y88P\"  88888888 888  \"Y8888P\"   \n",
        " \n",
        "Process ID #77429\n",
        " \n",
        "Writing input to /Users/hoonhout/GitHub/aeolis-models/dong2004/dong2004_u22_L12.0_bi0.0250.txt\n",
        " \n",
        "[ 10.0%] 00:00:14 / 00:02:20 / 00:02:06 (avg. dt=0.005)\n",
        "[ 20.0%] 00:00:28 / 00:02:21 / 00:01:52 (avg. dt=0.005)\n",
        "[ 30.0%] 00:00:42 / 00:02:21 / 00:01:38 (avg. dt=0.005)\n",
        "[ 40.0%] 00:00:56 / 00:02:21 / 00:01:24 (avg. dt=0.005)\n",
        "[ 50.0%] 00:01:10 / 00:02:21 / 00:01:10 (avg. dt=0.005)\n",
        "[ 60.0%] 00:01:24 / 00:02:21 / 00:00:56 (avg. dt=0.005)\n",
        "[ 70.0%] 00:01:39 / 00:02:21 / 00:00:42 (avg. dt=0.005)\n",
        "[ 80.0%] 00:01:53 / 00:02:21 / 00:00:28 (avg. dt=0.005)\n",
        "[ 90.0%] 00:02:07 / 00:02:21 / 00:00:14 (avg. dt=0.005)\n",
        "Done.\n"
       ]
      },
      {
       "output_type": "stream",
       "stream": "stdout",
       "text": [
        " \n",
        "         d8888                   888      d8b  .d8888b.   \n",
        "        d88888                   888      Y8P d88P  Y88b  \n",
        "       d88P888                   888          Y88b.       \n",
        "      d88P 888  .d88b.   .d88b.  888      888  \"Y888b.    \n",
        "     d88P  888 d8P  Y8b d88\"\"88b 888      888     \"Y88b.  \n",
        "    d88P   888 88888888 888  888 888      888       \"888  \n",
        "   d8888888888 Y8b.     Y88..88P 888      888 Y88b  d88P  \n",
        "  d88P     888  \"Y8888   \"Y88P\"  88888888 888  \"Y8888P\"   \n",
        " \n",
        "Process ID #77434\n",
        " \n",
        "Writing input to /Users/hoonhout/GitHub/aeolis-models/dong2004/dong2004_u08_L01.0_bi0.0500.txt\n",
        " \n",
        "[ 10.0%] 00:00:03 / 00:00:38 / 00:00:34 (avg. dt=0.012)\n",
        "[ 20.0%] 00:00:07 / 00:00:37 / 00:00:30 (avg. dt=0.013)\n",
        "[ 30.0%] 00:00:11 / 00:00:37 / 00:00:26 (avg. dt=0.013)\n",
        "[ 40.0%] 00:00:15 / 00:00:37 / 00:00:22 (avg. dt=0.013)\n",
        "[ 50.0%] 00:00:18 / 00:00:37 / 00:00:18 (avg. dt=0.012)\n",
        "[ 60.0%] 00:00:22 / 00:00:37 / 00:00:15 (avg. dt=0.012)\n",
        "[ 70.0%] 00:00:26 / 00:00:37 / 00:00:11 (avg. dt=0.012)\n",
        "[ 80.0%] 00:00:30 / 00:00:37 / 00:00:07 (avg. dt=0.012)\n",
        "[ 90.0%] 00:00:33 / 00:00:37 / 00:00:03 (avg. dt=0.012)\n",
        "Done.\n"
       ]
      },
      {
       "output_type": "stream",
       "stream": "stdout",
       "text": [
        " \n",
        "         d8888                   888      d8b  .d8888b.   \n",
        "        d88888                   888      Y8P d88P  Y88b  \n",
        "       d88P888                   888          Y88b.       \n",
        "      d88P 888  .d88b.   .d88b.  888      888  \"Y888b.    \n",
        "     d88P  888 d8P  Y8b d88\"\"88b 888      888     \"Y88b.  \n",
        "    d88P   888 88888888 888  888 888      888       \"888  \n",
        "   d8888888888 Y8b.     Y88..88P 888      888 Y88b  d88P  \n",
        "  d88P     888  \"Y8888   \"Y88P\"  88888888 888  \"Y8888P\"   \n",
        " \n",
        "Process ID #77437\n",
        " \n",
        "Writing input to /Users/hoonhout/GitHub/aeolis-models/dong2004/dong2004_u08_L01.0_bi0.1000.txt\n",
        " \n",
        "[ 10.0%] 00:00:05 / 00:00:55 / 00:00:50 (avg. dt=0.012)\n",
        "[ 20.0%] 00:00:09 / 00:00:48 / 00:00:38 (avg. dt=0.013)\n",
        "[ 30.0%] 00:00:13 / 00:00:44 / 00:00:31 (avg. dt=0.013)\n",
        "[ 40.0%] 00:00:17 / 00:00:42 / 00:00:25 (avg. dt=0.013)\n",
        "[ 50.0%] 00:00:20 / 00:00:41 / 00:00:20 (avg. dt=0.012)\n",
        "[ 60.0%] 00:00:24 / 00:00:41 / 00:00:16 (avg. dt=0.012)\n",
        "[ 70.0%] 00:00:28 / 00:00:40 / 00:00:12 (avg. dt=0.012)\n",
        "[ 80.0%] 00:00:32 / 00:00:40 / 00:00:08 (avg. dt=0.012)\n",
        "[ 90.0%] 00:00:35 / 00:00:39 / 00:00:03 (avg. dt=0.012)\n",
        "Done.\n"
       ]
      },
      {
       "output_type": "stream",
       "stream": "stdout",
       "text": [
        " \n",
        "         d8888                   888      d8b  .d8888b.   \n",
        "        d88888                   888      Y8P d88P  Y88b  \n",
        "       d88P888                   888          Y88b.       \n",
        "      d88P 888  .d88b.   .d88b.  888      888  \"Y888b.    \n",
        "     d88P  888 d8P  Y8b d88\"\"88b 888      888     \"Y88b.  \n",
        "    d88P   888 88888888 888  888 888      888       \"888  \n",
        "   d8888888888 Y8b.     Y88..88P 888      888 Y88b  d88P  \n",
        "  d88P     888  \"Y8888   \"Y88P\"  88888888 888  \"Y8888P\"   \n",
        " \n",
        "Process ID #77442\n",
        " \n",
        "Writing input to /Users/hoonhout/GitHub/aeolis-models/dong2004/dong2004_u08_L01.0_bi0.2000.txt\n",
        " \n",
        "[ 10.0%] 00:00:03 / 00:00:37 / 00:00:33 (avg. dt=0.012)\n",
        "[ 20.0%] 00:00:07 / 00:00:37 / 00:00:30 (avg. dt=0.013)\n",
        "[ 30.0%] 00:00:11 / 00:00:37 / 00:00:26 (avg. dt=0.013)\n",
        "[ 40.0%] 00:00:15 / 00:00:37 / 00:00:22 (avg. dt=0.013)\n",
        "[ 50.0%] 00:00:18 / 00:00:37 / 00:00:18 (avg. dt=0.012)\n",
        "[ 60.0%] 00:00:22 / 00:00:37 / 00:00:14 (avg. dt=0.012)\n",
        "[ 70.0%] 00:00:26 / 00:00:37 / 00:00:11 (avg. dt=0.012)\n",
        "[ 80.0%] 00:00:29 / 00:00:37 / 00:00:07 (avg. dt=0.012)\n",
        "[ 90.0%] 00:00:33 / 00:00:37 / 00:00:03 (avg. dt=0.012)\n",
        "Done.\n"
       ]
      }
     ],
     "prompt_number": 526
    },
    {
     "cell_type": "code",
     "collapsed": false,
     "input": [
      "import glob\n",
      "\n",
      "root = '/Users/hoonhout/GitHub/aeolis-models/dong2004-py/'\n",
      "\n",
      "r2 = np.nan + np.zeros((len(arr_bi), len(arr_lt), len(arr_u), len(arr_L)))\n",
      "for i, bi in enumerate(arr_bi):\n",
      "    for j, lt in enumerate(arr_lt):\n",
      "        ref = None\n",
      "        for k, u in enumerate(arr_u[:1]):\n",
      "\n",
      "            data = np.nan + np.zeros((len(arr_L,)))\n",
      "            for l, L in enumerate(arr_L):\n",
      "                fname = os.path.join(root, (fmt+'.nc') % (u, L, bi, lt))\n",
      "                if not os.path.exists(fname):\n",
      "                    continue\n",
      "                print fname\n",
      "                with xray.open_dataset(fname) as ds:\n",
      "                    data[l] = float(ds.Ct[-1,0,-1,:].sum() * ds.uw[-1,0,-1])\n",
      "\n",
      "            if not ref:\n",
      "                ref = data[0]\n",
      "\n",
      "            f1 = meas[u][1,:] / meas[22][1,0]\n",
      "            f2 = np.asarray(data) / ref\n",
      "\n",
      "            ix = ~np.isnan(f2)\n",
      "            f2 = f2 - np.nanmean(f2) + np.mean(f1)\n",
      "\n",
      "            Stot = np.sum((f1 - np.mean(f1))**2)\n",
      "            Sres = np.sum((f1 - f2[ix])**2)\n",
      "            r2[i,j,k,l] = 1. - Sres/Stot"
     ],
     "language": "python",
     "metadata": {},
     "outputs": [
      {
       "output_type": "stream",
       "stream": "stdout",
       "text": [
        "/Users/hoonhout/GitHub/aeolis-models/dong2004-py/dong2004_u22_L00.5_bi0.0000_lt0.0010.nc\n",
        "/Users/hoonhout/GitHub/aeolis-models/dong2004-py/dong2004_u22_L01.0_bi0.0000_lt0.0010.nc"
       ]
      },
      {
       "output_type": "stream",
       "stream": "stdout",
       "text": [
        "\n",
        "/Users/hoonhout/GitHub/aeolis-models/dong2004-py/dong2004_u22_L02.0_bi0.0000_lt0.0010.nc"
       ]
      },
      {
       "output_type": "stream",
       "stream": "stdout",
       "text": [
        "\n",
        "/Users/hoonhout/GitHub/aeolis-models/dong2004-py/dong2004_u22_L04.0_bi0.0000_lt0.0010.nc"
       ]
      },
      {
       "output_type": "stream",
       "stream": "stdout",
       "text": [
        "\n",
        "/Users/hoonhout/GitHub/aeolis-models/dong2004-py/dong2004_u22_L06.0_bi0.0000_lt0.0010.nc"
       ]
      },
      {
       "output_type": "stream",
       "stream": "stdout",
       "text": [
        "\n",
        "/Users/hoonhout/GitHub/aeolis-models/dong2004-py/dong2004_u22_L08.0_bi0.0000_lt0.0010.nc"
       ]
      },
      {
       "output_type": "stream",
       "stream": "stdout",
       "text": [
        "\n",
        "/Users/hoonhout/GitHub/aeolis-models/dong2004-py/dong2004_u22_L10.0_bi0.0000_lt0.0010.nc"
       ]
      },
      {
       "output_type": "stream",
       "stream": "stdout",
       "text": [
        "\n",
        "/Users/hoonhout/GitHub/aeolis-models/dong2004-py/dong2004_u22_L12.0_bi0.0000_lt0.0010.nc"
       ]
      },
      {
       "output_type": "stream",
       "stream": "stdout",
       "text": [
        "\n",
        "/Users/hoonhout/GitHub/aeolis-models/dong2004-py/dong2004_u22_L00.5_bi0.0000_lt0.0025.nc"
       ]
      },
      {
       "output_type": "stream",
       "stream": "stdout",
       "text": [
        "\n",
        "/Users/hoonhout/GitHub/aeolis-models/dong2004-py/dong2004_u22_L01.0_bi0.0000_lt0.0025.nc"
       ]
      },
      {
       "output_type": "stream",
       "stream": "stdout",
       "text": [
        "\n",
        "/Users/hoonhout/GitHub/aeolis-models/dong2004-py/dong2004_u22_L02.0_bi0.0000_lt0.0025.nc"
       ]
      },
      {
       "output_type": "stream",
       "stream": "stdout",
       "text": [
        "\n",
        "/Users/hoonhout/GitHub/aeolis-models/dong2004-py/dong2004_u22_L04.0_bi0.0000_lt0.0025.nc"
       ]
      },
      {
       "output_type": "stream",
       "stream": "stdout",
       "text": [
        "\n",
        "/Users/hoonhout/GitHub/aeolis-models/dong2004-py/dong2004_u22_L06.0_bi0.0000_lt0.0025.nc"
       ]
      },
      {
       "output_type": "stream",
       "stream": "stdout",
       "text": [
        "\n",
        "/Users/hoonhout/GitHub/aeolis-models/dong2004-py/dong2004_u22_L08.0_bi0.0000_lt0.0025.nc"
       ]
      },
      {
       "output_type": "stream",
       "stream": "stdout",
       "text": [
        "\n",
        "/Users/hoonhout/GitHub/aeolis-models/dong2004-py/dong2004_u22_L10.0_bi0.0000_lt0.0025.nc"
       ]
      },
      {
       "output_type": "stream",
       "stream": "stdout",
       "text": [
        "\n",
        "/Users/hoonhout/GitHub/aeolis-models/dong2004-py/dong2004_u22_L12.0_bi0.0000_lt0.0025.nc"
       ]
      },
      {
       "output_type": "stream",
       "stream": "stdout",
       "text": [
        "\n",
        "/Users/hoonhout/GitHub/aeolis-models/dong2004-py/dong2004_u22_L00.5_bi0.0000_lt0.0050.nc"
       ]
      },
      {
       "output_type": "stream",
       "stream": "stdout",
       "text": [
        "\n",
        "/Users/hoonhout/GitHub/aeolis-models/dong2004-py/dong2004_u22_L01.0_bi0.0000_lt0.0050.nc"
       ]
      },
      {
       "output_type": "stream",
       "stream": "stdout",
       "text": [
        "\n",
        "/Users/hoonhout/GitHub/aeolis-models/dong2004-py/dong2004_u22_L02.0_bi0.0000_lt0.0050.nc"
       ]
      },
      {
       "output_type": "stream",
       "stream": "stdout",
       "text": [
        "\n",
        "/Users/hoonhout/GitHub/aeolis-models/dong2004-py/dong2004_u22_L04.0_bi0.0000_lt0.0050.nc"
       ]
      },
      {
       "output_type": "stream",
       "stream": "stdout",
       "text": [
        "\n",
        "/Users/hoonhout/GitHub/aeolis-models/dong2004-py/dong2004_u22_L06.0_bi0.0000_lt0.0050.nc"
       ]
      },
      {
       "output_type": "stream",
       "stream": "stdout",
       "text": [
        "\n",
        "/Users/hoonhout/GitHub/aeolis-models/dong2004-py/dong2004_u22_L08.0_bi0.0000_lt0.0050.nc"
       ]
      },
      {
       "output_type": "stream",
       "stream": "stdout",
       "text": [
        "\n",
        "/Users/hoonhout/GitHub/aeolis-models/dong2004-py/dong2004_u22_L10.0_bi0.0000_lt0.0050.nc"
       ]
      },
      {
       "output_type": "stream",
       "stream": "stdout",
       "text": [
        "\n",
        "/Users/hoonhout/GitHub/aeolis-models/dong2004-py/dong2004_u22_L12.0_bi0.0000_lt0.0050.nc"
       ]
      },
      {
       "output_type": "stream",
       "stream": "stdout",
       "text": [
        "\n",
        "/Users/hoonhout/GitHub/aeolis-models/dong2004-py/dong2004_u22_L00.5_bi0.0000_lt0.0100.nc"
       ]
      },
      {
       "output_type": "stream",
       "stream": "stdout",
       "text": [
        "\n",
        "/Users/hoonhout/GitHub/aeolis-models/dong2004-py/dong2004_u22_L01.0_bi0.0000_lt0.0100.nc"
       ]
      },
      {
       "output_type": "stream",
       "stream": "stdout",
       "text": [
        "\n",
        "/Users/hoonhout/GitHub/aeolis-models/dong2004-py/dong2004_u22_L02.0_bi0.0000_lt0.0100.nc"
       ]
      },
      {
       "output_type": "stream",
       "stream": "stdout",
       "text": [
        "\n",
        "/Users/hoonhout/GitHub/aeolis-models/dong2004-py/dong2004_u22_L04.0_bi0.0000_lt0.0100.nc"
       ]
      },
      {
       "output_type": "stream",
       "stream": "stdout",
       "text": [
        "\n",
        "/Users/hoonhout/GitHub/aeolis-models/dong2004-py/dong2004_u22_L06.0_bi0.0000_lt0.0100.nc"
       ]
      },
      {
       "output_type": "stream",
       "stream": "stdout",
       "text": [
        "\n",
        "/Users/hoonhout/GitHub/aeolis-models/dong2004-py/dong2004_u22_L08.0_bi0.0000_lt0.0100.nc"
       ]
      },
      {
       "output_type": "stream",
       "stream": "stdout",
       "text": [
        "\n",
        "/Users/hoonhout/GitHub/aeolis-models/dong2004-py/dong2004_u22_L10.0_bi0.0000_lt0.0100.nc"
       ]
      },
      {
       "output_type": "stream",
       "stream": "stdout",
       "text": [
        "\n",
        "/Users/hoonhout/GitHub/aeolis-models/dong2004-py/dong2004_u22_L12.0_bi0.0000_lt0.0100.nc"
       ]
      },
      {
       "output_type": "stream",
       "stream": "stdout",
       "text": [
        "\n",
        "/Users/hoonhout/GitHub/aeolis-models/dong2004-py/dong2004_u22_L00.5_bi0.0000_lt0.0200.nc"
       ]
      },
      {
       "output_type": "stream",
       "stream": "stdout",
       "text": [
        "\n",
        "/Users/hoonhout/GitHub/aeolis-models/dong2004-py/dong2004_u22_L01.0_bi0.0000_lt0.0200.nc"
       ]
      },
      {
       "output_type": "stream",
       "stream": "stdout",
       "text": [
        "\n",
        "/Users/hoonhout/GitHub/aeolis-models/dong2004-py/dong2004_u22_L02.0_bi0.0000_lt0.0200.nc"
       ]
      },
      {
       "output_type": "stream",
       "stream": "stdout",
       "text": [
        "\n",
        "/Users/hoonhout/GitHub/aeolis-models/dong2004-py/dong2004_u22_L04.0_bi0.0000_lt0.0200.nc"
       ]
      },
      {
       "output_type": "stream",
       "stream": "stdout",
       "text": [
        "\n",
        "/Users/hoonhout/GitHub/aeolis-models/dong2004-py/dong2004_u22_L06.0_bi0.0000_lt0.0200.nc"
       ]
      },
      {
       "output_type": "stream",
       "stream": "stdout",
       "text": [
        "\n",
        "/Users/hoonhout/GitHub/aeolis-models/dong2004-py/dong2004_u22_L08.0_bi0.0000_lt0.0200.nc"
       ]
      },
      {
       "output_type": "stream",
       "stream": "stdout",
       "text": [
        "\n",
        "/Users/hoonhout/GitHub/aeolis-models/dong2004-py/dong2004_u22_L10.0_bi0.0000_lt0.0200.nc"
       ]
      },
      {
       "output_type": "stream",
       "stream": "stdout",
       "text": [
        "\n",
        "/Users/hoonhout/GitHub/aeolis-models/dong2004-py/dong2004_u22_L12.0_bi0.0000_lt0.0200.nc"
       ]
      },
      {
       "output_type": "stream",
       "stream": "stdout",
       "text": [
        "\n",
        "/Users/hoonhout/GitHub/aeolis-models/dong2004-py/dong2004_u22_L00.5_bi0.0500_lt0.0010.nc"
       ]
      },
      {
       "output_type": "stream",
       "stream": "stdout",
       "text": [
        "\n",
        "/Users/hoonhout/GitHub/aeolis-models/dong2004-py/dong2004_u22_L01.0_bi0.0500_lt0.0010.nc"
       ]
      },
      {
       "output_type": "stream",
       "stream": "stdout",
       "text": [
        "\n",
        "/Users/hoonhout/GitHub/aeolis-models/dong2004-py/dong2004_u22_L02.0_bi0.0500_lt0.0010.nc"
       ]
      },
      {
       "output_type": "stream",
       "stream": "stdout",
       "text": [
        "\n",
        "/Users/hoonhout/GitHub/aeolis-models/dong2004-py/dong2004_u22_L04.0_bi0.0500_lt0.0010.nc"
       ]
      },
      {
       "output_type": "stream",
       "stream": "stdout",
       "text": [
        "\n",
        "/Users/hoonhout/GitHub/aeolis-models/dong2004-py/dong2004_u22_L06.0_bi0.0500_lt0.0010.nc"
       ]
      },
      {
       "output_type": "stream",
       "stream": "stdout",
       "text": [
        "\n",
        "/Users/hoonhout/GitHub/aeolis-models/dong2004-py/dong2004_u22_L08.0_bi0.0500_lt0.0010.nc"
       ]
      },
      {
       "output_type": "stream",
       "stream": "stdout",
       "text": [
        "\n",
        "/Users/hoonhout/GitHub/aeolis-models/dong2004-py/dong2004_u22_L10.0_bi0.0500_lt0.0010.nc"
       ]
      },
      {
       "output_type": "stream",
       "stream": "stdout",
       "text": [
        "\n",
        "/Users/hoonhout/GitHub/aeolis-models/dong2004-py/dong2004_u22_L12.0_bi0.0500_lt0.0010.nc"
       ]
      },
      {
       "output_type": "stream",
       "stream": "stdout",
       "text": [
        "\n",
        "/Users/hoonhout/GitHub/aeolis-models/dong2004-py/dong2004_u22_L00.5_bi0.0500_lt0.0025.nc"
       ]
      },
      {
       "output_type": "stream",
       "stream": "stdout",
       "text": [
        "\n",
        "/Users/hoonhout/GitHub/aeolis-models/dong2004-py/dong2004_u22_L01.0_bi0.0500_lt0.0025.nc"
       ]
      },
      {
       "output_type": "stream",
       "stream": "stdout",
       "text": [
        "\n",
        "/Users/hoonhout/GitHub/aeolis-models/dong2004-py/dong2004_u22_L02.0_bi0.0500_lt0.0025.nc"
       ]
      },
      {
       "output_type": "stream",
       "stream": "stdout",
       "text": [
        "\n",
        "/Users/hoonhout/GitHub/aeolis-models/dong2004-py/dong2004_u22_L04.0_bi0.0500_lt0.0025.nc"
       ]
      },
      {
       "output_type": "stream",
       "stream": "stdout",
       "text": [
        "\n",
        "/Users/hoonhout/GitHub/aeolis-models/dong2004-py/dong2004_u22_L06.0_bi0.0500_lt0.0025.nc"
       ]
      },
      {
       "output_type": "stream",
       "stream": "stdout",
       "text": [
        "\n",
        "/Users/hoonhout/GitHub/aeolis-models/dong2004-py/dong2004_u22_L08.0_bi0.0500_lt0.0025.nc"
       ]
      },
      {
       "output_type": "stream",
       "stream": "stdout",
       "text": [
        "\n",
        "/Users/hoonhout/GitHub/aeolis-models/dong2004-py/dong2004_u22_L10.0_bi0.0500_lt0.0025.nc"
       ]
      },
      {
       "output_type": "stream",
       "stream": "stdout",
       "text": [
        "\n",
        "/Users/hoonhout/GitHub/aeolis-models/dong2004-py/dong2004_u22_L12.0_bi0.0500_lt0.0025.nc"
       ]
      },
      {
       "output_type": "stream",
       "stream": "stdout",
       "text": [
        "\n",
        "/Users/hoonhout/GitHub/aeolis-models/dong2004-py/dong2004_u22_L00.5_bi0.0500_lt0.0050.nc"
       ]
      },
      {
       "output_type": "stream",
       "stream": "stdout",
       "text": [
        "\n",
        "/Users/hoonhout/GitHub/aeolis-models/dong2004-py/dong2004_u22_L01.0_bi0.0500_lt0.0050.nc"
       ]
      },
      {
       "output_type": "stream",
       "stream": "stdout",
       "text": [
        "\n",
        "/Users/hoonhout/GitHub/aeolis-models/dong2004-py/dong2004_u22_L02.0_bi0.0500_lt0.0050.nc"
       ]
      },
      {
       "output_type": "stream",
       "stream": "stdout",
       "text": [
        "\n",
        "/Users/hoonhout/GitHub/aeolis-models/dong2004-py/dong2004_u22_L04.0_bi0.0500_lt0.0050.nc"
       ]
      },
      {
       "output_type": "stream",
       "stream": "stdout",
       "text": [
        "\n",
        "/Users/hoonhout/GitHub/aeolis-models/dong2004-py/dong2004_u22_L06.0_bi0.0500_lt0.0050.nc"
       ]
      },
      {
       "output_type": "stream",
       "stream": "stdout",
       "text": [
        "\n",
        "/Users/hoonhout/GitHub/aeolis-models/dong2004-py/dong2004_u22_L08.0_bi0.0500_lt0.0050.nc"
       ]
      },
      {
       "output_type": "stream",
       "stream": "stdout",
       "text": [
        "\n",
        "/Users/hoonhout/GitHub/aeolis-models/dong2004-py/dong2004_u22_L10.0_bi0.0500_lt0.0050.nc"
       ]
      },
      {
       "output_type": "stream",
       "stream": "stdout",
       "text": [
        "\n",
        "/Users/hoonhout/GitHub/aeolis-models/dong2004-py/dong2004_u22_L12.0_bi0.0500_lt0.0050.nc"
       ]
      },
      {
       "output_type": "stream",
       "stream": "stdout",
       "text": [
        "\n",
        "/Users/hoonhout/GitHub/aeolis-models/dong2004-py/dong2004_u22_L00.5_bi0.0500_lt0.0100.nc"
       ]
      },
      {
       "output_type": "stream",
       "stream": "stdout",
       "text": [
        "\n",
        "/Users/hoonhout/GitHub/aeolis-models/dong2004-py/dong2004_u22_L01.0_bi0.0500_lt0.0100.nc"
       ]
      },
      {
       "output_type": "stream",
       "stream": "stdout",
       "text": [
        "\n",
        "/Users/hoonhout/GitHub/aeolis-models/dong2004-py/dong2004_u22_L02.0_bi0.0500_lt0.0100.nc"
       ]
      },
      {
       "output_type": "stream",
       "stream": "stdout",
       "text": [
        "\n",
        "/Users/hoonhout/GitHub/aeolis-models/dong2004-py/dong2004_u22_L04.0_bi0.0500_lt0.0100.nc"
       ]
      },
      {
       "output_type": "stream",
       "stream": "stdout",
       "text": [
        "\n",
        "/Users/hoonhout/GitHub/aeolis-models/dong2004-py/dong2004_u22_L06.0_bi0.0500_lt0.0100.nc"
       ]
      },
      {
       "output_type": "stream",
       "stream": "stdout",
       "text": [
        "\n",
        "/Users/hoonhout/GitHub/aeolis-models/dong2004-py/dong2004_u22_L08.0_bi0.0500_lt0.0100.nc"
       ]
      },
      {
       "output_type": "stream",
       "stream": "stdout",
       "text": [
        "\n",
        "/Users/hoonhout/GitHub/aeolis-models/dong2004-py/dong2004_u22_L10.0_bi0.0500_lt0.0100.nc"
       ]
      },
      {
       "output_type": "stream",
       "stream": "stdout",
       "text": [
        "\n",
        "/Users/hoonhout/GitHub/aeolis-models/dong2004-py/dong2004_u22_L12.0_bi0.0500_lt0.0100.nc"
       ]
      },
      {
       "output_type": "stream",
       "stream": "stdout",
       "text": [
        "\n",
        "/Users/hoonhout/GitHub/aeolis-models/dong2004-py/dong2004_u22_L00.5_bi0.0500_lt0.0200.nc"
       ]
      },
      {
       "output_type": "stream",
       "stream": "stdout",
       "text": [
        "\n",
        "/Users/hoonhout/GitHub/aeolis-models/dong2004-py/dong2004_u22_L01.0_bi0.0500_lt0.0200.nc"
       ]
      },
      {
       "output_type": "stream",
       "stream": "stdout",
       "text": [
        "\n",
        "/Users/hoonhout/GitHub/aeolis-models/dong2004-py/dong2004_u22_L02.0_bi0.0500_lt0.0200.nc"
       ]
      },
      {
       "output_type": "stream",
       "stream": "stdout",
       "text": [
        "\n",
        "/Users/hoonhout/GitHub/aeolis-models/dong2004-py/dong2004_u22_L04.0_bi0.0500_lt0.0200.nc"
       ]
      },
      {
       "output_type": "stream",
       "stream": "stdout",
       "text": [
        "\n",
        "/Users/hoonhout/GitHub/aeolis-models/dong2004-py/dong2004_u22_L06.0_bi0.0500_lt0.0200.nc"
       ]
      },
      {
       "output_type": "stream",
       "stream": "stdout",
       "text": [
        "\n",
        "/Users/hoonhout/GitHub/aeolis-models/dong2004-py/dong2004_u22_L08.0_bi0.0500_lt0.0200.nc"
       ]
      },
      {
       "output_type": "stream",
       "stream": "stdout",
       "text": [
        "\n",
        "/Users/hoonhout/GitHub/aeolis-models/dong2004-py/dong2004_u22_L10.0_bi0.0500_lt0.0200.nc"
       ]
      },
      {
       "output_type": "stream",
       "stream": "stdout",
       "text": [
        "\n",
        "/Users/hoonhout/GitHub/aeolis-models/dong2004-py/dong2004_u22_L12.0_bi0.0500_lt0.0200.nc"
       ]
      },
      {
       "output_type": "stream",
       "stream": "stdout",
       "text": [
        "\n",
        "/Users/hoonhout/GitHub/aeolis-models/dong2004-py/dong2004_u22_L00.5_bi0.1000_lt0.0010.nc"
       ]
      },
      {
       "output_type": "stream",
       "stream": "stdout",
       "text": [
        "\n",
        "/Users/hoonhout/GitHub/aeolis-models/dong2004-py/dong2004_u22_L01.0_bi0.1000_lt0.0010.nc"
       ]
      },
      {
       "output_type": "stream",
       "stream": "stdout",
       "text": [
        "\n",
        "/Users/hoonhout/GitHub/aeolis-models/dong2004-py/dong2004_u22_L02.0_bi0.1000_lt0.0010.nc"
       ]
      },
      {
       "output_type": "stream",
       "stream": "stdout",
       "text": [
        "\n",
        "/Users/hoonhout/GitHub/aeolis-models/dong2004-py/dong2004_u22_L04.0_bi0.1000_lt0.0010.nc"
       ]
      },
      {
       "output_type": "stream",
       "stream": "stdout",
       "text": [
        "\n",
        "/Users/hoonhout/GitHub/aeolis-models/dong2004-py/dong2004_u22_L06.0_bi0.1000_lt0.0010.nc"
       ]
      },
      {
       "output_type": "stream",
       "stream": "stdout",
       "text": [
        "\n",
        "/Users/hoonhout/GitHub/aeolis-models/dong2004-py/dong2004_u22_L08.0_bi0.1000_lt0.0010.nc"
       ]
      },
      {
       "output_type": "stream",
       "stream": "stdout",
       "text": [
        "\n",
        "/Users/hoonhout/GitHub/aeolis-models/dong2004-py/dong2004_u22_L10.0_bi0.1000_lt0.0010.nc"
       ]
      },
      {
       "output_type": "stream",
       "stream": "stdout",
       "text": [
        "\n",
        "/Users/hoonhout/GitHub/aeolis-models/dong2004-py/dong2004_u22_L12.0_bi0.1000_lt0.0010.nc"
       ]
      },
      {
       "output_type": "stream",
       "stream": "stdout",
       "text": [
        "\n",
        "/Users/hoonhout/GitHub/aeolis-models/dong2004-py/dong2004_u22_L00.5_bi0.1000_lt0.0025.nc"
       ]
      },
      {
       "output_type": "stream",
       "stream": "stdout",
       "text": [
        "\n",
        "/Users/hoonhout/GitHub/aeolis-models/dong2004-py/dong2004_u22_L01.0_bi0.1000_lt0.0025.nc"
       ]
      },
      {
       "output_type": "stream",
       "stream": "stdout",
       "text": [
        "\n",
        "/Users/hoonhout/GitHub/aeolis-models/dong2004-py/dong2004_u22_L02.0_bi0.1000_lt0.0025.nc"
       ]
      },
      {
       "output_type": "stream",
       "stream": "stdout",
       "text": [
        "\n",
        "/Users/hoonhout/GitHub/aeolis-models/dong2004-py/dong2004_u22_L04.0_bi0.1000_lt0.0025.nc"
       ]
      },
      {
       "output_type": "stream",
       "stream": "stdout",
       "text": [
        "\n",
        "/Users/hoonhout/GitHub/aeolis-models/dong2004-py/dong2004_u22_L06.0_bi0.1000_lt0.0025.nc"
       ]
      },
      {
       "output_type": "stream",
       "stream": "stdout",
       "text": [
        "\n",
        "/Users/hoonhout/GitHub/aeolis-models/dong2004-py/dong2004_u22_L08.0_bi0.1000_lt0.0025.nc"
       ]
      },
      {
       "output_type": "stream",
       "stream": "stdout",
       "text": [
        "\n",
        "/Users/hoonhout/GitHub/aeolis-models/dong2004-py/dong2004_u22_L10.0_bi0.1000_lt0.0025.nc"
       ]
      },
      {
       "output_type": "stream",
       "stream": "stdout",
       "text": [
        "\n",
        "/Users/hoonhout/GitHub/aeolis-models/dong2004-py/dong2004_u22_L12.0_bi0.1000_lt0.0025.nc"
       ]
      },
      {
       "output_type": "stream",
       "stream": "stdout",
       "text": [
        "\n",
        "/Users/hoonhout/GitHub/aeolis-models/dong2004-py/dong2004_u22_L00.5_bi0.1000_lt0.0050.nc"
       ]
      },
      {
       "output_type": "stream",
       "stream": "stdout",
       "text": [
        "\n",
        "/Users/hoonhout/GitHub/aeolis-models/dong2004-py/dong2004_u22_L01.0_bi0.1000_lt0.0050.nc"
       ]
      },
      {
       "output_type": "stream",
       "stream": "stdout",
       "text": [
        "\n",
        "/Users/hoonhout/GitHub/aeolis-models/dong2004-py/dong2004_u22_L02.0_bi0.1000_lt0.0050.nc"
       ]
      },
      {
       "output_type": "stream",
       "stream": "stdout",
       "text": [
        "\n",
        "/Users/hoonhout/GitHub/aeolis-models/dong2004-py/dong2004_u22_L04.0_bi0.1000_lt0.0050.nc"
       ]
      },
      {
       "output_type": "stream",
       "stream": "stdout",
       "text": [
        "\n",
        "/Users/hoonhout/GitHub/aeolis-models/dong2004-py/dong2004_u22_L06.0_bi0.1000_lt0.0050.nc"
       ]
      },
      {
       "output_type": "stream",
       "stream": "stdout",
       "text": [
        "\n",
        "/Users/hoonhout/GitHub/aeolis-models/dong2004-py/dong2004_u22_L08.0_bi0.1000_lt0.0050.nc"
       ]
      },
      {
       "output_type": "stream",
       "stream": "stdout",
       "text": [
        "\n",
        "/Users/hoonhout/GitHub/aeolis-models/dong2004-py/dong2004_u22_L10.0_bi0.1000_lt0.0050.nc"
       ]
      },
      {
       "output_type": "stream",
       "stream": "stdout",
       "text": [
        "\n",
        "/Users/hoonhout/GitHub/aeolis-models/dong2004-py/dong2004_u22_L12.0_bi0.1000_lt0.0050.nc"
       ]
      },
      {
       "output_type": "stream",
       "stream": "stdout",
       "text": [
        "\n",
        "/Users/hoonhout/GitHub/aeolis-models/dong2004-py/dong2004_u22_L00.5_bi0.1000_lt0.0100.nc"
       ]
      },
      {
       "output_type": "stream",
       "stream": "stdout",
       "text": [
        "\n",
        "/Users/hoonhout/GitHub/aeolis-models/dong2004-py/dong2004_u22_L01.0_bi0.1000_lt0.0100.nc"
       ]
      },
      {
       "output_type": "stream",
       "stream": "stdout",
       "text": [
        "\n",
        "/Users/hoonhout/GitHub/aeolis-models/dong2004-py/dong2004_u22_L02.0_bi0.1000_lt0.0100.nc"
       ]
      },
      {
       "output_type": "stream",
       "stream": "stdout",
       "text": [
        "\n",
        "/Users/hoonhout/GitHub/aeolis-models/dong2004-py/dong2004_u22_L04.0_bi0.1000_lt0.0100.nc"
       ]
      },
      {
       "output_type": "stream",
       "stream": "stdout",
       "text": [
        "\n",
        "/Users/hoonhout/GitHub/aeolis-models/dong2004-py/dong2004_u22_L06.0_bi0.1000_lt0.0100.nc"
       ]
      },
      {
       "output_type": "stream",
       "stream": "stdout",
       "text": [
        "\n",
        "/Users/hoonhout/GitHub/aeolis-models/dong2004-py/dong2004_u22_L08.0_bi0.1000_lt0.0100.nc"
       ]
      },
      {
       "output_type": "stream",
       "stream": "stdout",
       "text": [
        "\n",
        "/Users/hoonhout/GitHub/aeolis-models/dong2004-py/dong2004_u22_L10.0_bi0.1000_lt0.0100.nc"
       ]
      },
      {
       "output_type": "stream",
       "stream": "stdout",
       "text": [
        "\n",
        "/Users/hoonhout/GitHub/aeolis-models/dong2004-py/dong2004_u22_L12.0_bi0.1000_lt0.0100.nc"
       ]
      },
      {
       "output_type": "stream",
       "stream": "stdout",
       "text": [
        "\n",
        "/Users/hoonhout/GitHub/aeolis-models/dong2004-py/dong2004_u22_L00.5_bi0.1000_lt0.0200.nc"
       ]
      },
      {
       "output_type": "stream",
       "stream": "stdout",
       "text": [
        "\n",
        "/Users/hoonhout/GitHub/aeolis-models/dong2004-py/dong2004_u22_L01.0_bi0.1000_lt0.0200.nc"
       ]
      },
      {
       "output_type": "stream",
       "stream": "stdout",
       "text": [
        "\n",
        "/Users/hoonhout/GitHub/aeolis-models/dong2004-py/dong2004_u22_L02.0_bi0.1000_lt0.0200.nc"
       ]
      },
      {
       "output_type": "stream",
       "stream": "stdout",
       "text": [
        "\n",
        "/Users/hoonhout/GitHub/aeolis-models/dong2004-py/dong2004_u22_L04.0_bi0.1000_lt0.0200.nc"
       ]
      },
      {
       "output_type": "stream",
       "stream": "stdout",
       "text": [
        "\n",
        "/Users/hoonhout/GitHub/aeolis-models/dong2004-py/dong2004_u22_L06.0_bi0.1000_lt0.0200.nc"
       ]
      },
      {
       "output_type": "stream",
       "stream": "stdout",
       "text": [
        "\n",
        "/Users/hoonhout/GitHub/aeolis-models/dong2004-py/dong2004_u22_L08.0_bi0.1000_lt0.0200.nc"
       ]
      },
      {
       "output_type": "stream",
       "stream": "stdout",
       "text": [
        "\n",
        "/Users/hoonhout/GitHub/aeolis-models/dong2004-py/dong2004_u22_L10.0_bi0.1000_lt0.0200.nc"
       ]
      },
      {
       "output_type": "stream",
       "stream": "stdout",
       "text": [
        "\n",
        "/Users/hoonhout/GitHub/aeolis-models/dong2004-py/dong2004_u22_L12.0_bi0.1000_lt0.0200.nc"
       ]
      },
      {
       "output_type": "stream",
       "stream": "stdout",
       "text": [
        "\n",
        "/Users/hoonhout/GitHub/aeolis-models/dong2004-py/dong2004_u22_L00.5_bi0.2000_lt0.0010.nc"
       ]
      },
      {
       "output_type": "stream",
       "stream": "stdout",
       "text": [
        "\n",
        "/Users/hoonhout/GitHub/aeolis-models/dong2004-py/dong2004_u22_L01.0_bi0.2000_lt0.0010.nc"
       ]
      },
      {
       "output_type": "stream",
       "stream": "stdout",
       "text": [
        "\n",
        "/Users/hoonhout/GitHub/aeolis-models/dong2004-py/dong2004_u22_L02.0_bi0.2000_lt0.0010.nc"
       ]
      },
      {
       "output_type": "stream",
       "stream": "stdout",
       "text": [
        "\n",
        "/Users/hoonhout/GitHub/aeolis-models/dong2004-py/dong2004_u22_L04.0_bi0.2000_lt0.0010.nc"
       ]
      },
      {
       "output_type": "stream",
       "stream": "stdout",
       "text": [
        "\n",
        "/Users/hoonhout/GitHub/aeolis-models/dong2004-py/dong2004_u22_L06.0_bi0.2000_lt0.0010.nc"
       ]
      },
      {
       "output_type": "stream",
       "stream": "stdout",
       "text": [
        "\n",
        "/Users/hoonhout/GitHub/aeolis-models/dong2004-py/dong2004_u22_L08.0_bi0.2000_lt0.0010.nc"
       ]
      },
      {
       "output_type": "stream",
       "stream": "stdout",
       "text": [
        "\n",
        "/Users/hoonhout/GitHub/aeolis-models/dong2004-py/dong2004_u22_L10.0_bi0.2000_lt0.0010.nc"
       ]
      },
      {
       "output_type": "stream",
       "stream": "stdout",
       "text": [
        "\n",
        "/Users/hoonhout/GitHub/aeolis-models/dong2004-py/dong2004_u22_L12.0_bi0.2000_lt0.0010.nc"
       ]
      },
      {
       "output_type": "stream",
       "stream": "stdout",
       "text": [
        "\n",
        "/Users/hoonhout/GitHub/aeolis-models/dong2004-py/dong2004_u22_L00.5_bi0.2000_lt0.0025.nc"
       ]
      },
      {
       "output_type": "stream",
       "stream": "stdout",
       "text": [
        "\n",
        "/Users/hoonhout/GitHub/aeolis-models/dong2004-py/dong2004_u22_L01.0_bi0.2000_lt0.0025.nc"
       ]
      },
      {
       "output_type": "stream",
       "stream": "stdout",
       "text": [
        "\n",
        "/Users/hoonhout/GitHub/aeolis-models/dong2004-py/dong2004_u22_L02.0_bi0.2000_lt0.0025.nc"
       ]
      },
      {
       "output_type": "stream",
       "stream": "stdout",
       "text": [
        "\n",
        "/Users/hoonhout/GitHub/aeolis-models/dong2004-py/dong2004_u22_L04.0_bi0.2000_lt0.0025.nc"
       ]
      },
      {
       "output_type": "stream",
       "stream": "stdout",
       "text": [
        "\n",
        "/Users/hoonhout/GitHub/aeolis-models/dong2004-py/dong2004_u22_L06.0_bi0.2000_lt0.0025.nc"
       ]
      },
      {
       "output_type": "stream",
       "stream": "stdout",
       "text": [
        "\n",
        "/Users/hoonhout/GitHub/aeolis-models/dong2004-py/dong2004_u22_L08.0_bi0.2000_lt0.0025.nc"
       ]
      },
      {
       "output_type": "stream",
       "stream": "stdout",
       "text": [
        "\n",
        "/Users/hoonhout/GitHub/aeolis-models/dong2004-py/dong2004_u22_L10.0_bi0.2000_lt0.0025.nc"
       ]
      },
      {
       "output_type": "stream",
       "stream": "stdout",
       "text": [
        "\n",
        "/Users/hoonhout/GitHub/aeolis-models/dong2004-py/dong2004_u22_L12.0_bi0.2000_lt0.0025.nc"
       ]
      },
      {
       "output_type": "stream",
       "stream": "stdout",
       "text": [
        "\n",
        "/Users/hoonhout/GitHub/aeolis-models/dong2004-py/dong2004_u22_L00.5_bi0.2000_lt0.0050.nc"
       ]
      },
      {
       "output_type": "stream",
       "stream": "stdout",
       "text": [
        "\n",
        "/Users/hoonhout/GitHub/aeolis-models/dong2004-py/dong2004_u22_L01.0_bi0.2000_lt0.0050.nc"
       ]
      },
      {
       "output_type": "stream",
       "stream": "stdout",
       "text": [
        "\n",
        "/Users/hoonhout/GitHub/aeolis-models/dong2004-py/dong2004_u22_L02.0_bi0.2000_lt0.0050.nc"
       ]
      },
      {
       "output_type": "stream",
       "stream": "stdout",
       "text": [
        "\n",
        "/Users/hoonhout/GitHub/aeolis-models/dong2004-py/dong2004_u22_L04.0_bi0.2000_lt0.0050.nc"
       ]
      },
      {
       "output_type": "stream",
       "stream": "stdout",
       "text": [
        "\n",
        "/Users/hoonhout/GitHub/aeolis-models/dong2004-py/dong2004_u22_L06.0_bi0.2000_lt0.0050.nc"
       ]
      },
      {
       "output_type": "stream",
       "stream": "stdout",
       "text": [
        "\n",
        "/Users/hoonhout/GitHub/aeolis-models/dong2004-py/dong2004_u22_L08.0_bi0.2000_lt0.0050.nc"
       ]
      },
      {
       "output_type": "stream",
       "stream": "stdout",
       "text": [
        "\n",
        "/Users/hoonhout/GitHub/aeolis-models/dong2004-py/dong2004_u22_L10.0_bi0.2000_lt0.0050.nc"
       ]
      },
      {
       "output_type": "stream",
       "stream": "stdout",
       "text": [
        "\n",
        "/Users/hoonhout/GitHub/aeolis-models/dong2004-py/dong2004_u22_L12.0_bi0.2000_lt0.0050.nc"
       ]
      },
      {
       "output_type": "stream",
       "stream": "stdout",
       "text": [
        "\n",
        "/Users/hoonhout/GitHub/aeolis-models/dong2004-py/dong2004_u22_L00.5_bi0.2000_lt0.0100.nc"
       ]
      },
      {
       "output_type": "stream",
       "stream": "stdout",
       "text": [
        "\n",
        "/Users/hoonhout/GitHub/aeolis-models/dong2004-py/dong2004_u22_L01.0_bi0.2000_lt0.0100.nc"
       ]
      },
      {
       "output_type": "stream",
       "stream": "stdout",
       "text": [
        "\n",
        "/Users/hoonhout/GitHub/aeolis-models/dong2004-py/dong2004_u22_L02.0_bi0.2000_lt0.0100.nc"
       ]
      },
      {
       "output_type": "stream",
       "stream": "stdout",
       "text": [
        "\n",
        "/Users/hoonhout/GitHub/aeolis-models/dong2004-py/dong2004_u22_L04.0_bi0.2000_lt0.0100.nc"
       ]
      },
      {
       "output_type": "stream",
       "stream": "stdout",
       "text": [
        "\n",
        "/Users/hoonhout/GitHub/aeolis-models/dong2004-py/dong2004_u22_L06.0_bi0.2000_lt0.0100.nc"
       ]
      },
      {
       "output_type": "stream",
       "stream": "stdout",
       "text": [
        "\n",
        "/Users/hoonhout/GitHub/aeolis-models/dong2004-py/dong2004_u22_L08.0_bi0.2000_lt0.0100.nc"
       ]
      },
      {
       "output_type": "stream",
       "stream": "stdout",
       "text": [
        "\n",
        "/Users/hoonhout/GitHub/aeolis-models/dong2004-py/dong2004_u22_L10.0_bi0.2000_lt0.0100.nc"
       ]
      },
      {
       "output_type": "stream",
       "stream": "stdout",
       "text": [
        "\n",
        "/Users/hoonhout/GitHub/aeolis-models/dong2004-py/dong2004_u22_L12.0_bi0.2000_lt0.0100.nc"
       ]
      },
      {
       "output_type": "stream",
       "stream": "stdout",
       "text": [
        "\n",
        "/Users/hoonhout/GitHub/aeolis-models/dong2004-py/dong2004_u22_L00.5_bi0.2000_lt0.0200.nc"
       ]
      },
      {
       "output_type": "stream",
       "stream": "stdout",
       "text": [
        "\n",
        "/Users/hoonhout/GitHub/aeolis-models/dong2004-py/dong2004_u22_L01.0_bi0.2000_lt0.0200.nc"
       ]
      },
      {
       "output_type": "stream",
       "stream": "stdout",
       "text": [
        "\n",
        "/Users/hoonhout/GitHub/aeolis-models/dong2004-py/dong2004_u22_L02.0_bi0.2000_lt0.0200.nc"
       ]
      },
      {
       "output_type": "stream",
       "stream": "stdout",
       "text": [
        "\n",
        "/Users/hoonhout/GitHub/aeolis-models/dong2004-py/dong2004_u22_L04.0_bi0.2000_lt0.0200.nc"
       ]
      },
      {
       "output_type": "stream",
       "stream": "stdout",
       "text": [
        "\n",
        "/Users/hoonhout/GitHub/aeolis-models/dong2004-py/dong2004_u22_L06.0_bi0.2000_lt0.0200.nc"
       ]
      },
      {
       "output_type": "stream",
       "stream": "stdout",
       "text": [
        "\n",
        "/Users/hoonhout/GitHub/aeolis-models/dong2004-py/dong2004_u22_L08.0_bi0.2000_lt0.0200.nc"
       ]
      },
      {
       "output_type": "stream",
       "stream": "stdout",
       "text": [
        "\n",
        "/Users/hoonhout/GitHub/aeolis-models/dong2004-py/dong2004_u22_L10.0_bi0.2000_lt0.0200.nc"
       ]
      },
      {
       "output_type": "stream",
       "stream": "stdout",
       "text": [
        "\n",
        "/Users/hoonhout/GitHub/aeolis-models/dong2004-py/dong2004_u22_L12.0_bi0.2000_lt0.0200.nc"
       ]
      },
      {
       "output_type": "stream",
       "stream": "stdout",
       "text": [
        "\n",
        "/Users/hoonhout/GitHub/aeolis-models/dong2004-py/dong2004_u22_L00.5_bi0.3000_lt0.0010.nc"
       ]
      },
      {
       "output_type": "stream",
       "stream": "stdout",
       "text": [
        "\n",
        "/Users/hoonhout/GitHub/aeolis-models/dong2004-py/dong2004_u22_L01.0_bi0.3000_lt0.0010.nc"
       ]
      },
      {
       "output_type": "stream",
       "stream": "stdout",
       "text": [
        "\n",
        "/Users/hoonhout/GitHub/aeolis-models/dong2004-py/dong2004_u22_L02.0_bi0.3000_lt0.0010.nc"
       ]
      },
      {
       "output_type": "stream",
       "stream": "stdout",
       "text": [
        "\n",
        "/Users/hoonhout/GitHub/aeolis-models/dong2004-py/dong2004_u22_L04.0_bi0.3000_lt0.0010.nc"
       ]
      },
      {
       "output_type": "stream",
       "stream": "stdout",
       "text": [
        "\n",
        "/Users/hoonhout/GitHub/aeolis-models/dong2004-py/dong2004_u22_L06.0_bi0.3000_lt0.0010.nc"
       ]
      },
      {
       "output_type": "stream",
       "stream": "stdout",
       "text": [
        "\n",
        "/Users/hoonhout/GitHub/aeolis-models/dong2004-py/dong2004_u22_L08.0_bi0.3000_lt0.0010.nc"
       ]
      },
      {
       "output_type": "stream",
       "stream": "stdout",
       "text": [
        "\n",
        "/Users/hoonhout/GitHub/aeolis-models/dong2004-py/dong2004_u22_L10.0_bi0.3000_lt0.0010.nc"
       ]
      },
      {
       "output_type": "stream",
       "stream": "stdout",
       "text": [
        "\n",
        "/Users/hoonhout/GitHub/aeolis-models/dong2004-py/dong2004_u22_L12.0_bi0.3000_lt0.0010.nc"
       ]
      },
      {
       "output_type": "stream",
       "stream": "stdout",
       "text": [
        "\n",
        "/Users/hoonhout/GitHub/aeolis-models/dong2004-py/dong2004_u22_L00.5_bi0.3000_lt0.0025.nc"
       ]
      },
      {
       "output_type": "stream",
       "stream": "stdout",
       "text": [
        "\n",
        "/Users/hoonhout/GitHub/aeolis-models/dong2004-py/dong2004_u22_L01.0_bi0.3000_lt0.0025.nc"
       ]
      },
      {
       "output_type": "stream",
       "stream": "stdout",
       "text": [
        "\n",
        "/Users/hoonhout/GitHub/aeolis-models/dong2004-py/dong2004_u22_L02.0_bi0.3000_lt0.0025.nc"
       ]
      },
      {
       "output_type": "stream",
       "stream": "stdout",
       "text": [
        "\n",
        "/Users/hoonhout/GitHub/aeolis-models/dong2004-py/dong2004_u22_L04.0_bi0.3000_lt0.0025.nc"
       ]
      },
      {
       "output_type": "stream",
       "stream": "stdout",
       "text": [
        "\n",
        "/Users/hoonhout/GitHub/aeolis-models/dong2004-py/dong2004_u22_L06.0_bi0.3000_lt0.0025.nc"
       ]
      },
      {
       "output_type": "stream",
       "stream": "stdout",
       "text": [
        "\n",
        "/Users/hoonhout/GitHub/aeolis-models/dong2004-py/dong2004_u22_L08.0_bi0.3000_lt0.0025.nc"
       ]
      },
      {
       "output_type": "stream",
       "stream": "stdout",
       "text": [
        "\n",
        "/Users/hoonhout/GitHub/aeolis-models/dong2004-py/dong2004_u22_L10.0_bi0.3000_lt0.0025.nc"
       ]
      },
      {
       "output_type": "stream",
       "stream": "stdout",
       "text": [
        "\n",
        "/Users/hoonhout/GitHub/aeolis-models/dong2004-py/dong2004_u22_L12.0_bi0.3000_lt0.0025.nc"
       ]
      },
      {
       "output_type": "stream",
       "stream": "stdout",
       "text": [
        "\n",
        "/Users/hoonhout/GitHub/aeolis-models/dong2004-py/dong2004_u22_L00.5_bi0.3000_lt0.0050.nc"
       ]
      },
      {
       "output_type": "stream",
       "stream": "stdout",
       "text": [
        "\n",
        "/Users/hoonhout/GitHub/aeolis-models/dong2004-py/dong2004_u22_L01.0_bi0.3000_lt0.0050.nc"
       ]
      },
      {
       "output_type": "stream",
       "stream": "stdout",
       "text": [
        "\n",
        "/Users/hoonhout/GitHub/aeolis-models/dong2004-py/dong2004_u22_L02.0_bi0.3000_lt0.0050.nc"
       ]
      },
      {
       "output_type": "stream",
       "stream": "stdout",
       "text": [
        "\n",
        "/Users/hoonhout/GitHub/aeolis-models/dong2004-py/dong2004_u22_L04.0_bi0.3000_lt0.0050.nc"
       ]
      },
      {
       "output_type": "stream",
       "stream": "stdout",
       "text": [
        "\n",
        "/Users/hoonhout/GitHub/aeolis-models/dong2004-py/dong2004_u22_L06.0_bi0.3000_lt0.0050.nc"
       ]
      },
      {
       "output_type": "stream",
       "stream": "stdout",
       "text": [
        "\n",
        "/Users/hoonhout/GitHub/aeolis-models/dong2004-py/dong2004_u22_L08.0_bi0.3000_lt0.0050.nc"
       ]
      },
      {
       "output_type": "stream",
       "stream": "stdout",
       "text": [
        "\n",
        "/Users/hoonhout/GitHub/aeolis-models/dong2004-py/dong2004_u22_L10.0_bi0.3000_lt0.0050.nc"
       ]
      },
      {
       "output_type": "stream",
       "stream": "stdout",
       "text": [
        "\n",
        "/Users/hoonhout/GitHub/aeolis-models/dong2004-py/dong2004_u22_L12.0_bi0.3000_lt0.0050.nc"
       ]
      },
      {
       "output_type": "stream",
       "stream": "stdout",
       "text": [
        "\n",
        "/Users/hoonhout/GitHub/aeolis-models/dong2004-py/dong2004_u22_L00.5_bi0.3000_lt0.0100.nc"
       ]
      },
      {
       "output_type": "stream",
       "stream": "stdout",
       "text": [
        "\n",
        "/Users/hoonhout/GitHub/aeolis-models/dong2004-py/dong2004_u22_L01.0_bi0.3000_lt0.0100.nc"
       ]
      },
      {
       "output_type": "stream",
       "stream": "stdout",
       "text": [
        "\n",
        "/Users/hoonhout/GitHub/aeolis-models/dong2004-py/dong2004_u22_L02.0_bi0.3000_lt0.0100.nc"
       ]
      },
      {
       "output_type": "stream",
       "stream": "stdout",
       "text": [
        "\n",
        "/Users/hoonhout/GitHub/aeolis-models/dong2004-py/dong2004_u22_L04.0_bi0.3000_lt0.0100.nc"
       ]
      },
      {
       "output_type": "stream",
       "stream": "stdout",
       "text": [
        "\n",
        "/Users/hoonhout/GitHub/aeolis-models/dong2004-py/dong2004_u22_L06.0_bi0.3000_lt0.0100.nc"
       ]
      },
      {
       "output_type": "stream",
       "stream": "stdout",
       "text": [
        "\n",
        "/Users/hoonhout/GitHub/aeolis-models/dong2004-py/dong2004_u22_L08.0_bi0.3000_lt0.0100.nc"
       ]
      },
      {
       "output_type": "stream",
       "stream": "stdout",
       "text": [
        "\n",
        "/Users/hoonhout/GitHub/aeolis-models/dong2004-py/dong2004_u22_L10.0_bi0.3000_lt0.0100.nc"
       ]
      },
      {
       "output_type": "stream",
       "stream": "stdout",
       "text": [
        "\n",
        "/Users/hoonhout/GitHub/aeolis-models/dong2004-py/dong2004_u22_L12.0_bi0.3000_lt0.0100.nc"
       ]
      },
      {
       "output_type": "stream",
       "stream": "stdout",
       "text": [
        "\n",
        "/Users/hoonhout/GitHub/aeolis-models/dong2004-py/dong2004_u22_L00.5_bi0.3000_lt0.0200.nc"
       ]
      },
      {
       "output_type": "stream",
       "stream": "stdout",
       "text": [
        "\n",
        "/Users/hoonhout/GitHub/aeolis-models/dong2004-py/dong2004_u22_L01.0_bi0.3000_lt0.0200.nc"
       ]
      },
      {
       "output_type": "stream",
       "stream": "stdout",
       "text": [
        "\n",
        "/Users/hoonhout/GitHub/aeolis-models/dong2004-py/dong2004_u22_L02.0_bi0.3000_lt0.0200.nc"
       ]
      },
      {
       "output_type": "stream",
       "stream": "stdout",
       "text": [
        "\n",
        "/Users/hoonhout/GitHub/aeolis-models/dong2004-py/dong2004_u22_L04.0_bi0.3000_lt0.0200.nc"
       ]
      },
      {
       "output_type": "stream",
       "stream": "stdout",
       "text": [
        "\n",
        "/Users/hoonhout/GitHub/aeolis-models/dong2004-py/dong2004_u22_L06.0_bi0.3000_lt0.0200.nc"
       ]
      },
      {
       "output_type": "stream",
       "stream": "stdout",
       "text": [
        "\n",
        "/Users/hoonhout/GitHub/aeolis-models/dong2004-py/dong2004_u22_L08.0_bi0.3000_lt0.0200.nc"
       ]
      },
      {
       "output_type": "stream",
       "stream": "stdout",
       "text": [
        "\n",
        "/Users/hoonhout/GitHub/aeolis-models/dong2004-py/dong2004_u22_L10.0_bi0.3000_lt0.0200.nc"
       ]
      },
      {
       "output_type": "stream",
       "stream": "stdout",
       "text": [
        "\n",
        "/Users/hoonhout/GitHub/aeolis-models/dong2004-py/dong2004_u22_L12.0_bi0.3000_lt0.0200.nc"
       ]
      },
      {
       "output_type": "stream",
       "stream": "stdout",
       "text": [
        "\n",
        "/Users/hoonhout/GitHub/aeolis-models/dong2004-py/dong2004_u22_L00.5_bi0.4000_lt0.0010.nc"
       ]
      },
      {
       "output_type": "stream",
       "stream": "stdout",
       "text": [
        "\n",
        "/Users/hoonhout/GitHub/aeolis-models/dong2004-py/dong2004_u22_L01.0_bi0.4000_lt0.0010.nc"
       ]
      },
      {
       "output_type": "stream",
       "stream": "stdout",
       "text": [
        "\n",
        "/Users/hoonhout/GitHub/aeolis-models/dong2004-py/dong2004_u22_L02.0_bi0.4000_lt0.0010.nc"
       ]
      },
      {
       "output_type": "stream",
       "stream": "stdout",
       "text": [
        "\n",
        "/Users/hoonhout/GitHub/aeolis-models/dong2004-py/dong2004_u22_L04.0_bi0.4000_lt0.0010.nc"
       ]
      },
      {
       "output_type": "stream",
       "stream": "stdout",
       "text": [
        "\n",
        "/Users/hoonhout/GitHub/aeolis-models/dong2004-py/dong2004_u22_L06.0_bi0.4000_lt0.0010.nc"
       ]
      },
      {
       "output_type": "stream",
       "stream": "stdout",
       "text": [
        "\n",
        "/Users/hoonhout/GitHub/aeolis-models/dong2004-py/dong2004_u22_L08.0_bi0.4000_lt0.0010.nc"
       ]
      },
      {
       "output_type": "stream",
       "stream": "stdout",
       "text": [
        "\n",
        "/Users/hoonhout/GitHub/aeolis-models/dong2004-py/dong2004_u22_L10.0_bi0.4000_lt0.0010.nc"
       ]
      },
      {
       "output_type": "stream",
       "stream": "stdout",
       "text": [
        "\n",
        "/Users/hoonhout/GitHub/aeolis-models/dong2004-py/dong2004_u22_L12.0_bi0.4000_lt0.0010.nc"
       ]
      },
      {
       "output_type": "stream",
       "stream": "stdout",
       "text": [
        "\n",
        "/Users/hoonhout/GitHub/aeolis-models/dong2004-py/dong2004_u22_L00.5_bi0.4000_lt0.0025.nc"
       ]
      },
      {
       "output_type": "stream",
       "stream": "stdout",
       "text": [
        "\n",
        "/Users/hoonhout/GitHub/aeolis-models/dong2004-py/dong2004_u22_L01.0_bi0.4000_lt0.0025.nc"
       ]
      },
      {
       "output_type": "stream",
       "stream": "stdout",
       "text": [
        "\n",
        "/Users/hoonhout/GitHub/aeolis-models/dong2004-py/dong2004_u22_L02.0_bi0.4000_lt0.0025.nc"
       ]
      },
      {
       "output_type": "stream",
       "stream": "stdout",
       "text": [
        "\n",
        "/Users/hoonhout/GitHub/aeolis-models/dong2004-py/dong2004_u22_L04.0_bi0.4000_lt0.0025.nc"
       ]
      },
      {
       "output_type": "stream",
       "stream": "stdout",
       "text": [
        "\n",
        "/Users/hoonhout/GitHub/aeolis-models/dong2004-py/dong2004_u22_L06.0_bi0.4000_lt0.0025.nc"
       ]
      },
      {
       "output_type": "stream",
       "stream": "stdout",
       "text": [
        "\n",
        "/Users/hoonhout/GitHub/aeolis-models/dong2004-py/dong2004_u22_L08.0_bi0.4000_lt0.0025.nc"
       ]
      },
      {
       "output_type": "stream",
       "stream": "stdout",
       "text": [
        "\n",
        "/Users/hoonhout/GitHub/aeolis-models/dong2004-py/dong2004_u22_L10.0_bi0.4000_lt0.0025.nc"
       ]
      },
      {
       "output_type": "stream",
       "stream": "stdout",
       "text": [
        "\n",
        "/Users/hoonhout/GitHub/aeolis-models/dong2004-py/dong2004_u22_L12.0_bi0.4000_lt0.0025.nc"
       ]
      },
      {
       "output_type": "stream",
       "stream": "stdout",
       "text": [
        "\n",
        "/Users/hoonhout/GitHub/aeolis-models/dong2004-py/dong2004_u22_L00.5_bi0.4000_lt0.0050.nc"
       ]
      },
      {
       "output_type": "stream",
       "stream": "stdout",
       "text": [
        "\n",
        "/Users/hoonhout/GitHub/aeolis-models/dong2004-py/dong2004_u22_L01.0_bi0.4000_lt0.0050.nc"
       ]
      },
      {
       "output_type": "stream",
       "stream": "stdout",
       "text": [
        "\n",
        "/Users/hoonhout/GitHub/aeolis-models/dong2004-py/dong2004_u22_L02.0_bi0.4000_lt0.0050.nc"
       ]
      },
      {
       "output_type": "stream",
       "stream": "stdout",
       "text": [
        "\n",
        "/Users/hoonhout/GitHub/aeolis-models/dong2004-py/dong2004_u22_L04.0_bi0.4000_lt0.0050.nc"
       ]
      },
      {
       "output_type": "stream",
       "stream": "stdout",
       "text": [
        "\n",
        "/Users/hoonhout/GitHub/aeolis-models/dong2004-py/dong2004_u22_L06.0_bi0.4000_lt0.0050.nc"
       ]
      },
      {
       "output_type": "stream",
       "stream": "stdout",
       "text": [
        "\n",
        "/Users/hoonhout/GitHub/aeolis-models/dong2004-py/dong2004_u22_L08.0_bi0.4000_lt0.0050.nc"
       ]
      },
      {
       "output_type": "stream",
       "stream": "stdout",
       "text": [
        "\n",
        "/Users/hoonhout/GitHub/aeolis-models/dong2004-py/dong2004_u22_L10.0_bi0.4000_lt0.0050.nc"
       ]
      },
      {
       "output_type": "stream",
       "stream": "stdout",
       "text": [
        "\n",
        "/Users/hoonhout/GitHub/aeolis-models/dong2004-py/dong2004_u22_L12.0_bi0.4000_lt0.0050.nc"
       ]
      },
      {
       "output_type": "stream",
       "stream": "stdout",
       "text": [
        "\n",
        "/Users/hoonhout/GitHub/aeolis-models/dong2004-py/dong2004_u22_L00.5_bi0.4000_lt0.0100.nc"
       ]
      },
      {
       "output_type": "stream",
       "stream": "stdout",
       "text": [
        "\n",
        "/Users/hoonhout/GitHub/aeolis-models/dong2004-py/dong2004_u22_L01.0_bi0.4000_lt0.0100.nc"
       ]
      },
      {
       "output_type": "stream",
       "stream": "stdout",
       "text": [
        "\n",
        "/Users/hoonhout/GitHub/aeolis-models/dong2004-py/dong2004_u22_L02.0_bi0.4000_lt0.0100.nc"
       ]
      },
      {
       "output_type": "stream",
       "stream": "stdout",
       "text": [
        "\n",
        "/Users/hoonhout/GitHub/aeolis-models/dong2004-py/dong2004_u22_L04.0_bi0.4000_lt0.0100.nc"
       ]
      },
      {
       "output_type": "stream",
       "stream": "stdout",
       "text": [
        "\n",
        "/Users/hoonhout/GitHub/aeolis-models/dong2004-py/dong2004_u22_L06.0_bi0.4000_lt0.0100.nc"
       ]
      },
      {
       "output_type": "stream",
       "stream": "stdout",
       "text": [
        "\n",
        "/Users/hoonhout/GitHub/aeolis-models/dong2004-py/dong2004_u22_L08.0_bi0.4000_lt0.0100.nc"
       ]
      },
      {
       "output_type": "stream",
       "stream": "stdout",
       "text": [
        "\n",
        "/Users/hoonhout/GitHub/aeolis-models/dong2004-py/dong2004_u22_L10.0_bi0.4000_lt0.0100.nc"
       ]
      },
      {
       "output_type": "stream",
       "stream": "stdout",
       "text": [
        "\n",
        "/Users/hoonhout/GitHub/aeolis-models/dong2004-py/dong2004_u22_L12.0_bi0.4000_lt0.0100.nc"
       ]
      },
      {
       "output_type": "stream",
       "stream": "stdout",
       "text": [
        "\n",
        "/Users/hoonhout/GitHub/aeolis-models/dong2004-py/dong2004_u22_L00.5_bi0.4000_lt0.0200.nc"
       ]
      },
      {
       "output_type": "stream",
       "stream": "stdout",
       "text": [
        "\n",
        "/Users/hoonhout/GitHub/aeolis-models/dong2004-py/dong2004_u22_L01.0_bi0.4000_lt0.0200.nc"
       ]
      },
      {
       "output_type": "stream",
       "stream": "stdout",
       "text": [
        "\n",
        "/Users/hoonhout/GitHub/aeolis-models/dong2004-py/dong2004_u22_L02.0_bi0.4000_lt0.0200.nc"
       ]
      },
      {
       "output_type": "stream",
       "stream": "stdout",
       "text": [
        "\n",
        "/Users/hoonhout/GitHub/aeolis-models/dong2004-py/dong2004_u22_L04.0_bi0.4000_lt0.0200.nc"
       ]
      },
      {
       "output_type": "stream",
       "stream": "stdout",
       "text": [
        "\n",
        "/Users/hoonhout/GitHub/aeolis-models/dong2004-py/dong2004_u22_L06.0_bi0.4000_lt0.0200.nc"
       ]
      },
      {
       "output_type": "stream",
       "stream": "stdout",
       "text": [
        "\n",
        "/Users/hoonhout/GitHub/aeolis-models/dong2004-py/dong2004_u22_L08.0_bi0.4000_lt0.0200.nc"
       ]
      },
      {
       "output_type": "stream",
       "stream": "stdout",
       "text": [
        "\n",
        "/Users/hoonhout/GitHub/aeolis-models/dong2004-py/dong2004_u22_L10.0_bi0.4000_lt0.0200.nc"
       ]
      },
      {
       "output_type": "stream",
       "stream": "stdout",
       "text": [
        "\n",
        "/Users/hoonhout/GitHub/aeolis-models/dong2004-py/dong2004_u22_L12.0_bi0.4000_lt0.0200.nc"
       ]
      },
      {
       "output_type": "stream",
       "stream": "stdout",
       "text": [
        "\n",
        "/Users/hoonhout/GitHub/aeolis-models/dong2004-py/dong2004_u22_L00.5_bi0.6000_lt0.0010.nc"
       ]
      },
      {
       "output_type": "stream",
       "stream": "stdout",
       "text": [
        "\n",
        "/Users/hoonhout/GitHub/aeolis-models/dong2004-py/dong2004_u22_L01.0_bi0.6000_lt0.0010.nc"
       ]
      },
      {
       "output_type": "stream",
       "stream": "stdout",
       "text": [
        "\n",
        "/Users/hoonhout/GitHub/aeolis-models/dong2004-py/dong2004_u22_L02.0_bi0.6000_lt0.0010.nc"
       ]
      },
      {
       "output_type": "stream",
       "stream": "stdout",
       "text": [
        "\n",
        "/Users/hoonhout/GitHub/aeolis-models/dong2004-py/dong2004_u22_L04.0_bi0.6000_lt0.0010.nc"
       ]
      },
      {
       "output_type": "stream",
       "stream": "stdout",
       "text": [
        "\n",
        "/Users/hoonhout/GitHub/aeolis-models/dong2004-py/dong2004_u22_L06.0_bi0.6000_lt0.0010.nc"
       ]
      },
      {
       "output_type": "stream",
       "stream": "stdout",
       "text": [
        "\n",
        "/Users/hoonhout/GitHub/aeolis-models/dong2004-py/dong2004_u22_L08.0_bi0.6000_lt0.0010.nc"
       ]
      },
      {
       "output_type": "stream",
       "stream": "stdout",
       "text": [
        "\n",
        "/Users/hoonhout/GitHub/aeolis-models/dong2004-py/dong2004_u22_L10.0_bi0.6000_lt0.0010.nc"
       ]
      },
      {
       "output_type": "stream",
       "stream": "stdout",
       "text": [
        "\n",
        "/Users/hoonhout/GitHub/aeolis-models/dong2004-py/dong2004_u22_L12.0_bi0.6000_lt0.0010.nc"
       ]
      },
      {
       "output_type": "stream",
       "stream": "stdout",
       "text": [
        "\n",
        "/Users/hoonhout/GitHub/aeolis-models/dong2004-py/dong2004_u22_L00.5_bi0.6000_lt0.0025.nc"
       ]
      },
      {
       "output_type": "stream",
       "stream": "stdout",
       "text": [
        "\n",
        "/Users/hoonhout/GitHub/aeolis-models/dong2004-py/dong2004_u22_L01.0_bi0.6000_lt0.0025.nc"
       ]
      },
      {
       "output_type": "stream",
       "stream": "stdout",
       "text": [
        "\n",
        "/Users/hoonhout/GitHub/aeolis-models/dong2004-py/dong2004_u22_L02.0_bi0.6000_lt0.0025.nc"
       ]
      },
      {
       "output_type": "stream",
       "stream": "stdout",
       "text": [
        "\n",
        "/Users/hoonhout/GitHub/aeolis-models/dong2004-py/dong2004_u22_L04.0_bi0.6000_lt0.0025.nc"
       ]
      },
      {
       "output_type": "stream",
       "stream": "stdout",
       "text": [
        "\n",
        "/Users/hoonhout/GitHub/aeolis-models/dong2004-py/dong2004_u22_L06.0_bi0.6000_lt0.0025.nc"
       ]
      },
      {
       "output_type": "stream",
       "stream": "stdout",
       "text": [
        "\n",
        "/Users/hoonhout/GitHub/aeolis-models/dong2004-py/dong2004_u22_L08.0_bi0.6000_lt0.0025.nc"
       ]
      },
      {
       "output_type": "stream",
       "stream": "stdout",
       "text": [
        "\n",
        "/Users/hoonhout/GitHub/aeolis-models/dong2004-py/dong2004_u22_L10.0_bi0.6000_lt0.0025.nc"
       ]
      },
      {
       "output_type": "stream",
       "stream": "stdout",
       "text": [
        "\n",
        "/Users/hoonhout/GitHub/aeolis-models/dong2004-py/dong2004_u22_L12.0_bi0.6000_lt0.0025.nc"
       ]
      },
      {
       "output_type": "stream",
       "stream": "stdout",
       "text": [
        "\n",
        "/Users/hoonhout/GitHub/aeolis-models/dong2004-py/dong2004_u22_L00.5_bi0.6000_lt0.0050.nc"
       ]
      },
      {
       "output_type": "stream",
       "stream": "stdout",
       "text": [
        "\n",
        "/Users/hoonhout/GitHub/aeolis-models/dong2004-py/dong2004_u22_L01.0_bi0.6000_lt0.0050.nc"
       ]
      },
      {
       "output_type": "stream",
       "stream": "stdout",
       "text": [
        "\n",
        "/Users/hoonhout/GitHub/aeolis-models/dong2004-py/dong2004_u22_L02.0_bi0.6000_lt0.0050.nc"
       ]
      },
      {
       "output_type": "stream",
       "stream": "stdout",
       "text": [
        "\n",
        "/Users/hoonhout/GitHub/aeolis-models/dong2004-py/dong2004_u22_L04.0_bi0.6000_lt0.0050.nc"
       ]
      },
      {
       "output_type": "stream",
       "stream": "stdout",
       "text": [
        "\n",
        "/Users/hoonhout/GitHub/aeolis-models/dong2004-py/dong2004_u22_L06.0_bi0.6000_lt0.0050.nc"
       ]
      },
      {
       "output_type": "stream",
       "stream": "stdout",
       "text": [
        "\n",
        "/Users/hoonhout/GitHub/aeolis-models/dong2004-py/dong2004_u22_L08.0_bi0.6000_lt0.0050.nc"
       ]
      },
      {
       "output_type": "stream",
       "stream": "stdout",
       "text": [
        "\n",
        "/Users/hoonhout/GitHub/aeolis-models/dong2004-py/dong2004_u22_L10.0_bi0.6000_lt0.0050.nc"
       ]
      },
      {
       "output_type": "stream",
       "stream": "stdout",
       "text": [
        "\n",
        "/Users/hoonhout/GitHub/aeolis-models/dong2004-py/dong2004_u22_L12.0_bi0.6000_lt0.0050.nc"
       ]
      },
      {
       "output_type": "stream",
       "stream": "stdout",
       "text": [
        "\n",
        "/Users/hoonhout/GitHub/aeolis-models/dong2004-py/dong2004_u22_L00.5_bi0.6000_lt0.0100.nc"
       ]
      },
      {
       "output_type": "stream",
       "stream": "stdout",
       "text": [
        "\n",
        "/Users/hoonhout/GitHub/aeolis-models/dong2004-py/dong2004_u22_L01.0_bi0.6000_lt0.0100.nc"
       ]
      },
      {
       "output_type": "stream",
       "stream": "stdout",
       "text": [
        "\n",
        "/Users/hoonhout/GitHub/aeolis-models/dong2004-py/dong2004_u22_L02.0_bi0.6000_lt0.0100.nc"
       ]
      },
      {
       "output_type": "stream",
       "stream": "stdout",
       "text": [
        "\n",
        "/Users/hoonhout/GitHub/aeolis-models/dong2004-py/dong2004_u22_L04.0_bi0.6000_lt0.0100.nc"
       ]
      },
      {
       "output_type": "stream",
       "stream": "stdout",
       "text": [
        "\n",
        "/Users/hoonhout/GitHub/aeolis-models/dong2004-py/dong2004_u22_L06.0_bi0.6000_lt0.0100.nc"
       ]
      },
      {
       "output_type": "stream",
       "stream": "stdout",
       "text": [
        "\n",
        "/Users/hoonhout/GitHub/aeolis-models/dong2004-py/dong2004_u22_L08.0_bi0.6000_lt0.0100.nc"
       ]
      },
      {
       "output_type": "stream",
       "stream": "stdout",
       "text": [
        "\n",
        "/Users/hoonhout/GitHub/aeolis-models/dong2004-py/dong2004_u22_L10.0_bi0.6000_lt0.0100.nc"
       ]
      },
      {
       "output_type": "stream",
       "stream": "stdout",
       "text": [
        "\n",
        "/Users/hoonhout/GitHub/aeolis-models/dong2004-py/dong2004_u22_L12.0_bi0.6000_lt0.0100.nc"
       ]
      },
      {
       "output_type": "stream",
       "stream": "stdout",
       "text": [
        "\n",
        "/Users/hoonhout/GitHub/aeolis-models/dong2004-py/dong2004_u22_L00.5_bi0.6000_lt0.0200.nc"
       ]
      },
      {
       "output_type": "stream",
       "stream": "stdout",
       "text": [
        "\n",
        "/Users/hoonhout/GitHub/aeolis-models/dong2004-py/dong2004_u22_L01.0_bi0.6000_lt0.0200.nc"
       ]
      },
      {
       "output_type": "stream",
       "stream": "stdout",
       "text": [
        "\n",
        "/Users/hoonhout/GitHub/aeolis-models/dong2004-py/dong2004_u22_L02.0_bi0.6000_lt0.0200.nc"
       ]
      },
      {
       "output_type": "stream",
       "stream": "stdout",
       "text": [
        "\n",
        "/Users/hoonhout/GitHub/aeolis-models/dong2004-py/dong2004_u22_L04.0_bi0.6000_lt0.0200.nc"
       ]
      },
      {
       "output_type": "stream",
       "stream": "stdout",
       "text": [
        "\n",
        "/Users/hoonhout/GitHub/aeolis-models/dong2004-py/dong2004_u22_L06.0_bi0.6000_lt0.0200.nc"
       ]
      },
      {
       "output_type": "stream",
       "stream": "stdout",
       "text": [
        "\n",
        "/Users/hoonhout/GitHub/aeolis-models/dong2004-py/dong2004_u22_L08.0_bi0.6000_lt0.0200.nc"
       ]
      },
      {
       "output_type": "stream",
       "stream": "stdout",
       "text": [
        "\n",
        "/Users/hoonhout/GitHub/aeolis-models/dong2004-py/dong2004_u22_L10.0_bi0.6000_lt0.0200.nc"
       ]
      },
      {
       "output_type": "stream",
       "stream": "stdout",
       "text": [
        "\n",
        "/Users/hoonhout/GitHub/aeolis-models/dong2004-py/dong2004_u22_L12.0_bi0.6000_lt0.0200.nc"
       ]
      },
      {
       "output_type": "stream",
       "stream": "stdout",
       "text": [
        "\n",
        "/Users/hoonhout/GitHub/aeolis-models/dong2004-py/dong2004_u22_L00.5_bi0.8000_lt0.0010.nc"
       ]
      },
      {
       "output_type": "stream",
       "stream": "stdout",
       "text": [
        "\n",
        "/Users/hoonhout/GitHub/aeolis-models/dong2004-py/dong2004_u22_L01.0_bi0.8000_lt0.0010.nc"
       ]
      },
      {
       "output_type": "stream",
       "stream": "stdout",
       "text": [
        "\n",
        "/Users/hoonhout/GitHub/aeolis-models/dong2004-py/dong2004_u22_L02.0_bi0.8000_lt0.0010.nc"
       ]
      },
      {
       "output_type": "stream",
       "stream": "stdout",
       "text": [
        "\n",
        "/Users/hoonhout/GitHub/aeolis-models/dong2004-py/dong2004_u22_L04.0_bi0.8000_lt0.0010.nc"
       ]
      },
      {
       "output_type": "stream",
       "stream": "stdout",
       "text": [
        "\n",
        "/Users/hoonhout/GitHub/aeolis-models/dong2004-py/dong2004_u22_L06.0_bi0.8000_lt0.0010.nc"
       ]
      },
      {
       "output_type": "stream",
       "stream": "stdout",
       "text": [
        "\n",
        "/Users/hoonhout/GitHub/aeolis-models/dong2004-py/dong2004_u22_L08.0_bi0.8000_lt0.0010.nc"
       ]
      },
      {
       "output_type": "stream",
       "stream": "stdout",
       "text": [
        "\n",
        "/Users/hoonhout/GitHub/aeolis-models/dong2004-py/dong2004_u22_L10.0_bi0.8000_lt0.0010.nc"
       ]
      },
      {
       "output_type": "stream",
       "stream": "stdout",
       "text": [
        "\n",
        "/Users/hoonhout/GitHub/aeolis-models/dong2004-py/dong2004_u22_L12.0_bi0.8000_lt0.0010.nc"
       ]
      },
      {
       "output_type": "stream",
       "stream": "stdout",
       "text": [
        "\n",
        "/Users/hoonhout/GitHub/aeolis-models/dong2004-py/dong2004_u22_L00.5_bi0.8000_lt0.0025.nc"
       ]
      },
      {
       "output_type": "stream",
       "stream": "stdout",
       "text": [
        "\n",
        "/Users/hoonhout/GitHub/aeolis-models/dong2004-py/dong2004_u22_L01.0_bi0.8000_lt0.0025.nc"
       ]
      },
      {
       "output_type": "stream",
       "stream": "stdout",
       "text": [
        "\n",
        "/Users/hoonhout/GitHub/aeolis-models/dong2004-py/dong2004_u22_L02.0_bi0.8000_lt0.0025.nc"
       ]
      },
      {
       "output_type": "stream",
       "stream": "stdout",
       "text": [
        "\n",
        "/Users/hoonhout/GitHub/aeolis-models/dong2004-py/dong2004_u22_L04.0_bi0.8000_lt0.0025.nc"
       ]
      },
      {
       "output_type": "stream",
       "stream": "stdout",
       "text": [
        "\n",
        "/Users/hoonhout/GitHub/aeolis-models/dong2004-py/dong2004_u22_L06.0_bi0.8000_lt0.0025.nc"
       ]
      },
      {
       "output_type": "stream",
       "stream": "stdout",
       "text": [
        "\n",
        "/Users/hoonhout/GitHub/aeolis-models/dong2004-py/dong2004_u22_L08.0_bi0.8000_lt0.0025.nc"
       ]
      },
      {
       "output_type": "stream",
       "stream": "stdout",
       "text": [
        "\n",
        "/Users/hoonhout/GitHub/aeolis-models/dong2004-py/dong2004_u22_L10.0_bi0.8000_lt0.0025.nc"
       ]
      },
      {
       "output_type": "stream",
       "stream": "stdout",
       "text": [
        "\n",
        "/Users/hoonhout/GitHub/aeolis-models/dong2004-py/dong2004_u22_L12.0_bi0.8000_lt0.0025.nc"
       ]
      },
      {
       "output_type": "stream",
       "stream": "stdout",
       "text": [
        "\n",
        "/Users/hoonhout/GitHub/aeolis-models/dong2004-py/dong2004_u22_L00.5_bi0.8000_lt0.0050.nc"
       ]
      },
      {
       "output_type": "stream",
       "stream": "stdout",
       "text": [
        "\n",
        "/Users/hoonhout/GitHub/aeolis-models/dong2004-py/dong2004_u22_L01.0_bi0.8000_lt0.0050.nc"
       ]
      },
      {
       "output_type": "stream",
       "stream": "stdout",
       "text": [
        "\n",
        "/Users/hoonhout/GitHub/aeolis-models/dong2004-py/dong2004_u22_L02.0_bi0.8000_lt0.0050.nc"
       ]
      },
      {
       "output_type": "stream",
       "stream": "stdout",
       "text": [
        "\n",
        "/Users/hoonhout/GitHub/aeolis-models/dong2004-py/dong2004_u22_L04.0_bi0.8000_lt0.0050.nc"
       ]
      },
      {
       "output_type": "stream",
       "stream": "stdout",
       "text": [
        "\n",
        "/Users/hoonhout/GitHub/aeolis-models/dong2004-py/dong2004_u22_L06.0_bi0.8000_lt0.0050.nc"
       ]
      },
      {
       "output_type": "stream",
       "stream": "stdout",
       "text": [
        "\n",
        "/Users/hoonhout/GitHub/aeolis-models/dong2004-py/dong2004_u22_L08.0_bi0.8000_lt0.0050.nc"
       ]
      },
      {
       "output_type": "stream",
       "stream": "stdout",
       "text": [
        "\n",
        "/Users/hoonhout/GitHub/aeolis-models/dong2004-py/dong2004_u22_L10.0_bi0.8000_lt0.0050.nc"
       ]
      },
      {
       "output_type": "stream",
       "stream": "stdout",
       "text": [
        "\n",
        "/Users/hoonhout/GitHub/aeolis-models/dong2004-py/dong2004_u22_L12.0_bi0.8000_lt0.0050.nc"
       ]
      },
      {
       "output_type": "stream",
       "stream": "stdout",
       "text": [
        "\n",
        "/Users/hoonhout/GitHub/aeolis-models/dong2004-py/dong2004_u22_L00.5_bi0.8000_lt0.0100.nc"
       ]
      },
      {
       "output_type": "stream",
       "stream": "stdout",
       "text": [
        "\n",
        "/Users/hoonhout/GitHub/aeolis-models/dong2004-py/dong2004_u22_L01.0_bi0.8000_lt0.0100.nc"
       ]
      },
      {
       "output_type": "stream",
       "stream": "stdout",
       "text": [
        "\n",
        "/Users/hoonhout/GitHub/aeolis-models/dong2004-py/dong2004_u22_L02.0_bi0.8000_lt0.0100.nc"
       ]
      },
      {
       "output_type": "stream",
       "stream": "stdout",
       "text": [
        "\n",
        "/Users/hoonhout/GitHub/aeolis-models/dong2004-py/dong2004_u22_L04.0_bi0.8000_lt0.0100.nc"
       ]
      },
      {
       "output_type": "stream",
       "stream": "stdout",
       "text": [
        "\n",
        "/Users/hoonhout/GitHub/aeolis-models/dong2004-py/dong2004_u22_L06.0_bi0.8000_lt0.0100.nc"
       ]
      },
      {
       "output_type": "stream",
       "stream": "stdout",
       "text": [
        "\n",
        "/Users/hoonhout/GitHub/aeolis-models/dong2004-py/dong2004_u22_L08.0_bi0.8000_lt0.0100.nc"
       ]
      },
      {
       "output_type": "stream",
       "stream": "stdout",
       "text": [
        "\n",
        "/Users/hoonhout/GitHub/aeolis-models/dong2004-py/dong2004_u22_L10.0_bi0.8000_lt0.0100.nc"
       ]
      },
      {
       "output_type": "stream",
       "stream": "stdout",
       "text": [
        "\n",
        "/Users/hoonhout/GitHub/aeolis-models/dong2004-py/dong2004_u22_L12.0_bi0.8000_lt0.0100.nc"
       ]
      },
      {
       "output_type": "stream",
       "stream": "stdout",
       "text": [
        "\n",
        "/Users/hoonhout/GitHub/aeolis-models/dong2004-py/dong2004_u22_L00.5_bi0.8000_lt0.0200.nc"
       ]
      },
      {
       "output_type": "stream",
       "stream": "stdout",
       "text": [
        "\n",
        "/Users/hoonhout/GitHub/aeolis-models/dong2004-py/dong2004_u22_L01.0_bi0.8000_lt0.0200.nc"
       ]
      },
      {
       "output_type": "stream",
       "stream": "stdout",
       "text": [
        "\n",
        "/Users/hoonhout/GitHub/aeolis-models/dong2004-py/dong2004_u22_L02.0_bi0.8000_lt0.0200.nc"
       ]
      },
      {
       "output_type": "stream",
       "stream": "stdout",
       "text": [
        "\n",
        "/Users/hoonhout/GitHub/aeolis-models/dong2004-py/dong2004_u22_L04.0_bi0.8000_lt0.0200.nc"
       ]
      },
      {
       "output_type": "stream",
       "stream": "stdout",
       "text": [
        "\n",
        "/Users/hoonhout/GitHub/aeolis-models/dong2004-py/dong2004_u22_L06.0_bi0.8000_lt0.0200.nc"
       ]
      },
      {
       "output_type": "stream",
       "stream": "stdout",
       "text": [
        "\n",
        "/Users/hoonhout/GitHub/aeolis-models/dong2004-py/dong2004_u22_L08.0_bi0.8000_lt0.0200.nc"
       ]
      },
      {
       "output_type": "stream",
       "stream": "stdout",
       "text": [
        "\n",
        "/Users/hoonhout/GitHub/aeolis-models/dong2004-py/dong2004_u22_L10.0_bi0.8000_lt0.0200.nc"
       ]
      },
      {
       "output_type": "stream",
       "stream": "stdout",
       "text": [
        "\n",
        "/Users/hoonhout/GitHub/aeolis-models/dong2004-py/dong2004_u22_L12.0_bi0.8000_lt0.0200.nc"
       ]
      },
      {
       "output_type": "stream",
       "stream": "stdout",
       "text": [
        "\n",
        "/Users/hoonhout/GitHub/aeolis-models/dong2004-py/dong2004_u22_L00.5_bi1.0000_lt0.0010.nc"
       ]
      },
      {
       "output_type": "stream",
       "stream": "stdout",
       "text": [
        "\n",
        "/Users/hoonhout/GitHub/aeolis-models/dong2004-py/dong2004_u22_L01.0_bi1.0000_lt0.0010.nc"
       ]
      },
      {
       "output_type": "stream",
       "stream": "stdout",
       "text": [
        "\n",
        "/Users/hoonhout/GitHub/aeolis-models/dong2004-py/dong2004_u22_L02.0_bi1.0000_lt0.0010.nc"
       ]
      },
      {
       "output_type": "stream",
       "stream": "stdout",
       "text": [
        "\n",
        "/Users/hoonhout/GitHub/aeolis-models/dong2004-py/dong2004_u22_L04.0_bi1.0000_lt0.0010.nc"
       ]
      },
      {
       "output_type": "stream",
       "stream": "stdout",
       "text": [
        "\n",
        "/Users/hoonhout/GitHub/aeolis-models/dong2004-py/dong2004_u22_L06.0_bi1.0000_lt0.0010.nc"
       ]
      },
      {
       "output_type": "stream",
       "stream": "stdout",
       "text": [
        "\n",
        "/Users/hoonhout/GitHub/aeolis-models/dong2004-py/dong2004_u22_L08.0_bi1.0000_lt0.0010.nc"
       ]
      },
      {
       "output_type": "stream",
       "stream": "stdout",
       "text": [
        "\n",
        "/Users/hoonhout/GitHub/aeolis-models/dong2004-py/dong2004_u22_L10.0_bi1.0000_lt0.0010.nc"
       ]
      },
      {
       "output_type": "stream",
       "stream": "stdout",
       "text": [
        "\n",
        "/Users/hoonhout/GitHub/aeolis-models/dong2004-py/dong2004_u22_L12.0_bi1.0000_lt0.0010.nc"
       ]
      },
      {
       "output_type": "stream",
       "stream": "stdout",
       "text": [
        "\n",
        "/Users/hoonhout/GitHub/aeolis-models/dong2004-py/dong2004_u22_L00.5_bi1.0000_lt0.0025.nc"
       ]
      },
      {
       "output_type": "stream",
       "stream": "stdout",
       "text": [
        "\n",
        "/Users/hoonhout/GitHub/aeolis-models/dong2004-py/dong2004_u22_L01.0_bi1.0000_lt0.0025.nc"
       ]
      },
      {
       "output_type": "stream",
       "stream": "stdout",
       "text": [
        "\n",
        "/Users/hoonhout/GitHub/aeolis-models/dong2004-py/dong2004_u22_L02.0_bi1.0000_lt0.0025.nc"
       ]
      },
      {
       "output_type": "stream",
       "stream": "stdout",
       "text": [
        "\n",
        "/Users/hoonhout/GitHub/aeolis-models/dong2004-py/dong2004_u22_L04.0_bi1.0000_lt0.0025.nc"
       ]
      },
      {
       "output_type": "stream",
       "stream": "stdout",
       "text": [
        "\n",
        "/Users/hoonhout/GitHub/aeolis-models/dong2004-py/dong2004_u22_L06.0_bi1.0000_lt0.0025.nc"
       ]
      },
      {
       "output_type": "stream",
       "stream": "stdout",
       "text": [
        "\n",
        "/Users/hoonhout/GitHub/aeolis-models/dong2004-py/dong2004_u22_L08.0_bi1.0000_lt0.0025.nc"
       ]
      },
      {
       "output_type": "stream",
       "stream": "stdout",
       "text": [
        "\n",
        "/Users/hoonhout/GitHub/aeolis-models/dong2004-py/dong2004_u22_L10.0_bi1.0000_lt0.0025.nc"
       ]
      },
      {
       "output_type": "stream",
       "stream": "stdout",
       "text": [
        "\n",
        "/Users/hoonhout/GitHub/aeolis-models/dong2004-py/dong2004_u22_L12.0_bi1.0000_lt0.0025.nc"
       ]
      },
      {
       "output_type": "stream",
       "stream": "stdout",
       "text": [
        "\n",
        "/Users/hoonhout/GitHub/aeolis-models/dong2004-py/dong2004_u22_L00.5_bi1.0000_lt0.0050.nc"
       ]
      },
      {
       "output_type": "stream",
       "stream": "stdout",
       "text": [
        "\n",
        "/Users/hoonhout/GitHub/aeolis-models/dong2004-py/dong2004_u22_L01.0_bi1.0000_lt0.0050.nc"
       ]
      },
      {
       "output_type": "stream",
       "stream": "stdout",
       "text": [
        "\n",
        "/Users/hoonhout/GitHub/aeolis-models/dong2004-py/dong2004_u22_L02.0_bi1.0000_lt0.0050.nc"
       ]
      },
      {
       "output_type": "stream",
       "stream": "stdout",
       "text": [
        "\n",
        "/Users/hoonhout/GitHub/aeolis-models/dong2004-py/dong2004_u22_L04.0_bi1.0000_lt0.0050.nc"
       ]
      },
      {
       "output_type": "stream",
       "stream": "stdout",
       "text": [
        "\n",
        "/Users/hoonhout/GitHub/aeolis-models/dong2004-py/dong2004_u22_L06.0_bi1.0000_lt0.0050.nc"
       ]
      },
      {
       "output_type": "stream",
       "stream": "stdout",
       "text": [
        "\n",
        "/Users/hoonhout/GitHub/aeolis-models/dong2004-py/dong2004_u22_L08.0_bi1.0000_lt0.0050.nc"
       ]
      },
      {
       "output_type": "stream",
       "stream": "stdout",
       "text": [
        "\n",
        "/Users/hoonhout/GitHub/aeolis-models/dong2004-py/dong2004_u22_L10.0_bi1.0000_lt0.0050.nc"
       ]
      },
      {
       "output_type": "stream",
       "stream": "stdout",
       "text": [
        "\n",
        "/Users/hoonhout/GitHub/aeolis-models/dong2004-py/dong2004_u22_L12.0_bi1.0000_lt0.0050.nc"
       ]
      },
      {
       "output_type": "stream",
       "stream": "stdout",
       "text": [
        "\n",
        "/Users/hoonhout/GitHub/aeolis-models/dong2004-py/dong2004_u22_L00.5_bi1.0000_lt0.0100.nc"
       ]
      },
      {
       "output_type": "stream",
       "stream": "stdout",
       "text": [
        "\n",
        "/Users/hoonhout/GitHub/aeolis-models/dong2004-py/dong2004_u22_L01.0_bi1.0000_lt0.0100.nc"
       ]
      },
      {
       "output_type": "stream",
       "stream": "stdout",
       "text": [
        "\n",
        "/Users/hoonhout/GitHub/aeolis-models/dong2004-py/dong2004_u22_L02.0_bi1.0000_lt0.0100.nc"
       ]
      },
      {
       "output_type": "stream",
       "stream": "stdout",
       "text": [
        "\n",
        "/Users/hoonhout/GitHub/aeolis-models/dong2004-py/dong2004_u22_L04.0_bi1.0000_lt0.0100.nc"
       ]
      },
      {
       "output_type": "stream",
       "stream": "stdout",
       "text": [
        "\n",
        "/Users/hoonhout/GitHub/aeolis-models/dong2004-py/dong2004_u22_L06.0_bi1.0000_lt0.0100.nc"
       ]
      },
      {
       "output_type": "stream",
       "stream": "stdout",
       "text": [
        "\n",
        "/Users/hoonhout/GitHub/aeolis-models/dong2004-py/dong2004_u22_L08.0_bi1.0000_lt0.0100.nc"
       ]
      },
      {
       "output_type": "stream",
       "stream": "stdout",
       "text": [
        "\n",
        "/Users/hoonhout/GitHub/aeolis-models/dong2004-py/dong2004_u22_L10.0_bi1.0000_lt0.0100.nc"
       ]
      },
      {
       "output_type": "stream",
       "stream": "stdout",
       "text": [
        "\n",
        "/Users/hoonhout/GitHub/aeolis-models/dong2004-py/dong2004_u22_L12.0_bi1.0000_lt0.0100.nc"
       ]
      },
      {
       "output_type": "stream",
       "stream": "stdout",
       "text": [
        "\n",
        "/Users/hoonhout/GitHub/aeolis-models/dong2004-py/dong2004_u22_L00.5_bi1.0000_lt0.0200.nc"
       ]
      },
      {
       "output_type": "stream",
       "stream": "stdout",
       "text": [
        "\n",
        "/Users/hoonhout/GitHub/aeolis-models/dong2004-py/dong2004_u22_L01.0_bi1.0000_lt0.0200.nc"
       ]
      },
      {
       "output_type": "stream",
       "stream": "stdout",
       "text": [
        "\n",
        "/Users/hoonhout/GitHub/aeolis-models/dong2004-py/dong2004_u22_L02.0_bi1.0000_lt0.0200.nc"
       ]
      },
      {
       "output_type": "stream",
       "stream": "stdout",
       "text": [
        "\n",
        "/Users/hoonhout/GitHub/aeolis-models/dong2004-py/dong2004_u22_L04.0_bi1.0000_lt0.0200.nc"
       ]
      },
      {
       "output_type": "stream",
       "stream": "stdout",
       "text": [
        "\n",
        "/Users/hoonhout/GitHub/aeolis-models/dong2004-py/dong2004_u22_L06.0_bi1.0000_lt0.0200.nc"
       ]
      },
      {
       "output_type": "stream",
       "stream": "stdout",
       "text": [
        "\n",
        "/Users/hoonhout/GitHub/aeolis-models/dong2004-py/dong2004_u22_L08.0_bi1.0000_lt0.0200.nc"
       ]
      },
      {
       "output_type": "stream",
       "stream": "stdout",
       "text": [
        "\n",
        "/Users/hoonhout/GitHub/aeolis-models/dong2004-py/dong2004_u22_L10.0_bi1.0000_lt0.0200.nc"
       ]
      },
      {
       "output_type": "stream",
       "stream": "stdout",
       "text": [
        "\n",
        "/Users/hoonhout/GitHub/aeolis-models/dong2004-py/dong2004_u22_L12.0_bi1.0000_lt0.0200.nc"
       ]
      },
      {
       "output_type": "stream",
       "stream": "stdout",
       "text": [
        "\n"
       ]
      }
     ],
     "prompt_number": 510
    },
    {
     "cell_type": "code",
     "collapsed": false,
     "input": [
      "fig, axs = subplots(figsize=(10,4))\n",
      "\n",
      "root = '/Users/hoonhout/GitHub/aeolis-models/dong2004-py/'\n",
      "\n",
      "ref = None\n",
      "for u in arr_L:\n",
      "    data = np.nan + np.zeros((len(arr_u,)))\n",
      "    for l, L in enumerate(arr_u):\n",
      "\n",
      "        fname = os.path.join(root, (fmt+'.nc') % (L, u, .0, .001))\n",
      "        if not os.path.exists(fname):\n",
      "            continue\n",
      "        print fname\n",
      "        with xray.open_dataset(fname) as ds:\n",
      "            data[l] = float(ds.Ct[-1,0,-1,:].sum() * ds.uw[-1,0,-1])\n",
      "        \n",
      "    if not ref:\n",
      "        ref = data[0]\n",
      "        \n",
      "    #f1 = meas[u][1,:] / meas[22][1,0]\n",
      "    f2 = np.asarray(data) / ref\n",
      "    \n",
      "    ix = ~np.isnan(f2)\n",
      "    #f2 = f2 - np.nanmean(f2) + np.mean(f1)\n",
      "    \n",
      "    #p1 = axs.plot(f1, '--k', linewidth=u**2/100.)\n",
      "    p2 = axs.plot(f2[ix], '-k', linewidth=u**2/100., label=u)\n",
      "\n",
      "axs.set_xlabel('gravel patch length [m]')\n",
      "axs.set_ylabel('normalized sediment transport\\nat downwind end of the domain [-]')\n",
      "\n",
      "l = axs.legend(p2+p1, ('model results', 'measurements'), loc='lower left')\n",
      "axs.add_artist(l)\n",
      "l = axs.legend(title='wind velocity [m/s]', loc='upper left', bbox_to_anchor=(1., 1.025))\n",
      "\n",
      "#axs.set_ylim((0., 1.))\n",
      "#axs.set_xlim((0., 12))\n",
      "#axs.set_title('bi = %0.4f; lt = %0.4f' % (bi, lt))\n",
      "\n",
      "pos = axs.get_position()\n",
      "pos.x1 -= .1\n",
      "axs.set_position(pos)\n",
      "\n",
      "fig.savefig('/Users/hoonhout/Checkouts/PhD/Journals/grainsize/dong2004_py.pdf')"
     ],
     "language": "python",
     "metadata": {},
     "outputs": [
      {
       "output_type": "stream",
       "stream": "stdout",
       "text": [
        "/Users/hoonhout/GitHub/aeolis-models/dong2004-py/dong2004_u22_L00.5_bi0.2000_lt0.0200.nc\n",
        "/Users/hoonhout/GitHub/aeolis-models/dong2004-py/dong2004_u20_L00.5_bi0.2000_lt0.0200.nc"
       ]
      },
      {
       "output_type": "stream",
       "stream": "stdout",
       "text": [
        "\n",
        "/Users/hoonhout/GitHub/aeolis-models/dong2004-py/dong2004_u18_L00.5_bi0.2000_lt0.0200.nc"
       ]
      },
      {
       "output_type": "stream",
       "stream": "stdout",
       "text": [
        "\n",
        "/Users/hoonhout/GitHub/aeolis-models/dong2004-py/dong2004_u16_L00.5_bi0.2000_lt0.0200.nc"
       ]
      },
      {
       "output_type": "stream",
       "stream": "stdout",
       "text": [
        "\n",
        "/Users/hoonhout/GitHub/aeolis-models/dong2004-py/dong2004_u14_L00.5_bi0.2000_lt0.0200.nc"
       ]
      },
      {
       "output_type": "stream",
       "stream": "stdout",
       "text": [
        "\n",
        "/Users/hoonhout/GitHub/aeolis-models/dong2004-py/dong2004_u12_L00.5_bi0.2000_lt0.0200.nc"
       ]
      },
      {
       "output_type": "stream",
       "stream": "stdout",
       "text": [
        "\n",
        "/Users/hoonhout/GitHub/aeolis-models/dong2004-py/dong2004_u10_L00.5_bi0.2000_lt0.0200.nc"
       ]
      },
      {
       "output_type": "stream",
       "stream": "stdout",
       "text": [
        "\n",
        "/Users/hoonhout/GitHub/aeolis-models/dong2004-py/dong2004_u08_L00.5_bi0.2000_lt0.0200.nc"
       ]
      },
      {
       "output_type": "stream",
       "stream": "stdout",
       "text": [
        "\n",
        "/Users/hoonhout/GitHub/aeolis-models/dong2004-py/dong2004_u22_L01.0_bi0.2000_lt0.0200.nc"
       ]
      },
      {
       "output_type": "stream",
       "stream": "stdout",
       "text": [
        "\n",
        "/Users/hoonhout/GitHub/aeolis-models/dong2004-py/dong2004_u20_L01.0_bi0.2000_lt0.0200.nc"
       ]
      },
      {
       "output_type": "stream",
       "stream": "stdout",
       "text": [
        "\n",
        "/Users/hoonhout/GitHub/aeolis-models/dong2004-py/dong2004_u18_L01.0_bi0.2000_lt0.0200.nc"
       ]
      },
      {
       "output_type": "stream",
       "stream": "stdout",
       "text": [
        "\n",
        "/Users/hoonhout/GitHub/aeolis-models/dong2004-py/dong2004_u16_L01.0_bi0.2000_lt0.0200.nc"
       ]
      },
      {
       "output_type": "stream",
       "stream": "stdout",
       "text": [
        "\n",
        "/Users/hoonhout/GitHub/aeolis-models/dong2004-py/dong2004_u14_L01.0_bi0.2000_lt0.0200.nc"
       ]
      },
      {
       "output_type": "stream",
       "stream": "stdout",
       "text": [
        "\n",
        "/Users/hoonhout/GitHub/aeolis-models/dong2004-py/dong2004_u12_L01.0_bi0.2000_lt0.0200.nc"
       ]
      },
      {
       "output_type": "stream",
       "stream": "stdout",
       "text": [
        "\n",
        "/Users/hoonhout/GitHub/aeolis-models/dong2004-py/dong2004_u10_L01.0_bi0.2000_lt0.0200.nc"
       ]
      },
      {
       "output_type": "stream",
       "stream": "stdout",
       "text": [
        "\n",
        "/Users/hoonhout/GitHub/aeolis-models/dong2004-py/dong2004_u22_L02.0_bi0.2000_lt0.0200.nc"
       ]
      },
      {
       "output_type": "stream",
       "stream": "stdout",
       "text": [
        "\n",
        "/Users/hoonhout/GitHub/aeolis-models/dong2004-py/dong2004_u20_L02.0_bi0.2000_lt0.0200.nc"
       ]
      },
      {
       "output_type": "stream",
       "stream": "stdout",
       "text": [
        "\n",
        "/Users/hoonhout/GitHub/aeolis-models/dong2004-py/dong2004_u18_L02.0_bi0.2000_lt0.0200.nc"
       ]
      },
      {
       "output_type": "stream",
       "stream": "stdout",
       "text": [
        "\n",
        "/Users/hoonhout/GitHub/aeolis-models/dong2004-py/dong2004_u16_L02.0_bi0.2000_lt0.0200.nc"
       ]
      },
      {
       "output_type": "stream",
       "stream": "stdout",
       "text": [
        "\n",
        "/Users/hoonhout/GitHub/aeolis-models/dong2004-py/dong2004_u14_L02.0_bi0.2000_lt0.0200.nc"
       ]
      },
      {
       "output_type": "stream",
       "stream": "stdout",
       "text": [
        "\n",
        "/Users/hoonhout/GitHub/aeolis-models/dong2004-py/dong2004_u12_L02.0_bi0.2000_lt0.0200.nc"
       ]
      },
      {
       "output_type": "stream",
       "stream": "stdout",
       "text": [
        "\n",
        "/Users/hoonhout/GitHub/aeolis-models/dong2004-py/dong2004_u10_L02.0_bi0.2000_lt0.0200.nc"
       ]
      },
      {
       "output_type": "stream",
       "stream": "stdout",
       "text": [
        "\n",
        "/Users/hoonhout/GitHub/aeolis-models/dong2004-py/dong2004_u08_L02.0_bi0.2000_lt0.0200.nc"
       ]
      },
      {
       "output_type": "stream",
       "stream": "stdout",
       "text": [
        "\n",
        "/Users/hoonhout/GitHub/aeolis-models/dong2004-py/dong2004_u22_L04.0_bi0.2000_lt0.0200.nc"
       ]
      },
      {
       "output_type": "stream",
       "stream": "stdout",
       "text": [
        "\n",
        "/Users/hoonhout/GitHub/aeolis-models/dong2004-py/dong2004_u20_L04.0_bi0.2000_lt0.0200.nc"
       ]
      },
      {
       "output_type": "stream",
       "stream": "stdout",
       "text": [
        "\n",
        "/Users/hoonhout/GitHub/aeolis-models/dong2004-py/dong2004_u18_L04.0_bi0.2000_lt0.0200.nc"
       ]
      },
      {
       "output_type": "stream",
       "stream": "stdout",
       "text": [
        "\n",
        "/Users/hoonhout/GitHub/aeolis-models/dong2004-py/dong2004_u16_L04.0_bi0.2000_lt0.0200.nc"
       ]
      },
      {
       "output_type": "stream",
       "stream": "stdout",
       "text": [
        "\n",
        "/Users/hoonhout/GitHub/aeolis-models/dong2004-py/dong2004_u14_L04.0_bi0.2000_lt0.0200.nc"
       ]
      },
      {
       "output_type": "stream",
       "stream": "stdout",
       "text": [
        "\n",
        "/Users/hoonhout/GitHub/aeolis-models/dong2004-py/dong2004_u12_L04.0_bi0.2000_lt0.0200.nc"
       ]
      },
      {
       "output_type": "stream",
       "stream": "stdout",
       "text": [
        "\n",
        "/Users/hoonhout/GitHub/aeolis-models/dong2004-py/dong2004_u10_L04.0_bi0.2000_lt0.0200.nc"
       ]
      },
      {
       "output_type": "stream",
       "stream": "stdout",
       "text": [
        "\n",
        "/Users/hoonhout/GitHub/aeolis-models/dong2004-py/dong2004_u08_L04.0_bi0.2000_lt0.0200.nc"
       ]
      },
      {
       "output_type": "stream",
       "stream": "stdout",
       "text": [
        "\n",
        "/Users/hoonhout/GitHub/aeolis-models/dong2004-py/dong2004_u22_L06.0_bi0.2000_lt0.0200.nc"
       ]
      },
      {
       "output_type": "stream",
       "stream": "stdout",
       "text": [
        "\n",
        "/Users/hoonhout/GitHub/aeolis-models/dong2004-py/dong2004_u20_L06.0_bi0.2000_lt0.0200.nc"
       ]
      },
      {
       "output_type": "stream",
       "stream": "stdout",
       "text": [
        "\n",
        "/Users/hoonhout/GitHub/aeolis-models/dong2004-py/dong2004_u18_L06.0_bi0.2000_lt0.0200.nc"
       ]
      },
      {
       "output_type": "stream",
       "stream": "stdout",
       "text": [
        "\n",
        "/Users/hoonhout/GitHub/aeolis-models/dong2004-py/dong2004_u16_L06.0_bi0.2000_lt0.0200.nc"
       ]
      },
      {
       "output_type": "stream",
       "stream": "stdout",
       "text": [
        "\n",
        "/Users/hoonhout/GitHub/aeolis-models/dong2004-py/dong2004_u14_L06.0_bi0.2000_lt0.0200.nc"
       ]
      },
      {
       "output_type": "stream",
       "stream": "stdout",
       "text": [
        "\n",
        "/Users/hoonhout/GitHub/aeolis-models/dong2004-py/dong2004_u12_L06.0_bi0.2000_lt0.0200.nc"
       ]
      },
      {
       "output_type": "stream",
       "stream": "stdout",
       "text": [
        "\n",
        "/Users/hoonhout/GitHub/aeolis-models/dong2004-py/dong2004_u10_L06.0_bi0.2000_lt0.0200.nc"
       ]
      },
      {
       "output_type": "stream",
       "stream": "stdout",
       "text": [
        "\n",
        "/Users/hoonhout/GitHub/aeolis-models/dong2004-py/dong2004_u08_L06.0_bi0.2000_lt0.0200.nc"
       ]
      },
      {
       "output_type": "stream",
       "stream": "stdout",
       "text": [
        "\n",
        "/Users/hoonhout/GitHub/aeolis-models/dong2004-py/dong2004_u22_L08.0_bi0.2000_lt0.0200.nc"
       ]
      },
      {
       "output_type": "stream",
       "stream": "stdout",
       "text": [
        "\n",
        "/Users/hoonhout/GitHub/aeolis-models/dong2004-py/dong2004_u20_L08.0_bi0.2000_lt0.0200.nc"
       ]
      },
      {
       "output_type": "stream",
       "stream": "stdout",
       "text": [
        "\n",
        "/Users/hoonhout/GitHub/aeolis-models/dong2004-py/dong2004_u18_L08.0_bi0.2000_lt0.0200.nc"
       ]
      },
      {
       "output_type": "stream",
       "stream": "stdout",
       "text": [
        "\n",
        "/Users/hoonhout/GitHub/aeolis-models/dong2004-py/dong2004_u16_L08.0_bi0.2000_lt0.0200.nc"
       ]
      },
      {
       "output_type": "stream",
       "stream": "stdout",
       "text": [
        "\n",
        "/Users/hoonhout/GitHub/aeolis-models/dong2004-py/dong2004_u14_L08.0_bi0.2000_lt0.0200.nc"
       ]
      },
      {
       "output_type": "stream",
       "stream": "stdout",
       "text": [
        "\n",
        "/Users/hoonhout/GitHub/aeolis-models/dong2004-py/dong2004_u12_L08.0_bi0.2000_lt0.0200.nc"
       ]
      },
      {
       "output_type": "stream",
       "stream": "stdout",
       "text": [
        "\n",
        "/Users/hoonhout/GitHub/aeolis-models/dong2004-py/dong2004_u10_L08.0_bi0.2000_lt0.0200.nc"
       ]
      },
      {
       "output_type": "stream",
       "stream": "stdout",
       "text": [
        "\n",
        "/Users/hoonhout/GitHub/aeolis-models/dong2004-py/dong2004_u08_L08.0_bi0.2000_lt0.0200.nc"
       ]
      },
      {
       "output_type": "stream",
       "stream": "stdout",
       "text": [
        "\n",
        "/Users/hoonhout/GitHub/aeolis-models/dong2004-py/dong2004_u22_L10.0_bi0.2000_lt0.0200.nc"
       ]
      },
      {
       "output_type": "stream",
       "stream": "stdout",
       "text": [
        "\n",
        "/Users/hoonhout/GitHub/aeolis-models/dong2004-py/dong2004_u20_L10.0_bi0.2000_lt0.0200.nc"
       ]
      },
      {
       "output_type": "stream",
       "stream": "stdout",
       "text": [
        "\n",
        "/Users/hoonhout/GitHub/aeolis-models/dong2004-py/dong2004_u18_L10.0_bi0.2000_lt0.0200.nc"
       ]
      },
      {
       "output_type": "stream",
       "stream": "stdout",
       "text": [
        "\n",
        "/Users/hoonhout/GitHub/aeolis-models/dong2004-py/dong2004_u16_L10.0_bi0.2000_lt0.0200.nc"
       ]
      },
      {
       "output_type": "stream",
       "stream": "stdout",
       "text": [
        "\n",
        "/Users/hoonhout/GitHub/aeolis-models/dong2004-py/dong2004_u14_L10.0_bi0.2000_lt0.0200.nc"
       ]
      },
      {
       "output_type": "stream",
       "stream": "stdout",
       "text": [
        "\n",
        "/Users/hoonhout/GitHub/aeolis-models/dong2004-py/dong2004_u12_L10.0_bi0.2000_lt0.0200.nc"
       ]
      },
      {
       "output_type": "stream",
       "stream": "stdout",
       "text": [
        "\n",
        "/Users/hoonhout/GitHub/aeolis-models/dong2004-py/dong2004_u10_L10.0_bi0.2000_lt0.0200.nc"
       ]
      },
      {
       "output_type": "stream",
       "stream": "stdout",
       "text": [
        "\n",
        "/Users/hoonhout/GitHub/aeolis-models/dong2004-py/dong2004_u08_L10.0_bi0.2000_lt0.0200.nc"
       ]
      },
      {
       "output_type": "stream",
       "stream": "stdout",
       "text": [
        "\n",
        "/Users/hoonhout/GitHub/aeolis-models/dong2004-py/dong2004_u22_L12.0_bi0.2000_lt0.0200.nc"
       ]
      },
      {
       "output_type": "stream",
       "stream": "stdout",
       "text": [
        "\n",
        "/Users/hoonhout/GitHub/aeolis-models/dong2004-py/dong2004_u20_L12.0_bi0.2000_lt0.0200.nc"
       ]
      },
      {
       "output_type": "stream",
       "stream": "stdout",
       "text": [
        "\n",
        "/Users/hoonhout/GitHub/aeolis-models/dong2004-py/dong2004_u18_L12.0_bi0.2000_lt0.0200.nc"
       ]
      },
      {
       "output_type": "stream",
       "stream": "stdout",
       "text": [
        "\n",
        "/Users/hoonhout/GitHub/aeolis-models/dong2004-py/dong2004_u16_L12.0_bi0.2000_lt0.0200.nc"
       ]
      },
      {
       "output_type": "stream",
       "stream": "stdout",
       "text": [
        "\n",
        "/Users/hoonhout/GitHub/aeolis-models/dong2004-py/dong2004_u14_L12.0_bi0.2000_lt0.0200.nc"
       ]
      },
      {
       "output_type": "stream",
       "stream": "stdout",
       "text": [
        "\n",
        "/Users/hoonhout/GitHub/aeolis-models/dong2004-py/dong2004_u12_L12.0_bi0.2000_lt0.0200.nc"
       ]
      },
      {
       "output_type": "stream",
       "stream": "stdout",
       "text": [
        "\n",
        "/Users/hoonhout/GitHub/aeolis-models/dong2004-py/dong2004_u10_L12.0_bi0.2000_lt0.0200.nc"
       ]
      },
      {
       "output_type": "stream",
       "stream": "stdout",
       "text": [
        "\n",
        "/Users/hoonhout/GitHub/aeolis-models/dong2004-py/dong2004_u08_L12.0_bi0.2000_lt0.0200.nc"
       ]
      },
      {
       "output_type": "stream",
       "stream": "stdout",
       "text": [
        "\n"
       ]
      },
      {
       "metadata": {},
       "output_type": "display_data",
       "png": "[encoded data removed]",
       "text": [
        "<matplotlib.figure.Figure at 0x11a1e8f10>"
       ]
      }
     ],
     "prompt_number": 526
    },
    {
     "cell_type": "code",
     "collapsed": false,
     "input": [],
     "language": "python",
     "metadata": {},
     "outputs": [],
     "prompt_number": 526
    },
    {
     "cell_type": "code",
     "collapsed": false,
     "input": [
      "fig, axs = subplots(2, 2, figsize=(10,10))\n",
      "\n",
      "for i, u in enumerate(arr_u):\n",
      "    y = []\n",
      "    for j, L in enumerate(arr_L):\n",
      "        fname = os.path.join(root, 'dong2004_u%02d_L%04.1f_bi0.2000_lt0.0100.nc' % (u, L))\n",
      "        if not os.path.exists(fname):\n",
      "            y.append(np.nan)\n",
      "            continue\n",
      "        #print fname\n",
      "        with xray.open_dataset(fname) as ds:\n",
      "            y.append(ds.Ct[-1,0,-1,:].sum(axis=-1) * ds.uw[-1,0,-1] * 1.2)\n",
      "\n",
      "    Stot = np.sum((meas[:,i] - np.mean(meas[:,i]))**2)\n",
      "    Sres = np.sum((meas[:,i] - np.asarray(y))**2)\n",
      "    print 1. - Sres/Stot\n",
      "            \n",
      "    axs[0,0].plot(arr_u, y, '-o')\n",
      "    axs[0,1].plot(arr_u, meas[:,i], '-o')\n",
      "    axs[1,0].plot(arr_u, (y - meas[:,i])/meas[:,i], '-o')\n",
      "    \n",
      "    for ax in axs[0,:]:\n",
      "        ax.set_ylim((0,1))"
     ],
     "language": "python",
     "metadata": {},
     "outputs": [
      {
       "output_type": "stream",
       "stream": "stdout",
       "text": [
        "nan\n",
        "-7.88560572306"
       ]
      },
      {
       "output_type": "stream",
       "stream": "stdout",
       "text": [
        "\n",
        "-13.4544126087"
       ]
      },
      {
       "output_type": "stream",
       "stream": "stdout",
       "text": [
        "\n",
        "-18.9746235674"
       ]
      },
      {
       "output_type": "stream",
       "stream": "stdout",
       "text": [
        "\n",
        "-12.2292086987"
       ]
      },
      {
       "output_type": "stream",
       "stream": "stdout",
       "text": [
        "\n",
        "-6.9522024774"
       ]
      },
      {
       "output_type": "stream",
       "stream": "stdout",
       "text": [
        "\n",
        "-9.07871984074"
       ]
      },
      {
       "output_type": "stream",
       "stream": "stdout",
       "text": [
        "\n",
        "-28.287008391"
       ]
      },
      {
       "output_type": "stream",
       "stream": "stdout",
       "text": [
        "\n"
       ]
      },
      {
       "metadata": {},
       "output_type": "display_data",
       "png": "[encoded data removed]",
       "text": [
        "<matplotlib.figure.Figure at 0x11ad8e090>"
       ]
      }
     ],
     "prompt_number": 133
    },
    {
     "cell_type": "code",
     "collapsed": false,
     "input": [
      "import os\n",
      "import xray\n",
      "\n",
      "root = '/Users/hoonhout/GitHub/aeolis-models/dong2004-py/'\n",
      "#root = '/Users/hoonhout/GitHub/aeolis-models/jgr/dong2004/'\n",
      "\n",
      "arr_u\n",
      "\n",
      "meas = np.loadtxt(os.path.join(root, 'measurements.txt'))[1:,1:] / 10.\n",
      "SStot = np.nansum((meas - np.nanmean(meas, axis=0))**2, axis=0)\n",
      "\n",
      "for bi in [.05]: #[0., .05, .01, .02, .03, .04]: #arr_bi:\n",
      "    \n",
      "    E = np.inf + np.zeros(meas.shape)\n",
      "    Q = np.inf + np.zeros(meas.shape)\n",
      "    \n",
      "    for i, u in enumerate(arr_u):\n",
      "        for j, L in enumerate(arr_L):\n",
      "                k = .01\n",
      "                fname = os.path.join(root, 'dong2004_u%02d_L%04.1f_bi%0.4f_k%0.4f.nc' % (u, L, bi, k))\n",
      "                if not os.path.exists(fname):\n",
      "                    continue\n",
      "                with xray.open_dataset(fname) as ds:\n",
      "                    q = ds.Ct[-1,0,-1,:].sum(axis=-1) * u\n",
      "                    E[j,i] = (q - meas[j,i])**2\n",
      "                    Q[j,i] = q\n",
      "\n",
      "    E[E>1e9] = np.nan\n",
      "    Q[Q>1e9] = np.nan\n",
      "    \n",
      "    SStot = np.nansum((meas - np.nanmean(meas, axis=0))**2, axis=0)\n",
      "    SSres = np.nansum(E, axis=0)\n",
      "    r2 = 1. - SSres/SStot\n",
      "\n",
      "    print bi, np.sqrt(np.nanmean(E)), np.nanmean(r2)"
     ],
     "language": "python",
     "metadata": {},
     "outputs": [
      {
       "output_type": "stream",
       "stream": "stdout",
       "text": [
        "0.05 0.053172686877 -1.50864248467\n"
       ]
      }
     ],
     "prompt_number": 105
    },
    {
     "cell_type": "code",
     "collapsed": false,
     "input": [],
     "language": "python",
     "metadata": {},
     "outputs": [],
     "prompt_number": 105
    },
    {
     "cell_type": "code",
     "collapsed": false,
     "input": [],
     "language": "python",
     "metadata": {},
     "outputs": [],
     "prompt_number": 105
    },
    {
     "cell_type": "code",
     "collapsed": false,
     "input": [
      "fig, axs = plt.subplots(1, 2, figsize=(10,4), gridspec_kw={'width_ratios':[2,1]})\n",
      "\n",
      "rmse = np.sqrt(np.nanmean(E, axis=0))\n",
      "\n",
      "p1 = axs[0].plot(arr_L, meas, '--ok', linewidth=2)[0]\n",
      "p2 = axs[0].plot(arr_L, Q, '-k', linewidth=2)[0]\n",
      "axs[0].set_xlabel('gravel patch length [m]')\n",
      "axs[0].set_ylabel('sediment transport rate\\nat downwind end of domain [kg/m/s]')\n",
      "axs[0].set_ylim((0,1.2))\n",
      "axs[0].set_xlim((0,12))\n",
      "axs[0].set_xticks(arr_L)\n",
      "axs[0].set_xticklabels(arr_L)\n",
      "\n",
      "for i in range(Q.shape[1])[2:]:\n",
      "    axs[0].annotate(' %d m/s' % (arr_u[i]), xy=(12, Q[-1,i]), ha='left', va='center')\n",
      "\n",
      "axs[1].barh(arr_u, np.sqrt(np.nanmean(E[2:,:], axis=0)) / np.nanmean(meas[2:,:], axis=0), color='k', align='center')\n",
      "#axs[1].set_xlim((0,.1))\n",
      "axs[1].set_ylim((7, 23))\n",
      "axs[1].set_yticks(arr_u)\n",
      "axs[1].set_yticklabels(arr_u)\n",
      "axs[1].set_ylabel('wind speed [m/s]')\n",
      "axs[1].set_xlabel('relative RMSE [-]')\n",
      "axs[1].yaxis.set_ticks_position('right')\n",
      "axs[1].yaxis.set_label_position('right')\n",
      "axs[1].grid()\n",
      "\n",
      "axs[0].legend((p1, p2), ('measurements', 'model results'), loc='upper right')\n",
      "\n",
      "fig.savefig('/Users/hoonhout/Checkouts/PhD/Thesis2/dong2004_py.pdf')"
     ],
     "language": "python",
     "metadata": {},
     "outputs": [
      {
       "metadata": {},
       "output_type": "display_data",
       "png": "[encoded data removed]",
       "text": [
        "<matplotlib.figure.Figure at 0x10d065bd0>"
       ]
      }
     ],
     "prompt_number": 106
    },
    {
     "cell_type": "code",
     "collapsed": false,
     "input": [
      "import glob\n",
      "for fname in glob.glob('/Users/hoonhout/GitHub/aeolis-models/jgr/dong2004/dong2004_u*.nc'):\n",
      "    with xray.open_dataset(fname) as ds:\n",
      "        #plot(ds.uth[-1,0,:,:])\n",
      "        #plot(ds.Cu[-1,0,:,:])\n",
      "        plot(ds.Ct[-1,0,:,:].sum(axis=-1).T)\n",
      "        #plot(ds.mass[:,0,150,0,:].T)\n",
      "        #plot((ds.Ct[-1,0,:,:]/ds.Cu[-1,0,:,:]).sum(axis=-1))\n",
      "        #plot(ds.w[:,0,109,:].T, '-k')\n",
      "        #plot(ds.w[-1,0,:,:], '-r')"
     ],
     "language": "python",
     "metadata": {},
     "outputs": [
      {
       "metadata": {},
       "output_type": "display_data",
       "png": "[encoded data removed]",
       "text": [
        "<matplotlib.figure.Figure at 0x109724350>"
       ]
      }
     ],
     "prompt_number": 17
    },
    {
     "cell_type": "code",
     "collapsed": false,
     "input": [
      "for i in range(len(arr_u)):\n",
      "    SStot = np.nansum((meas[:,i] - np.nanmean(meas[:,i]))**2)\n",
      "    SSres = np.nansum((meas[:,i] - np.nanmean(meas[:,i]) - Q[:,i] + np.nanmean(Q[:,i]))**2)\n",
      "    print arr_u[i], 1. - SSres/SStot"
     ],
     "language": "python",
     "metadata": {},
     "outputs": [
      {
       "output_type": "stream",
       "stream": "stdout",
       "text": [
        "8 -1.5683985236\n",
        "10 -0.750650930202\n",
        "12 -1.32026015655\n",
        "14 0.00210947976182\n",
        "16 0.614780445777\n",
        "18 0.745074987488\n",
        "20 0.572522702666\n",
        "22 0.840074077014\n"
       ]
      }
     ],
     "prompt_number": 215
    },
    {
     "cell_type": "code",
     "collapsed": false,
     "input": [
      "fig, axs = subplots(1, 2, figsize=(10,4))\n",
      "\n",
      "r2_avg = np.nanmean(np.nanmean(r2, axis=-1), axis=-1)\n",
      "r2_avg = np.nanmean(r2[:,:,0,:], axis=-1)\n",
      "\n",
      "axs[0].plot(np.asarray(arr_bi), r2_avg, '-o')\n",
      "axs[0].legend(arr_lt, loc='upper right', title='lt')\n",
      "axs[0].set_ylim((0.,1.))\n",
      "\n",
      "axs[1].plot(np.asarray(arr_lt), r2_avg.T, '-o')\n",
      "axs[1].legend(arr_bi, loc='upper right', title='bi')\n",
      "axs[1].set_ylim((0.,1.))"
     ],
     "language": "python",
     "metadata": {},
     "outputs": [
      {
       "metadata": {},
       "output_type": "pyout",
       "prompt_number": 512,
       "text": [
        "(0.0, 1.0)"
       ]
      },
      {
       "metadata": {},
       "output_type": "display_data",
       "png": "[encoded data removed]",
       "text": [
        "<matplotlib.figure.Figure at 0x11b657510>"
       ]
      }
     ],
     "prompt_number": 512
    },
    {
     "cell_type": "code",
     "collapsed": false,
     "input": [],
     "language": "python",
     "metadata": {},
     "outputs": [],
     "prompt_number": 12
    },
    {
     "cell_type": "code",
     "collapsed": false,
     "input": [],
     "language": "python",
     "metadata": {},
     "outputs": [],
     "prompt_number": 4
    },
    {
     "cell_type": "code",
     "collapsed": false,
     "input": [],
     "language": "python",
     "metadata": {},
     "outputs": [],
     "prompt_number": 124
    },
    {
     "cell_type": "code",
     "collapsed": false,
     "input": [],
     "language": "python",
     "metadata": {},
     "outputs": [],
     "prompt_number": 124
    },
    {
     "cell_type": "code",
     "collapsed": false,
     "input": [],
     "language": "python",
     "metadata": {},
     "outputs": []
    }
   ],
   "metadata": {}
  }
 ]
}